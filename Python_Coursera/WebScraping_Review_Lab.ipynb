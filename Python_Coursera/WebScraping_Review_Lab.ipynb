{
 "cells": [
  {
   "cell_type": "markdown",
   "metadata": {},
   "source": [
    "<p style=\"text-align:center\">\n",
    "    <a href=\"https://skills.network/?utm_medium=Exinfluencer&utm_source=Exinfluencer&utm_content=000026UJ&utm_term=10006555&utm_id=NA-SkillsNetwork-Channel-SkillsNetworkCoursesIBMDeveloperSkillsNetworkPY0220ENSkillsNetwork900-2022-01-01\" target=\"_blank\">\n",
    "    <img src=\"https://cf-courses-data.s3.us.cloud-object-storage.appdomain.cloud/assets/logos/SN_web_lightmode.png\" width=\"200\" alt=\"Skills Network Logo\"  />\n",
    "    </a>\n",
    "</p>\n"
   ]
  },
  {
   "cell_type": "markdown",
   "metadata": {},
   "source": [
    "# **Web Scraping Lab**\n"
   ]
  },
  {
   "cell_type": "markdown",
   "metadata": {},
   "source": [
    "Estimated time needed: **30** minutes\n"
   ]
  },
  {
   "cell_type": "markdown",
   "metadata": {},
   "source": [
    "## Objectives\n"
   ]
  },
  {
   "cell_type": "markdown",
   "metadata": {},
   "source": [
    "After completing this lab you will be able to:\n"
   ]
  },
  {
   "cell_type": "markdown",
   "metadata": {},
   "source": [
    "<h2>Table of Contents</h2>\n",
    "<div class=\"alert alert-block alert-info\" style=\"margin-top: 20px\">\n",
    "    <ul>\n",
    "        <li>\n",
    "            <a href=\"https://bso/?utm_medium=Exinfluencer&utm_source=Exinfluencer&utm_content=000026UJ&utm_term=10006555&utm_id=NA-SkillsNetwork-Channel-SkillsNetworkCoursesIBMDeveloperSkillsNetworkPY0220ENSkillsNetwork23455606-2021-01-01\">Beautiful Soup Object</a>\n",
    "            <ul>\n",
    "                <li>Tag</li>\n",
    "                <li>Children, Parents, and Siblings</li>\n",
    "                <li>HTML Attributes</li>\n",
    "                <li>Navigable String</li>\n",
    "            </ul>\n",
    "        </li>\n",
    "     </ul>\n",
    "    <ul>\n",
    "        <li>\n",
    "            <a href=\"https://filter/?utm_medium=Exinfluencer&utm_source=Exinfluencer&utm_content=000026UJ&utm_term=10006555&utm_id=NA-SkillsNetwork-Channel-SkillsNetworkCoursesIBMDeveloperSkillsNetworkPY0220ENSkillsNetwork23455606-2021-01-01\">Filter</a>\n",
    "            <ul>\n",
    "                <li>find All</li>\n",
    "                <li>find </li>\n",
    "                <li>HTML Attributes</li>\n",
    "                <li>Navigable String</li>\n",
    "            </ul>\n",
    "        </li>\n",
    "     </ul>\n",
    "     <ul>\n",
    "        <li>\n",
    "            <a href=\"https://dscw/?utm_medium=Exinfluencer&utm_source=Exinfluencer&utm_content=000026UJ&utm_term=10006555&utm_id=NA-SkillsNetwork-Channel-SkillsNetworkCoursesIBMDeveloperSkillsNetworkPY0220ENSkillsNetwork23455606-2021-01-01\">Downloading And Scraping The Contents Of A Web</a>\n",
    "    </li>\n",
    "         </ul>\n",
    "    <p>\n",
    "        Estimated time needed: <strong>25 min</strong>\n",
    "    </p>\n",
    "\n",
    "</div>\n",
    "\n",
    "<hr>\n"
   ]
  },
  {
   "cell_type": "markdown",
   "metadata": {},
   "source": [
    "For this lab, we are going to be using Python and several Python libraries. Some of these libraries might be installed in your lab environment or in SN Labs. Others may need to be installed by you. The cells below will install these libraries when executed.\n"
   ]
  },
  {
   "cell_type": "code",
   "execution_count": 8,
   "metadata": {},
   "outputs": [
    {
     "name": "stdout",
     "output_type": "stream",
     "text": [
      "\n",
      "                  __    __    __    __\n",
      "                 /  \\  /  \\  /  \\  /  \\\n",
      "                /    \\/    \\/    \\/    \\\n",
      "███████████████/  /██/  /██/  /██/  /████████████████████████\n",
      "              /  / \\   / \\   / \\   / \\  \\____\n",
      "             /  /   \\_/   \\_/   \\_/   \\    o \\__,\n",
      "            / _/                       \\_____/  `\n",
      "            |/\n",
      "        ███╗   ███╗ █████╗ ███╗   ███╗██████╗  █████╗\n",
      "        ████╗ ████║██╔══██╗████╗ ████║██╔══██╗██╔══██╗\n",
      "        ██╔████╔██║███████║██╔████╔██║██████╔╝███████║\n",
      "        ██║╚██╔╝██║██╔══██║██║╚██╔╝██║██╔══██╗██╔══██║\n",
      "        ██║ ╚═╝ ██║██║  ██║██║ ╚═╝ ██║██████╔╝██║  ██║\n",
      "        ╚═╝     ╚═╝╚═╝  ╚═╝╚═╝     ╚═╝╚═════╝ ╚═╝  ╚═╝\n",
      "\n",
      "        mamba (0.15.3) supported by @QuantStack\n",
      "\n",
      "        GitHub:  https://github.com/mamba-org/mamba\n",
      "        Twitter: https://twitter.com/QuantStack\n",
      "\n",
      "█████████████████████████████████████████████████████████████\n",
      "\n",
      "\n",
      "Looking for: ['bs4==4.10.0']\n",
      "\n",
      "pkgs/main/linux-64       [>                   ] (--:--) No change\n",
      "pkgs/main/linux-64       [====================] (00m:00s) No change\n",
      "pkgs/main/noarch         [>                   ] (--:--) No change\n",
      "pkgs/main/noarch         [====================] (00m:00s) No change\n",
      "pkgs/r/linux-64          [>                   ] (--:--) No change\n",
      "pkgs/r/linux-64          [====================] (00m:00s) No change\n",
      "pkgs/r/noarch            [>                   ] (--:--) No change\n",
      "pkgs/r/noarch            [====================] (00m:00s) No change\n",
      "\n",
      "Pinned packages:\n",
      "  - python 3.7.*\n",
      "\n",
      "\n",
      "Transaction\n",
      "\n",
      "  Prefix: /home/jupyterlab/conda/envs/python\n",
      "\n",
      "  All requested packages already installed\n",
      "\n",
      "Requirement already satisfied: lxml==4.6.4 in /home/jupyterlab/conda/envs/python/lib/python3.7/site-packages (4.6.4)\n",
      "\n",
      "                  __    __    __    __\n",
      "                 /  \\  /  \\  /  \\  /  \\\n",
      "                /    \\/    \\/    \\/    \\\n",
      "███████████████/  /██/  /██/  /██/  /████████████████████████\n",
      "              /  / \\   / \\   / \\   / \\  \\____\n",
      "             /  /   \\_/   \\_/   \\_/   \\    o \\__,\n",
      "            / _/                       \\_____/  `\n",
      "            |/\n",
      "        ███╗   ███╗ █████╗ ███╗   ███╗██████╗  █████╗\n",
      "        ████╗ ████║██╔══██╗████╗ ████║██╔══██╗██╔══██╗\n",
      "        ██╔████╔██║███████║██╔████╔██║██████╔╝███████║\n",
      "        ██║╚██╔╝██║██╔══██║██║╚██╔╝██║██╔══██╗██╔══██║\n",
      "        ██║ ╚═╝ ██║██║  ██║██║ ╚═╝ ██║██████╔╝██║  ██║\n",
      "        ╚═╝     ╚═╝╚═╝  ╚═╝╚═╝     ╚═╝╚═════╝ ╚═╝  ╚═╝\n",
      "\n",
      "        mamba (0.15.3) supported by @QuantStack\n",
      "\n",
      "        GitHub:  https://github.com/mamba-org/mamba\n",
      "        Twitter: https://twitter.com/QuantStack\n",
      "\n",
      "█████████████████████████████████████████████████████████████\n",
      "\n",
      "\n",
      "Looking for: ['html5lib==1.1']\n",
      "\n",
      "pkgs/main/linux-64       Using cache\n",
      "pkgs/main/noarch         Using cache\n",
      "pkgs/r/linux-64          Using cache\n",
      "pkgs/r/noarch            Using cache\n",
      "\n",
      "Pinned packages:\n",
      "  - python 3.7.*\n",
      "\n",
      "\n",
      "Transaction\n",
      "\n",
      "  Prefix: /home/jupyterlab/conda/envs/python\n",
      "\n",
      "  All requested packages already installed\n",
      "\n"
     ]
    }
   ],
   "source": [
    "!mamba install bs4==4.10.0 -y\n",
    "!pip install lxml==4.6.4\n",
    "!mamba install html5lib==1.1 -y\n",
    "# !pip install requests==2.26.0"
   ]
  },
  {
   "cell_type": "markdown",
   "metadata": {},
   "source": [
    "Import the required modules and functions\n"
   ]
  },
  {
   "cell_type": "code",
   "execution_count": 9,
   "metadata": {},
   "outputs": [],
   "source": [
    "from bs4 import BeautifulSoup # this module helps in web scrapping.\n",
    "import requests  # this module helps us to download a web page"
   ]
  },
  {
   "cell_type": "markdown",
   "metadata": {},
   "source": [
    "<h2 id=\"BSO\">Beautiful Soup Objects</h2>\n"
   ]
  },
  {
   "cell_type": "markdown",
   "metadata": {},
   "source": [
    "Beautiful Soup is a Python library for pulling data out of HTML and XML files, we will focus on HTML files. This is accomplished by representing the HTML as a set of objects with methods used to parse the HTML.  We can navigate the HTML as a tree and/or filter out what we are looking for.\n",
    "\n",
    "Consider the following HTML:\n"
   ]
  },
  {
   "cell_type": "code",
   "execution_count": 10,
   "metadata": {},
   "outputs": [
    {
     "data": {
      "text/html": [
       "<!DOCTYPE html>\n",
       "<html>\n",
       "<head>\n",
       "<title>Page Title</title>\n",
       "</head>\n",
       "<body>\n",
       "<h3><b id='boldest'>Lebron James</b></h3>\n",
       "<p> Salary: $ 92,000,000 </p>\n",
       "<h3> Stephen Curry</h3>\n",
       "<p> Salary: $85,000, 000 </p>\n",
       "<h3> Kevin Durant </h3>\n",
       "<p> Salary: $73,200, 000</p>\n",
       "</body>\n",
       "</html>\n"
      ],
      "text/plain": [
       "<IPython.core.display.HTML object>"
      ]
     },
     "metadata": {},
     "output_type": "display_data"
    }
   ],
   "source": [
    "%%html\n",
    "<!DOCTYPE html>\n",
    "<html>\n",
    "<head>\n",
    "<title>Page Title</title>\n",
    "</head>\n",
    "<body>\n",
    "<h3><b id='boldest'>Lebron James</b></h3>\n",
    "<p> Salary: $ 92,000,000 </p>\n",
    "<h3> Stephen Curry</h3>\n",
    "<p> Salary: $85,000, 000 </p>\n",
    "<h3> Kevin Durant </h3>\n",
    "<p> Salary: $73,200, 000</p>\n",
    "</body>\n",
    "</html>"
   ]
  },
  {
   "cell_type": "markdown",
   "metadata": {},
   "source": [
    "We can store it as a string in the variable HTML:\n"
   ]
  },
  {
   "cell_type": "code",
   "execution_count": 11,
   "metadata": {},
   "outputs": [],
   "source": [
    "html=\"<!DOCTYPE html><html><head><title>Page Title</title></head><body><h3><b id='boldest'>Lebron James</b></h3><p> Salary: $ 92,000,000 </p><h3> Stephen Curry</h3><p> Salary: $85,000, 000 </p><h3> Kevin Durant </h3><p> Salary: $73,200, 000</p></body></html>\""
   ]
  },
  {
   "cell_type": "markdown",
   "metadata": {},
   "source": [
    "To parse a document, pass it into the <code>BeautifulSoup</code> constructor, the <code>BeautifulSoup</code> object, which represents the document as a nested data structure:\n"
   ]
  },
  {
   "cell_type": "code",
   "execution_count": 12,
   "metadata": {},
   "outputs": [],
   "source": [
    "soup = BeautifulSoup(html, \"html.parser\")"
   ]
  },
  {
   "cell_type": "markdown",
   "metadata": {},
   "source": [
    "First, the document is converted to Unicode, (similar to ASCII),  and HTML entities are converted to Unicode characters. Beautiful Soup transforms a complex HTML document into a complex tree of Python objects. The <code>BeautifulSoup</code> object can create other types of objects. In this lab, we will cover <code>BeautifulSoup</code> and <code>Tag</code> objects that for the purposes of this lab are identical, and <code>NavigableString</code> objects.\n"
   ]
  },
  {
   "cell_type": "markdown",
   "metadata": {},
   "source": [
    "We can use the method <code>prettify()</code> to display the HTML in the nested structure:\n"
   ]
  },
  {
   "cell_type": "code",
   "execution_count": 13,
   "metadata": {},
   "outputs": [
    {
     "name": "stdout",
     "output_type": "stream",
     "text": [
      "<!DOCTYPE html>\n",
      "<html>\n",
      " <head>\n",
      "  <title>\n",
      "   Page Title\n",
      "  </title>\n",
      " </head>\n",
      " <body>\n",
      "  <h3>\n",
      "   <b id=\"boldest\">\n",
      "    Lebron James\n",
      "   </b>\n",
      "  </h3>\n",
      "  <p>\n",
      "   Salary: $ 92,000,000\n",
      "  </p>\n",
      "  <h3>\n",
      "   Stephen Curry\n",
      "  </h3>\n",
      "  <p>\n",
      "   Salary: $85,000, 000\n",
      "  </p>\n",
      "  <h3>\n",
      "   Kevin Durant\n",
      "  </h3>\n",
      "  <p>\n",
      "   Salary: $73,200, 000\n",
      "  </p>\n",
      " </body>\n",
      "</html>\n"
     ]
    }
   ],
   "source": [
    "print(soup.prettify())"
   ]
  },
  {
   "cell_type": "markdown",
   "metadata": {},
   "source": [
    "## Tags\n"
   ]
  },
  {
   "cell_type": "markdown",
   "metadata": {},
   "source": [
    "Let's say we want the  title of the page and the name of the top paid player we can use the <code>Tag</code>. The <code>Tag</code> object corresponds to an HTML tag in the original document, for example, the tag title.\n"
   ]
  },
  {
   "cell_type": "code",
   "execution_count": 14,
   "metadata": {},
   "outputs": [
    {
     "name": "stdout",
     "output_type": "stream",
     "text": [
      "tag object: <title>Page Title</title>\n"
     ]
    }
   ],
   "source": [
    "tag_object=soup.title\n",
    "print(\"tag object:\",tag_object)"
   ]
  },
  {
   "cell_type": "markdown",
   "metadata": {},
   "source": [
    "we can see the tag type <code>bs4.element.Tag</code>\n"
   ]
  },
  {
   "cell_type": "code",
   "execution_count": 15,
   "metadata": {},
   "outputs": [
    {
     "name": "stdout",
     "output_type": "stream",
     "text": [
      "tag object type: <class 'bs4.element.Tag'>\n"
     ]
    }
   ],
   "source": [
    "print(\"tag object type:\",type(tag_object))"
   ]
  },
  {
   "cell_type": "markdown",
   "metadata": {},
   "source": [
    "If there is more than one <code>Tag</code>  with the same name, the first element with that <code>Tag</code> name is called, this corresponds to the most paid player:\n"
   ]
  },
  {
   "cell_type": "code",
   "execution_count": 16,
   "metadata": {},
   "outputs": [
    {
     "data": {
      "text/plain": [
       "<h3><b id=\"boldest\">Lebron James</b></h3>"
      ]
     },
     "execution_count": 16,
     "metadata": {},
     "output_type": "execute_result"
    }
   ],
   "source": [
    "tag_object=soup.h3\n",
    "tag_object"
   ]
  },
  {
   "cell_type": "markdown",
   "metadata": {},
   "source": [
    "Enclosed in the bold attribute <code>b</code>, it helps to use the tree representation. We can navigate down the tree using the child attribute to get the name.\n"
   ]
  },
  {
   "cell_type": "markdown",
   "metadata": {},
   "source": [
    "### Children, Parents, and Siblings\n"
   ]
  },
  {
   "cell_type": "markdown",
   "metadata": {},
   "source": [
    "As stated above the <code>Tag</code> object is a tree of objects we can access the child of the tag or navigate down the branch as follows:\n"
   ]
  },
  {
   "cell_type": "code",
   "execution_count": 17,
   "metadata": {},
   "outputs": [
    {
     "data": {
      "text/plain": [
       "<b id=\"boldest\">Lebron James</b>"
      ]
     },
     "execution_count": 17,
     "metadata": {},
     "output_type": "execute_result"
    }
   ],
   "source": [
    "tag_child =tag_object.b\n",
    "tag_child"
   ]
  },
  {
   "cell_type": "markdown",
   "metadata": {},
   "source": [
    "You can access the parent with the <code> parent</code>\n"
   ]
  },
  {
   "cell_type": "code",
   "execution_count": 18,
   "metadata": {},
   "outputs": [
    {
     "data": {
      "text/plain": [
       "<h3><b id=\"boldest\">Lebron James</b></h3>"
      ]
     },
     "execution_count": 18,
     "metadata": {},
     "output_type": "execute_result"
    }
   ],
   "source": [
    "parent_tag=tag_child.parent\n",
    "parent_tag"
   ]
  },
  {
   "cell_type": "markdown",
   "metadata": {},
   "source": [
    "this is identical to\n"
   ]
  },
  {
   "cell_type": "code",
   "execution_count": 19,
   "metadata": {},
   "outputs": [
    {
     "data": {
      "text/plain": [
       "<h3><b id=\"boldest\">Lebron James</b></h3>"
      ]
     },
     "execution_count": 19,
     "metadata": {},
     "output_type": "execute_result"
    }
   ],
   "source": [
    "tag_object"
   ]
  },
  {
   "cell_type": "markdown",
   "metadata": {},
   "source": [
    "<code>tag_object</code> parent is the <code>body</code> element.\n"
   ]
  },
  {
   "cell_type": "code",
   "execution_count": 20,
   "metadata": {},
   "outputs": [
    {
     "data": {
      "text/plain": [
       "<body><h3><b id=\"boldest\">Lebron James</b></h3><p> Salary: $ 92,000,000 </p><h3> Stephen Curry</h3><p> Salary: $85,000, 000 </p><h3> Kevin Durant </h3><p> Salary: $73,200, 000</p></body>"
      ]
     },
     "execution_count": 20,
     "metadata": {},
     "output_type": "execute_result"
    }
   ],
   "source": [
    "tag_object.parent"
   ]
  },
  {
   "cell_type": "markdown",
   "metadata": {},
   "source": [
    "<code>tag_object</code> sibling is the <code>paragraph</code> element\n"
   ]
  },
  {
   "cell_type": "code",
   "execution_count": 21,
   "metadata": {},
   "outputs": [
    {
     "data": {
      "text/plain": [
       "<p> Salary: $ 92,000,000 </p>"
      ]
     },
     "execution_count": 21,
     "metadata": {},
     "output_type": "execute_result"
    }
   ],
   "source": [
    "sibling_1=tag_object.next_sibling\n",
    "sibling_1"
   ]
  },
  {
   "cell_type": "markdown",
   "metadata": {},
   "source": [
    "`sibling_2` is the `header` element which is also a sibling of both `sibling_1` and `tag_object`\n"
   ]
  },
  {
   "cell_type": "code",
   "execution_count": 23,
   "metadata": {},
   "outputs": [
    {
     "data": {
      "text/plain": [
       "<h3> Stephen Curry</h3>"
      ]
     },
     "execution_count": 23,
     "metadata": {},
     "output_type": "execute_result"
    }
   ],
   "source": [
    "sibling_2=sibling_1.next_sibling\n",
    "sibling_2"
   ]
  },
  {
   "cell_type": "markdown",
   "metadata": {},
   "source": [
    "<h3 id=\"first_question\">Exercise: <code>next_sibling</code></h3>\n"
   ]
  },
  {
   "cell_type": "markdown",
   "metadata": {},
   "source": [
    "Using the object <code>sibling\\_2</code> and the property <code>next_sibling</code> to find the salary of Stephen Curry:\n"
   ]
  },
  {
   "cell_type": "code",
   "execution_count": 26,
   "metadata": {},
   "outputs": [
    {
     "data": {
      "text/plain": [
       "<p> Salary: $85,000, 000 </p>"
      ]
     },
     "execution_count": 26,
     "metadata": {},
     "output_type": "execute_result"
    }
   ],
   "source": [
    "sibling_3 = sibling_2.next_sibling\n",
    "sibling_3"
   ]
  },
  {
   "cell_type": "markdown",
   "metadata": {},
   "source": [
    "<details><summary>Click here for the solution</summary>\n",
    "\n",
    "```\n",
    "sibling_2.next_sibling\n",
    "\n",
    "```\n",
    "\n",
    "</details>\n"
   ]
  },
  {
   "cell_type": "markdown",
   "metadata": {},
   "source": [
    "### HTML Attributes\n"
   ]
  },
  {
   "cell_type": "markdown",
   "metadata": {},
   "source": [
    "If the tag has attributes, the tag <code>id=\"boldest\"</code> has an attribute <code>id</code> whose value is <code>boldest</code>. You can access a tag’s attributes by treating the tag like a dictionary:\n"
   ]
  },
  {
   "cell_type": "code",
   "execution_count": 15,
   "metadata": {},
   "outputs": [
    {
     "data": {
      "text/plain": [
       "'boldest'"
      ]
     },
     "execution_count": 15,
     "metadata": {},
     "output_type": "execute_result"
    }
   ],
   "source": [
    "tag_child['id']"
   ]
  },
  {
   "cell_type": "markdown",
   "metadata": {},
   "source": [
    "You can access that dictionary directly as <code>attrs</code>:\n"
   ]
  },
  {
   "cell_type": "code",
   "execution_count": 16,
   "metadata": {},
   "outputs": [
    {
     "data": {
      "text/plain": [
       "{'id': 'boldest'}"
      ]
     },
     "execution_count": 16,
     "metadata": {},
     "output_type": "execute_result"
    }
   ],
   "source": [
    "tag_child.attrs"
   ]
  },
  {
   "cell_type": "markdown",
   "metadata": {},
   "source": [
    "You can also work with Multi-valued attribute check out <a href=\"https://www.crummy.com/software/BeautifulSoup/bs4/doc/?utm_medium=Exinfluencer&utm_source=Exinfluencer&utm_content=000026UJ&utm_term=10006555&utm_id=NA-SkillsNetwork-Channel-SkillsNetworkCoursesIBMDeveloperSkillsNetworkPY0220ENSkillsNetwork23455606-2021-01-01\">\\[1]</a> for more.\n"
   ]
  },
  {
   "cell_type": "markdown",
   "metadata": {},
   "source": [
    "We can also obtain the content if the attribute of the <code>tag</code> using the Python <code>get()</code> method.\n"
   ]
  },
  {
   "cell_type": "code",
   "execution_count": 17,
   "metadata": {},
   "outputs": [
    {
     "data": {
      "text/plain": [
       "'boldest'"
      ]
     },
     "execution_count": 17,
     "metadata": {},
     "output_type": "execute_result"
    }
   ],
   "source": [
    "tag_child.get('id')"
   ]
  },
  {
   "cell_type": "markdown",
   "metadata": {},
   "source": [
    "### Navigable String\n"
   ]
  },
  {
   "cell_type": "markdown",
   "metadata": {},
   "source": [
    "A string corresponds to a bit of text or content within a tag. Beautiful Soup uses the <code>NavigableString</code> class to contain this text. In our HTML we can obtain the name of the first player by extracting the sting of the <code>Tag</code> object <code>tag_child</code> as follows:\n"
   ]
  },
  {
   "cell_type": "code",
   "execution_count": 28,
   "metadata": {},
   "outputs": [
    {
     "data": {
      "text/plain": [
       "'Lebron James'"
      ]
     },
     "execution_count": 28,
     "metadata": {},
     "output_type": "execute_result"
    }
   ],
   "source": [
    "tag_string=tag_child.string\n",
    "tag_string"
   ]
  },
  {
   "cell_type": "markdown",
   "metadata": {},
   "source": [
    "we can verify the type is Navigable String\n"
   ]
  },
  {
   "cell_type": "code",
   "execution_count": 29,
   "metadata": {},
   "outputs": [
    {
     "data": {
      "text/plain": [
       "bs4.element.NavigableString"
      ]
     },
     "execution_count": 29,
     "metadata": {},
     "output_type": "execute_result"
    }
   ],
   "source": [
    "type(tag_string)"
   ]
  },
  {
   "cell_type": "markdown",
   "metadata": {},
   "source": [
    "A NavigableString is just like a Python string or Unicode string, to be more precise. The main difference is that it also supports some  <code>BeautifulSoup</code> features. We can covert it to sting object in Python:\n"
   ]
  },
  {
   "cell_type": "code",
   "execution_count": 30,
   "metadata": {},
   "outputs": [
    {
     "data": {
      "text/plain": [
       "'Lebron James'"
      ]
     },
     "execution_count": 30,
     "metadata": {},
     "output_type": "execute_result"
    }
   ],
   "source": [
    "unicode_string = str(tag_string)\n",
    "unicode_string"
   ]
  },
  {
   "cell_type": "markdown",
   "metadata": {},
   "source": [
    "<h2 id=\"filter\">Filter</h2>\n"
   ]
  },
  {
   "cell_type": "markdown",
   "metadata": {},
   "source": [
    "Filters allow you to find complex patterns, the simplest filter is a string. In this section we will pass a string to a different filter method and Beautiful Soup will perform a match against that exact string.  Consider the following HTML of rocket launchs:\n"
   ]
  },
  {
   "cell_type": "code",
   "execution_count": 35,
   "metadata": {},
   "outputs": [
    {
     "data": {
      "text/html": [
       "<table>\n",
       "  <tr>\n",
       "    <td id='flight' >Flight No</td>\n",
       "    <td>Launch site</td> \n",
       "    <td>Payload mass</td>\n",
       "   </tr>\n",
       "  <tr> \n",
       "    <td>1</td>\n",
       "    <td><a href='https://en.wikipedia.org/wiki/Florida'>Florida</a></td>\n",
       "    <td>300 kg</td>\n",
       "  </tr>\n",
       "  <tr>\n",
       "    <td>2</td>\n",
       "    <td><a href='https://en.wikipedia.org/wiki/Texas'>Texas</a></td>\n",
       "    <td>94 kg</td>\n",
       "  </tr>\n",
       "  <tr>\n",
       "    <td>3</td>\n",
       "    <td><a href='https://en.wikipedia.org/wiki/Florida'>Florida<a> </td>\n",
       "    <td>80 kg</td>\n",
       "  </tr>\n",
       "</table>\n"
      ],
      "text/plain": [
       "<IPython.core.display.HTML object>"
      ]
     },
     "metadata": {},
     "output_type": "display_data"
    }
   ],
   "source": [
    "%%html\n",
    "<table>\n",
    "  <tr>\n",
    "    <td id='flight' >Flight No</td>\n",
    "    <td>Launch site</td> \n",
    "    <td>Payload mass</td>\n",
    "   </tr>\n",
    "  <tr> \n",
    "    <td>1</td>\n",
    "    <td><a href='https://en.wikipedia.org/wiki/Florida'>Florida</a></td>\n",
    "    <td>300 kg</td>\n",
    "  </tr>\n",
    "  <tr>\n",
    "    <td>2</td>\n",
    "    <td><a href='https://en.wikipedia.org/wiki/Texas'>Texas</a></td>\n",
    "    <td>94 kg</td>\n",
    "  </tr>\n",
    "  <tr>\n",
    "    <td>3</td>\n",
    "    <td><a href='https://en.wikipedia.org/wiki/Florida'>Florida<a> </td>\n",
    "    <td>80 kg</td>\n",
    "  </tr>\n",
    "</table>"
   ]
  },
  {
   "cell_type": "markdown",
   "metadata": {},
   "source": [
    "We can store it as a string in the variable <code>table</code>:\n"
   ]
  },
  {
   "cell_type": "code",
   "execution_count": 36,
   "metadata": {},
   "outputs": [],
   "source": [
    "table=\"<table><tr><td id='flight'>Flight No</td><td>Launch site</td> <td>Payload mass</td></tr><tr> <td>1</td><td><a href='https://en.wikipedia.org/wiki/Florida'>Florida<a></td><td>300 kg</td></tr><tr><td>2</td><td><a href='https://en.wikipedia.org/wiki/Texas'>Texas</a></td><td>94 kg</td></tr><tr><td>3</td><td><a href='https://en.wikipedia.org/wiki/Florida'>Florida<a> </td><td>80 kg</td></tr></table>\""
   ]
  },
  {
   "cell_type": "code",
   "execution_count": 39,
   "metadata": {},
   "outputs": [
    {
     "data": {
      "text/plain": [
       "<table><tr><td id=\"flight\">Flight No</td><td>Launch site</td> <td>Payload mass</td></tr><tr> <td>1</td><td><a href=\"https://en.wikipedia.org/wiki/Florida\">Florida<a></a></a></td><td>300 kg</td></tr><tr><td>2</td><td><a href=\"https://en.wikipedia.org/wiki/Texas\">Texas</a></td><td>94 kg</td></tr><tr><td>3</td><td><a href=\"https://en.wikipedia.org/wiki/Florida\">Florida<a> </a></a></td><td>80 kg</td></tr></table>"
      ]
     },
     "execution_count": 39,
     "metadata": {},
     "output_type": "execute_result"
    }
   ],
   "source": [
    "table_bs = BeautifulSoup(table, \"html.parser\")\n",
    "table_bs"
   ]
  },
  {
   "cell_type": "markdown",
   "metadata": {},
   "source": [
    "## find All\n"
   ]
  },
  {
   "cell_type": "markdown",
   "metadata": {},
   "source": [
    "The <code>find_all()</code> method looks through a tag’s descendants and retrieves all descendants that match your filters.\n",
    "\n",
    "<p>\n",
    "The Method signature for <code>find_all(name, attrs, recursive, string, limit, **kwargs)<c/ode>\n",
    "</p>\n"
   ]
  },
  {
   "cell_type": "markdown",
   "metadata": {},
   "source": [
    "### Name\n"
   ]
  },
  {
   "cell_type": "markdown",
   "metadata": {},
   "source": [
    "When we set the <code>name</code> parameter to a tag name, the method will extract all the tags with that name and its children.\n"
   ]
  },
  {
   "cell_type": "code",
   "execution_count": 40,
   "metadata": {},
   "outputs": [
    {
     "data": {
      "text/plain": [
       "[<tr><td id=\"flight\">Flight No</td><td>Launch site</td> <td>Payload mass</td></tr>,\n",
       " <tr> <td>1</td><td><a href=\"https://en.wikipedia.org/wiki/Florida\">Florida<a></a></a></td><td>300 kg</td></tr>,\n",
       " <tr><td>2</td><td><a href=\"https://en.wikipedia.org/wiki/Texas\">Texas</a></td><td>94 kg</td></tr>,\n",
       " <tr><td>3</td><td><a href=\"https://en.wikipedia.org/wiki/Florida\">Florida<a> </a></a></td><td>80 kg</td></tr>]"
      ]
     },
     "execution_count": 40,
     "metadata": {},
     "output_type": "execute_result"
    }
   ],
   "source": [
    "table_rows=table_bs.find_all('tr')\n",
    "table_rows"
   ]
  },
  {
   "cell_type": "markdown",
   "metadata": {},
   "source": [
    "The result is a Python Iterable just like a list, each element is a <code>tag</code> object:\n"
   ]
  },
  {
   "cell_type": "code",
   "execution_count": 41,
   "metadata": {},
   "outputs": [
    {
     "data": {
      "text/plain": [
       "<tr><td id=\"flight\">Flight No</td><td>Launch site</td> <td>Payload mass</td></tr>"
      ]
     },
     "execution_count": 41,
     "metadata": {},
     "output_type": "execute_result"
    }
   ],
   "source": [
    "first_row =table_rows[0]\n",
    "first_row"
   ]
  },
  {
   "cell_type": "markdown",
   "metadata": {},
   "source": [
    "The type is <code>tag</code>\n"
   ]
  },
  {
   "cell_type": "code",
   "execution_count": 42,
   "metadata": {},
   "outputs": [
    {
     "name": "stdout",
     "output_type": "stream",
     "text": [
      "<class 'bs4.element.Tag'>\n"
     ]
    }
   ],
   "source": [
    "print(type(first_row))"
   ]
  },
  {
   "cell_type": "markdown",
   "metadata": {},
   "source": [
    "we can obtain the child\n"
   ]
  },
  {
   "cell_type": "code",
   "execution_count": 43,
   "metadata": {},
   "outputs": [
    {
     "data": {
      "text/plain": [
       "<td id=\"flight\">Flight No</td>"
      ]
     },
     "execution_count": 43,
     "metadata": {},
     "output_type": "execute_result"
    }
   ],
   "source": [
    "first_row.td"
   ]
  },
  {
   "cell_type": "markdown",
   "metadata": {},
   "source": [
    "If we iterate through the list, each element corresponds to a row in the table:\n"
   ]
  },
  {
   "cell_type": "code",
   "execution_count": 44,
   "metadata": {},
   "outputs": [
    {
     "name": "stdout",
     "output_type": "stream",
     "text": [
      "row 0 is <tr><td id=\"flight\">Flight No</td><td>Launch site</td> <td>Payload mass</td></tr>\n",
      "row 1 is <tr> <td>1</td><td><a href=\"https://en.wikipedia.org/wiki/Florida\">Florida<a></a></a></td><td>300 kg</td></tr>\n",
      "row 2 is <tr><td>2</td><td><a href=\"https://en.wikipedia.org/wiki/Texas\">Texas</a></td><td>94 kg</td></tr>\n",
      "row 3 is <tr><td>3</td><td><a href=\"https://en.wikipedia.org/wiki/Florida\">Florida<a> </a></a></td><td>80 kg</td></tr>\n"
     ]
    }
   ],
   "source": [
    "for i,row in enumerate(table_rows):\n",
    "    print(\"row\",i,\"is\",row)\n",
    "    "
   ]
  },
  {
   "cell_type": "markdown",
   "metadata": {},
   "source": [
    "As <code>row</code> is a <code>cell</code> object, we can apply the method <code>find_all</code> to it and extract table cells in the object <code>cells</code> using the tag <code>td</code>, this is all the children with the name <code>td</code>. The result is a list, each element corresponds to a cell and is a <code>Tag</code> object, we can iterate through this list as well. We can extract the content using the <code>string</code>  attribute.\n"
   ]
  },
  {
   "cell_type": "code",
   "execution_count": 45,
   "metadata": {},
   "outputs": [
    {
     "name": "stdout",
     "output_type": "stream",
     "text": [
      "row 0\n",
      "colunm 0 cell <td id=\"flight\">Flight No</td>\n",
      "colunm 1 cell <td>Launch site</td>\n",
      "colunm 2 cell <td>Payload mass</td>\n",
      "row 1\n",
      "colunm 0 cell <td>1</td>\n",
      "colunm 1 cell <td><a href=\"https://en.wikipedia.org/wiki/Florida\">Florida<a></a></a></td>\n",
      "colunm 2 cell <td>300 kg</td>\n",
      "row 2\n",
      "colunm 0 cell <td>2</td>\n",
      "colunm 1 cell <td><a href=\"https://en.wikipedia.org/wiki/Texas\">Texas</a></td>\n",
      "colunm 2 cell <td>94 kg</td>\n",
      "row 3\n",
      "colunm 0 cell <td>3</td>\n",
      "colunm 1 cell <td><a href=\"https://en.wikipedia.org/wiki/Florida\">Florida<a> </a></a></td>\n",
      "colunm 2 cell <td>80 kg</td>\n"
     ]
    }
   ],
   "source": [
    "for i,row in enumerate(table_rows):\n",
    "    print(\"row\",i)\n",
    "    cells=row.find_all('td')\n",
    "    for j,cell in enumerate(cells):\n",
    "        print('colunm',j,\"cell\",cell)"
   ]
  },
  {
   "cell_type": "markdown",
   "metadata": {},
   "source": [
    "If we use a list we can match against any item in that list.\n"
   ]
  },
  {
   "cell_type": "code",
   "execution_count": 46,
   "metadata": {},
   "outputs": [
    {
     "data": {
      "text/plain": [
       "[<tr><td id=\"flight\">Flight No</td><td>Launch site</td> <td>Payload mass</td></tr>,\n",
       " <td id=\"flight\">Flight No</td>,\n",
       " <td>Launch site</td>,\n",
       " <td>Payload mass</td>,\n",
       " <tr> <td>1</td><td><a href=\"https://en.wikipedia.org/wiki/Florida\">Florida<a></a></a></td><td>300 kg</td></tr>,\n",
       " <td>1</td>,\n",
       " <td><a href=\"https://en.wikipedia.org/wiki/Florida\">Florida<a></a></a></td>,\n",
       " <td>300 kg</td>,\n",
       " <tr><td>2</td><td><a href=\"https://en.wikipedia.org/wiki/Texas\">Texas</a></td><td>94 kg</td></tr>,\n",
       " <td>2</td>,\n",
       " <td><a href=\"https://en.wikipedia.org/wiki/Texas\">Texas</a></td>,\n",
       " <td>94 kg</td>,\n",
       " <tr><td>3</td><td><a href=\"https://en.wikipedia.org/wiki/Florida\">Florida<a> </a></a></td><td>80 kg</td></tr>,\n",
       " <td>3</td>,\n",
       " <td><a href=\"https://en.wikipedia.org/wiki/Florida\">Florida<a> </a></a></td>,\n",
       " <td>80 kg</td>]"
      ]
     },
     "execution_count": 46,
     "metadata": {},
     "output_type": "execute_result"
    }
   ],
   "source": [
    "list_input=table_bs .find_all(name=[\"tr\", \"td\"])\n",
    "list_input"
   ]
  },
  {
   "cell_type": "markdown",
   "metadata": {},
   "source": [
    "## Attributes\n"
   ]
  },
  {
   "cell_type": "markdown",
   "metadata": {},
   "source": [
    "If the argument is not recognized it will be turned into a filter on the tag’s attributes. For example the <code>id</code>  argument, Beautiful Soup will filter against each tag’s <code>id</code> attribute. For example, the first <code>td</code> elements have a value of <code>id</code> of <code>flight</code>, therefore we can filter based on that <code>id</code> value.\n"
   ]
  },
  {
   "cell_type": "code",
   "execution_count": 47,
   "metadata": {},
   "outputs": [
    {
     "data": {
      "text/plain": [
       "[<td id=\"flight\">Flight No</td>]"
      ]
     },
     "execution_count": 47,
     "metadata": {},
     "output_type": "execute_result"
    }
   ],
   "source": [
    "table_bs.find_all(id=\"flight\")"
   ]
  },
  {
   "cell_type": "markdown",
   "metadata": {},
   "source": [
    "We can find all the elements that have links to the Florida Wikipedia page:\n"
   ]
  },
  {
   "cell_type": "code",
   "execution_count": 48,
   "metadata": {},
   "outputs": [
    {
     "data": {
      "text/plain": [
       "[<a href=\"https://en.wikipedia.org/wiki/Florida\">Florida<a></a></a>,\n",
       " <a href=\"https://en.wikipedia.org/wiki/Florida\">Florida<a> </a></a>]"
      ]
     },
     "execution_count": 48,
     "metadata": {},
     "output_type": "execute_result"
    }
   ],
   "source": [
    "list_input=table_bs.find_all(href=\"https://en.wikipedia.org/wiki/Florida\")\n",
    "list_input"
   ]
  },
  {
   "cell_type": "markdown",
   "metadata": {},
   "source": [
    "If we set the  <code>href</code> attribute to True, regardless of what the value is, the code finds all tags with <code>href</code> value:\n"
   ]
  },
  {
   "cell_type": "code",
   "execution_count": 49,
   "metadata": {},
   "outputs": [
    {
     "data": {
      "text/plain": [
       "[<a href=\"https://en.wikipedia.org/wiki/Florida\">Florida<a></a></a>,\n",
       " <a href=\"https://en.wikipedia.org/wiki/Texas\">Texas</a>,\n",
       " <a href=\"https://en.wikipedia.org/wiki/Florida\">Florida<a> </a></a>]"
      ]
     },
     "execution_count": 49,
     "metadata": {},
     "output_type": "execute_result"
    }
   ],
   "source": [
    "table_bs.find_all(href=True)"
   ]
  },
  {
   "cell_type": "markdown",
   "metadata": {},
   "source": [
    "There are other methods for dealing with attributes and other related methods; Check out the following <a href='https://www.crummy.com/software/BeautifulSoup/bs4/doc/?utm_medium=Exinfluencer&utm_source=Exinfluencer&utm_content=000026UJ&utm_term=10006555&utm_id=NA-SkillsNetwork-Channel-SkillsNetworkCoursesIBMDeveloperSkillsNetworkPY0220ENSkillsNetwork23455606-2021-01-01#css-selectors'>link</a>\n"
   ]
  },
  {
   "cell_type": "markdown",
   "metadata": {},
   "source": [
    "<h3 id=\"exer_type\">Exercise: <code>find_all</code></h3>\n"
   ]
  },
  {
   "cell_type": "markdown",
   "metadata": {},
   "source": [
    "Using the logic above, find all the elements without <code>href</code> value\n"
   ]
  },
  {
   "cell_type": "code",
   "execution_count": 50,
   "metadata": {},
   "outputs": [
    {
     "data": {
      "text/plain": [
       "[<table><tr><td id=\"flight\">Flight No</td><td>Launch site</td> <td>Payload mass</td></tr><tr> <td>1</td><td><a href=\"https://en.wikipedia.org/wiki/Florida\">Florida<a></a></a></td><td>300 kg</td></tr><tr><td>2</td><td><a href=\"https://en.wikipedia.org/wiki/Texas\">Texas</a></td><td>94 kg</td></tr><tr><td>3</td><td><a href=\"https://en.wikipedia.org/wiki/Florida\">Florida<a> </a></a></td><td>80 kg</td></tr></table>,\n",
       " <tr><td id=\"flight\">Flight No</td><td>Launch site</td> <td>Payload mass</td></tr>,\n",
       " <td id=\"flight\">Flight No</td>,\n",
       " <td>Launch site</td>,\n",
       " <td>Payload mass</td>,\n",
       " <tr> <td>1</td><td><a href=\"https://en.wikipedia.org/wiki/Florida\">Florida<a></a></a></td><td>300 kg</td></tr>,\n",
       " <td>1</td>,\n",
       " <td><a href=\"https://en.wikipedia.org/wiki/Florida\">Florida<a></a></a></td>,\n",
       " <a></a>,\n",
       " <td>300 kg</td>,\n",
       " <tr><td>2</td><td><a href=\"https://en.wikipedia.org/wiki/Texas\">Texas</a></td><td>94 kg</td></tr>,\n",
       " <td>2</td>,\n",
       " <td><a href=\"https://en.wikipedia.org/wiki/Texas\">Texas</a></td>,\n",
       " <td>94 kg</td>,\n",
       " <tr><td>3</td><td><a href=\"https://en.wikipedia.org/wiki/Florida\">Florida<a> </a></a></td><td>80 kg</td></tr>,\n",
       " <td>3</td>,\n",
       " <td><a href=\"https://en.wikipedia.org/wiki/Florida\">Florida<a> </a></a></td>,\n",
       " <a> </a>,\n",
       " <td>80 kg</td>]"
      ]
     },
     "execution_count": 50,
     "metadata": {},
     "output_type": "execute_result"
    }
   ],
   "source": [
    "table_bs.find_all(href=False)"
   ]
  },
  {
   "cell_type": "markdown",
   "metadata": {},
   "source": [
    "<details><summary>Click here for the solution</summary>\n",
    "\n",
    "```\n",
    "table_bs.find_all(href=False)\n",
    "\n",
    "```\n",
    "\n",
    "</details>\n"
   ]
  },
  {
   "cell_type": "markdown",
   "metadata": {},
   "source": [
    "Using the soup object <code>soup</code>, find the element with the <code>id</code> attribute content set to <code>\"boldest\"</code>.\n"
   ]
  },
  {
   "cell_type": "code",
   "execution_count": 53,
   "metadata": {},
   "outputs": [
    {
     "data": {
      "text/plain": [
       "[<b id=\"boldest\">Lebron James</b>]"
      ]
     },
     "execution_count": 53,
     "metadata": {},
     "output_type": "execute_result"
    }
   ],
   "source": [
    "soup.find_all(id=\"boldest\")"
   ]
  },
  {
   "cell_type": "markdown",
   "metadata": {},
   "source": [
    "<details><summary>Click here for the solution</summary>\n",
    "\n",
    "```\n",
    "soup.find_all(id=\"boldest\")\n",
    "\n",
    "```\n",
    "\n",
    "</details>\n"
   ]
  },
  {
   "cell_type": "markdown",
   "metadata": {},
   "source": [
    "### string\n"
   ]
  },
  {
   "cell_type": "markdown",
   "metadata": {},
   "source": [
    "With string you can search for strings instead of tags, where we find all the elments with Florida:\n"
   ]
  },
  {
   "cell_type": "code",
   "execution_count": 54,
   "metadata": {},
   "outputs": [
    {
     "data": {
      "text/plain": [
       "['Florida', 'Florida']"
      ]
     },
     "execution_count": 54,
     "metadata": {},
     "output_type": "execute_result"
    }
   ],
   "source": [
    "table_bs.find_all(string=\"Florida\")"
   ]
  },
  {
   "cell_type": "markdown",
   "metadata": {},
   "source": [
    "## find\n"
   ]
  },
  {
   "cell_type": "markdown",
   "metadata": {},
   "source": [
    "The <code>find_all()</code> method scans the entire document looking for results, it’s if you are looking for one element you can use the <code>find()</code> method to find the first element in the document. Consider the following two table:\n"
   ]
  },
  {
   "cell_type": "code",
   "execution_count": 55,
   "metadata": {},
   "outputs": [
    {
     "data": {
      "text/html": [
       "<h3>Rocket Launch </h3>\n",
       "\n",
       "<p>\n",
       "<table class='rocket'>\n",
       "  <tr>\n",
       "    <td>Flight No</td>\n",
       "    <td>Launch site</td> \n",
       "    <td>Payload mass</td>\n",
       "  </tr>\n",
       "  <tr>\n",
       "    <td>1</td>\n",
       "    <td>Florida</td>\n",
       "    <td>300 kg</td>\n",
       "  </tr>\n",
       "  <tr>\n",
       "    <td>2</td>\n",
       "    <td>Texas</td>\n",
       "    <td>94 kg</td>\n",
       "  </tr>\n",
       "  <tr>\n",
       "    <td>3</td>\n",
       "    <td>Florida </td>\n",
       "    <td>80 kg</td>\n",
       "  </tr>\n",
       "</table>\n",
       "</p>\n",
       "<p>\n",
       "\n",
       "<h3>Pizza Party  </h3>\n",
       "  \n",
       "    \n",
       "<table class='pizza'>\n",
       "  <tr>\n",
       "    <td>Pizza Place</td>\n",
       "    <td>Orders</td> \n",
       "    <td>Slices </td>\n",
       "   </tr>\n",
       "  <tr>\n",
       "    <td>Domino's Pizza</td>\n",
       "    <td>10</td>\n",
       "    <td>100</td>\n",
       "  </tr>\n",
       "  <tr>\n",
       "    <td>Little Caesars</td>\n",
       "    <td>12</td>\n",
       "    <td >144 </td>\n",
       "  </tr>\n",
       "  <tr>\n",
       "    <td>Papa John's </td>\n",
       "    <td>15 </td>\n",
       "    <td>165</td>\n",
       "  </tr>\n"
      ],
      "text/plain": [
       "<IPython.core.display.HTML object>"
      ]
     },
     "metadata": {},
     "output_type": "display_data"
    }
   ],
   "source": [
    "%%html\n",
    "<h3>Rocket Launch </h3>\n",
    "\n",
    "<p>\n",
    "<table class='rocket'>\n",
    "  <tr>\n",
    "    <td>Flight No</td>\n",
    "    <td>Launch site</td> \n",
    "    <td>Payload mass</td>\n",
    "  </tr>\n",
    "  <tr>\n",
    "    <td>1</td>\n",
    "    <td>Florida</td>\n",
    "    <td>300 kg</td>\n",
    "  </tr>\n",
    "  <tr>\n",
    "    <td>2</td>\n",
    "    <td>Texas</td>\n",
    "    <td>94 kg</td>\n",
    "  </tr>\n",
    "  <tr>\n",
    "    <td>3</td>\n",
    "    <td>Florida </td>\n",
    "    <td>80 kg</td>\n",
    "  </tr>\n",
    "</table>\n",
    "</p>\n",
    "<p>\n",
    "\n",
    "<h3>Pizza Party  </h3>\n",
    "  \n",
    "    \n",
    "<table class='pizza'>\n",
    "  <tr>\n",
    "    <td>Pizza Place</td>\n",
    "    <td>Orders</td> \n",
    "    <td>Slices </td>\n",
    "   </tr>\n",
    "  <tr>\n",
    "    <td>Domino's Pizza</td>\n",
    "    <td>10</td>\n",
    "    <td>100</td>\n",
    "  </tr>\n",
    "  <tr>\n",
    "    <td>Little Caesars</td>\n",
    "    <td>12</td>\n",
    "    <td >144 </td>\n",
    "  </tr>\n",
    "  <tr>\n",
    "    <td>Papa John's </td>\n",
    "    <td>15 </td>\n",
    "    <td>165</td>\n",
    "  </tr>\n"
   ]
  },
  {
   "cell_type": "markdown",
   "metadata": {},
   "source": [
    "We store the HTML as a Python string and assign <code>two_tables</code>:\n"
   ]
  },
  {
   "cell_type": "code",
   "execution_count": 56,
   "metadata": {},
   "outputs": [],
   "source": [
    "two_tables=\"<h3>Rocket Launch </h3><p><table class='rocket'><tr><td>Flight No</td><td>Launch site</td> <td>Payload mass</td></tr><tr><td>1</td><td>Florida</td><td>300 kg</td></tr><tr><td>2</td><td>Texas</td><td>94 kg</td></tr><tr><td>3</td><td>Florida </td><td>80 kg</td></tr></table></p><p><h3>Pizza Party  </h3><table class='pizza'><tr><td>Pizza Place</td><td>Orders</td> <td>Slices </td></tr><tr><td>Domino's Pizza</td><td>10</td><td>100</td></tr><tr><td>Little Caesars</td><td>12</td><td >144 </td></tr><tr><td>Papa John's </td><td>15 </td><td>165</td></tr>\""
   ]
  },
  {
   "cell_type": "markdown",
   "metadata": {},
   "source": [
    "We create a <code>BeautifulSoup</code> object  <code>two_tables_bs</code>\n"
   ]
  },
  {
   "cell_type": "code",
   "execution_count": 58,
   "metadata": {},
   "outputs": [
    {
     "data": {
      "text/plain": [
       "<h3>Rocket Launch </h3><p><table class=\"rocket\"><tr><td>Flight No</td><td>Launch site</td> <td>Payload mass</td></tr><tr><td>1</td><td>Florida</td><td>300 kg</td></tr><tr><td>2</td><td>Texas</td><td>94 kg</td></tr><tr><td>3</td><td>Florida </td><td>80 kg</td></tr></table></p><p><h3>Pizza Party  </h3><table class=\"pizza\"><tr><td>Pizza Place</td><td>Orders</td> <td>Slices </td></tr><tr><td>Domino's Pizza</td><td>10</td><td>100</td></tr><tr><td>Little Caesars</td><td>12</td><td>144 </td></tr><tr><td>Papa John's </td><td>15 </td><td>165</td></tr></table></p>"
      ]
     },
     "execution_count": 58,
     "metadata": {},
     "output_type": "execute_result"
    }
   ],
   "source": [
    "two_tables_bs= BeautifulSoup(two_tables, 'html.parser')\n",
    "two_tables_bs"
   ]
  },
  {
   "cell_type": "markdown",
   "metadata": {},
   "source": [
    "We can find the first table using the tag name table\n"
   ]
  },
  {
   "cell_type": "code",
   "execution_count": 59,
   "metadata": {},
   "outputs": [
    {
     "data": {
      "text/plain": [
       "<table class=\"rocket\"><tr><td>Flight No</td><td>Launch site</td> <td>Payload mass</td></tr><tr><td>1</td><td>Florida</td><td>300 kg</td></tr><tr><td>2</td><td>Texas</td><td>94 kg</td></tr><tr><td>3</td><td>Florida </td><td>80 kg</td></tr></table>"
      ]
     },
     "execution_count": 59,
     "metadata": {},
     "output_type": "execute_result"
    }
   ],
   "source": [
    "two_tables_bs.find(\"table\")"
   ]
  },
  {
   "cell_type": "markdown",
   "metadata": {},
   "source": [
    "We can filter on the class attribute to find the second table, but because class is a keyword in Python, we add an underscore.\n"
   ]
  },
  {
   "cell_type": "code",
   "execution_count": 63,
   "metadata": {},
   "outputs": [
    {
     "data": {
      "text/plain": [
       "<table class=\"pizza\"><tr><td>Pizza Place</td><td>Orders</td> <td>Slices </td></tr><tr><td>Domino's Pizza</td><td>10</td><td>100</td></tr><tr><td>Little Caesars</td><td>12</td><td>144 </td></tr><tr><td>Papa John's </td><td>15 </td><td>165</td></tr></table>"
      ]
     },
     "execution_count": 63,
     "metadata": {},
     "output_type": "execute_result"
    }
   ],
   "source": [
    "two_tables_bs.find(\"table\",class_='pizza')"
   ]
  },
  {
   "cell_type": "markdown",
   "metadata": {},
   "source": [
    "<h2 id=\"DSCW\">Downloading And Scraping The Contents Of A Web Page</h2> \n"
   ]
  },
  {
   "cell_type": "markdown",
   "metadata": {},
   "source": [
    "We Download the contents of the web page:\n"
   ]
  },
  {
   "cell_type": "code",
   "execution_count": 64,
   "metadata": {},
   "outputs": [],
   "source": [
    "url = \"http://www.ibm.com\""
   ]
  },
  {
   "cell_type": "markdown",
   "metadata": {},
   "source": [
    "We use <code>get</code> to download the contents of the webpage in text format and store in a variable called <code>data</code>:\n"
   ]
  },
  {
   "cell_type": "code",
   "execution_count": 65,
   "metadata": {},
   "outputs": [],
   "source": [
    "data  = requests.get(url).text "
   ]
  },
  {
   "cell_type": "markdown",
   "metadata": {},
   "source": [
    "We create a <code>BeautifulSoup</code> object using the <code>BeautifulSoup</code> constructor\n"
   ]
  },
  {
   "cell_type": "code",
   "execution_count": 67,
   "metadata": {},
   "outputs": [],
   "source": [
    "soup = BeautifulSoup(data,\"html.parser\")  # create a soup object using the variable 'data'"
   ]
  },
  {
   "cell_type": "markdown",
   "metadata": {},
   "source": [
    "Scrape all links\n"
   ]
  },
  {
   "cell_type": "code",
   "execution_count": 89,
   "metadata": {},
   "outputs": [
    {
     "name": "stdout",
     "output_type": "stream",
     "text": [
      "/wiki/Wikipedia:Protection_policy#semi\n",
      "#mw-head\n",
      "#searchInput\n",
      "/wiki/Demographics_of_the_world\n",
      "/wiki/File:World-population-1750-2015-and-un-projection-until-2100.png\n",
      "/wiki/File:World-population-1750-2015-and-un-projection-until-2100.png\n",
      "#cite_note-1\n",
      "/wiki/File:World_Population_Prospects.svg\n",
      "/wiki/File:World_Population_Prospects.svg\n",
      "#cite_note-:4-2\n",
      "/wiki/Demographics\n",
      "/wiki/Human\n",
      "/wiki/United_Nations\n",
      "/wiki/Prehistory\n",
      "/wiki/Human_history\n",
      "/wiki/Billion\n",
      "#cite_note-:9-3\n",
      "/wiki/Population_growth\n",
      "/wiki/Great_Famine_of_1315%E2%80%931317\n",
      "/wiki/Black_Death\n",
      "#cite_note-4\n",
      "/wiki/List_of_countries_by_population_growth_rate\n",
      "#cite_note-:1-5\n",
      "#cite_note-:8-6\n",
      "#cite_note-:5-7\n",
      "#cite_note-8\n",
      "/wiki/UN_Department_of_Economics_and_Social_Affairs\n",
      "/wiki/Confidence_interval\n",
      "#cite_note-:4-2\n",
      "#cite_note-:5-7\n",
      "#cite_note-9\n",
      "#cite_note-:2-10\n",
      "#cite_note-:3-11\n",
      "/wiki/Median_age\n",
      "https://en.wikipedia.org/w/index.php?title=World_population&action=edit\n",
      "#cite_note-:0-12\n",
      "#History\n",
      "#Ancient_and_post-classical_history\n",
      "#Modern_history\n",
      "#Milestones_by_the_billions\n",
      "#Global_demographics\n",
      "#Population_by_region\n",
      "#Largest_populations_by_country\n",
      "#10_most_populous_countries\n",
      "#Most_densely_populated_countries\n",
      "#Fluctuation\n",
      "#Annual_population_growth\n",
      "#Population_growth_by_region\n",
      "#Past_population\n",
      "#Projections\n",
      "#Mathematical_approximations\n",
      "#Years_for_world_population_to_double\n",
      "#Number_of_humans_who_have_ever_lived\n",
      "#See_also\n",
      "#Explanatory_notes\n",
      "#References\n",
      "#Sources\n",
      "#Further_reading\n",
      "#External_links\n",
      "/wiki/File:Illustration_of_contemporary_and_past_human_populations_Our_World_in_Data.png\n",
      "/wiki/File:Illustration_of_contemporary_and_past_human_populations_Our_World_in_Data.png\n",
      "/wiki/Estimates_of_historical_world_population\n",
      "/wiki/Human_history\n",
      "/wiki/Modernity\n",
      "/wiki/Age_of_Discovery\n",
      "#cite_note-13\n",
      "/wiki/William_Petty\n",
      "#cite_note-14\n",
      "#cite_note-15\n",
      "#cite_note-Kapitza2-16\n",
      "/wiki/Classical_demography\n",
      "/wiki/Medieval_demography\n",
      "#cite_note-17\n",
      "#cite_note-18\n",
      "/wiki/Toba_catastrophe_theory\n",
      "/wiki/Roman_Empire\n",
      "#cite_note-19\n",
      "/wiki/Plague_of_Justinian\n",
      "#cite_note-20\n",
      "#cite_note-21\n",
      "#cite_note-22\n",
      "/wiki/Indian_subcontinent\n",
      "/wiki/Black_Death\n",
      "/wiki/Pandemic\n",
      "#cite_note-Essai_sur_l'évolution_du_nombre_des_hommes-23\n",
      "#cite_note-24\n",
      "#cite_note-25\n",
      "/wiki/Mongol_Empire\n",
      "#cite_note-26\n",
      "/wiki/Han_dynasty\n",
      "/wiki/Ancient_China\n",
      "#cite_note-nishijima_1986_pp595-96-27\n",
      "/wiki/Western_Han\n",
      "/wiki/End_of_the_Han_dynasty\n",
      "#cite_note-nishijima_1986_pp595-96-27\n",
      "#cite_note-Essai_sur_l'évolution_du_nombre_des_hommes-23\n",
      "/wiki/Ming_dynasty\n",
      "#cite_note-28\n",
      "#cite_note-29\n",
      "#cite_note-30\n",
      "#cite_note-31\n",
      "#cite_note-32\n",
      "#cite_note-33\n",
      "/wiki/Maize\n",
      "/wiki/Cassava\n",
      "/wiki/Staple_food\n",
      "#cite_note-34\n",
      "/wiki/Pre-Columbian_era\n",
      "#cite_note-35\n",
      "#cite_note-36\n",
      "/wiki/List_of_epidemics\n",
      "#cite_note-37\n",
      "/wiki/Population_history_of_indigenous_peoples_of_the_Americas\n",
      "/wiki/New_World\n",
      "/wiki/Old_World\n",
      "/wiki/Smallpox\n",
      "/wiki/Measles\n",
      "/wiki/Influenza\n",
      "#cite_note-38\n",
      "#cite_note-39\n",
      "/wiki/File:2006megacities.svg\n",
      "/wiki/File:2006megacities.svg\n",
      "#cite_note-40\n",
      "#cite_note-41\n",
      "/wiki/British_Agricultural_Revolution\n",
      "/wiki/Industrial_Revolution\n",
      "/wiki/Life_expectancy\n",
      "#cite_note-42\n",
      "/wiki/Infant_mortality\n",
      "#cite_note-Buer-43\n",
      "#cite_note-44\n",
      "#cite_note-45\n",
      "#cite_note-46\n",
      "/wiki/Western_world\n",
      "/wiki/Vaccination\n",
      "/wiki/Sanitation\n",
      "#cite_note-47\n",
      "#cite_note-48\n",
      "#cite_note-49\n",
      "#cite_note-50\n",
      "/wiki/Russian_Empire\n",
      "/wiki/Soviet_Union\n",
      "/wiki/Famine\n",
      "#cite_note-51\n",
      "#cite_note-52\n",
      "#cite_note-53\n",
      "#cite_note-54\n",
      "/wiki/Developing_world\n",
      "#cite_note-55\n",
      "/wiki/Indian_subcontinent\n",
      "#cite_note-56\n",
      "#cite_note-57\n",
      "/wiki/Java\n",
      "/wiki/Indonesia\n",
      "#cite_note-58\n",
      "#cite_note-59\n",
      "#cite_note-60\n",
      "#cite_note-61\n",
      "/wiki/World_population_milestones\n",
      "#cite_note-:6-62\n",
      "#cite_note-63\n",
      "#cite_note-USCBcite-64\n",
      "#cite_note-UN7bn-65\n",
      "#cite_note-Guardian7-66\n",
      "#cite_note-UPI7bn-67\n",
      "#cite_note-auto-68\n",
      "#cite_note-:7-69\n",
      "#cite_note-WorldPopProspects-70\n",
      "/wiki/Fertility\n",
      "/wiki/Mortality_rate\n",
      "#cite_note-WorldPopProspects-70\n",
      "#cite_note-LongRangeProjections2003KeyFindings-71\n",
      "#cite_note-Fertility2010-72\n",
      "/wiki/Day_of_Seven_Billion\n",
      "#cite_note-73\n",
      "/wiki/Vinice_Mabansag\n",
      "#cite_note-74\n",
      "#cite_note-auto-68\n",
      "/wiki/Demographics_of_the_world\n",
      "/wiki/File:Expectancy_of_life.svg\n",
      "/wiki/File:Expectancy_of_life.svg\n",
      "#cite_note-WHOStats2016-75\n",
      "/wiki/Human_sex_ratio\n",
      "#cite_note-IndexWorldDemogr.-76\n",
      "#cite_note-IndexWorldDemogr.-76\n",
      "#cite_note-:0-12\n",
      "#cite_note-77\n",
      "/wiki/World_Health_Organization\n",
      "/wiki/List_of_countries_by_life_expectancy\n",
      "#cite_note-78\n",
      "/wiki/Fertility_rate\n",
      "#cite_note-79\n",
      "#cite_note-80\n",
      "/wiki/International_Monetary_Fund\n",
      "/wiki/Gross_world_product\n",
      "#cite_note-81\n",
      "/wiki/Extreme_poverty\n",
      "#cite_note-82\n",
      "/wiki/Malnutrition\n",
      "#cite_note-83\n",
      "/wiki/Literacy_rate\n",
      "#cite_note-84\n",
      "#cite_note-85\n",
      "/wiki/Han_Chinese\n",
      "#cite_note-86\n",
      "/wiki/English_language\n",
      "/wiki/Mandarin_Chinese\n",
      "/wiki/Hindi\n",
      "/wiki/Spanish_language\n",
      "/wiki/French_language\n",
      "#cite_note-87\n",
      "/wiki/Christianity\n",
      "/wiki/Islam\n",
      "/wiki/Irreligion\n",
      "/wiki/Hinduism\n",
      "#cite_note-Pew-88\n",
      "#cite_note-WPP2015total-89\n",
      "#cite_note-note-2030-90\n",
      "/wiki/China\n",
      "/wiki/Demographics_of_China\n",
      "#cite_note-china-note-91\n",
      "/wiki/India\n",
      "/wiki/Demographics_of_India\n",
      "/wiki/United_States\n",
      "/wiki/Demographics_of_the_United_States\n",
      "/wiki/Indonesia\n",
      "/wiki/Demographics_of_Indonesia\n",
      "/wiki/Pakistan\n",
      "/wiki/Demographics_of_Pakistan\n",
      "/wiki/Brazil\n",
      "/wiki/Demographics_of_Brazil\n",
      "/wiki/Nigeria\n",
      "/wiki/Demographics_of_Nigeria\n",
      "/wiki/Bangladesh\n",
      "/wiki/Demographics_of_Bangladesh\n",
      "/wiki/Russia\n",
      "/wiki/Demographics_of_Russia\n",
      "/wiki/Mexico\n",
      "/wiki/Demographics_of_Mexico\n",
      "#cite_ref-note-2030_90-0\n",
      "#cite_ref-china-note_91-0\n",
      "/wiki/Hong_Kong\n",
      "/wiki/Macau\n",
      "/wiki/Continent\n",
      "/wiki/Latin_American\n",
      "/wiki/Caribbean\n",
      "/wiki/Oceania\n",
      "#cite_note-92\n",
      "/wiki/Antarctica\n",
      "/wiki/Research_stations_in_Antarctica\n",
      "#cite_note-AntarcticCIA-93\n",
      "/wiki/China\n",
      "#cite_note-94\n",
      "/wiki/Japan\n",
      "/wiki/Tokyo\n",
      "/wiki/Japan\n",
      "/wiki/Greater_Tokyo_Area\n",
      "/wiki/Nigeria\n",
      "/wiki/Egypt\n",
      "/wiki/Cairo\n",
      "/wiki/Egypt\n",
      "/wiki/Greater_Cairo\n",
      "/wiki/Russia\n",
      "/wiki/European_Russia\n",
      "/wiki/Russia\n",
      "/wiki/Moscow\n",
      "/wiki/Russia\n",
      "/wiki/Moscow_metropolitan_area\n",
      "/wiki/Latin_America\n",
      "/wiki/Brazil\n",
      "/wiki/Brazil\n",
      "/wiki/S%C3%A3o_Paulo\n",
      "/wiki/Brazil\n",
      "/wiki/Greater_S%C3%A3o_Paulo\n",
      "/wiki/Northern_America\n",
      "#cite_note-95\n",
      "/wiki/United_States\n",
      "/wiki/United_States\n",
      "/wiki/New_York_City\n",
      "/wiki/United_States\n",
      "/wiki/New_York_metropolitan_area\n",
      "#cite_note-CityPopulation.de-96\n",
      "/wiki/Oceania\n",
      "/wiki/Australia\n",
      "/wiki/Australia\n",
      "/wiki/Sydney\n",
      "/wiki/Antarctica\n",
      "#cite_note-AntarcticCIA-93\n",
      "#cite_note-97\n",
      "/wiki/Antarctica\n",
      "/wiki/McMurdo_Station\n",
      "/wiki/List_of_countries_and_dependencies_by_population\n",
      "/wiki/File:Global_population_cartogram.png\n",
      "/wiki/File:Global_population_cartogram.png\n",
      "/wiki/Cartogram\n",
      "/wiki/File:World_Population.svg\n",
      "/wiki/File:World_Population.svg\n",
      "/wiki/File:Top_5_Country_Population_Graph_1901_to_2021.svg\n",
      "/wiki/File:Top_5_Country_Population_Graph_1901_to_2021.svg\n",
      "/wiki/List_of_sovereign_states\n",
      "/wiki/Dependent_territory\n",
      "/wiki/United_Nations\n",
      "/wiki/Demographics_of_China\n",
      "#cite_note-98\n",
      "/wiki/Demographics_of_India\n",
      "#cite_note-99\n",
      "/wiki/Demographics_of_the_United_States\n",
      "#cite_note-100\n",
      "/wiki/Demographics_of_Indonesia\n",
      "#cite_note-101\n",
      "/wiki/Demographics_of_Pakistan\n",
      "#cite_note-unpop-102\n",
      "/wiki/Demographics_of_Nigeria\n",
      "#cite_note-unpop-102\n",
      "/wiki/Demographics_of_Brazil\n",
      "#cite_note-103\n",
      "/wiki/Demographics_of_Bangladesh\n",
      "#cite_note-BangladeshPopulation-104\n",
      "/wiki/Demographics_of_Russia\n",
      "#cite_note-105\n",
      "/wiki/Demographics_of_Mexico\n",
      "#cite_note-106\n",
      "/wiki/List_of_countries_and_dependencies_by_population_density\n",
      "/wiki/The_World_Factbook\n",
      "/wiki/File:Population_Density,_v4.11,_2020_(48009093621).jpg\n",
      "/wiki/File:Population_Density,_v4.11,_2020_(48009093621).jpg\n",
      "#cite_note-:10-107\n",
      "/wiki/Singapore\n",
      "/wiki/Bangladesh\n",
      "/wiki/State_of_Palestine\n",
      "#cite_note-108\n",
      "/wiki/Lebanon\n",
      "/wiki/Taiwan\n",
      "/wiki/South_Korea\n",
      "/wiki/Rwanda\n",
      "/wiki/Israel\n",
      "/wiki/Haiti\n",
      "/wiki/Netherlands\n",
      "#cite_note-:10-107\n",
      "/wiki/Wikipedia:Citation_needed\n",
      "/wiki/India\n",
      "/wiki/Pakistan\n",
      "/wiki/Bangladesh\n",
      "/wiki/Japan\n",
      "#cite_note-BigDecline-109\n",
      "/wiki/Philippines\n",
      "/wiki/Vietnam\n",
      "/wiki/United_Kingdom\n",
      "/wiki/South_Korea\n",
      "/wiki/Taiwan\n",
      "/wiki/Sri_Lanka\n",
      "/wiki/Population_growth\n",
      "/wiki/Projections_of_population_growth\n",
      "/wiki/Population_dynamics\n",
      "/wiki/File:World_population_(UN).svg\n",
      "/wiki/File:World_population_(UN).svg\n",
      "/wiki/Continent\n",
      "/wiki/Logarithmic_scale\n",
      "#cite_note-110\n",
      "/wiki/Demographic_transition\n",
      "/wiki/Mortality_rate\n",
      "/wiki/History_of_medicine#Modern_medicine\n",
      "/wiki/Green_Revolution\n",
      "#cite_note-111\n",
      "#cite_note-112\n",
      "#Past_population\n",
      "#cite_note-:8-6\n",
      "/wiki/Population_growth\n",
      "#cite_note-113\n",
      "/wiki/Projections_of_population_growth#Growth_regions\n",
      "/wiki/Sub-Saharan_Africa\n",
      "#cite_note-114\n",
      "/wiki/File:Total_Fertility_Rate_Map_by_Country.svg\n",
      "/wiki/File:Total_Fertility_Rate_Map_by_Country.svg\n",
      "/wiki/Population_Reference_Bureau\n",
      "/wiki/File:World_population_counter,_Eureka,_Halifax,_West_Yorkshire_(27th_August_2022)_001.jpg\n",
      "/wiki/File:World_population_counter,_Eureka,_Halifax,_West_Yorkshire_(27th_August_2022)_001.jpg\n",
      "/wiki/Eureka!_(museum)\n",
      "/wiki/Halifax,_West_Yorkshire\n",
      "/wiki/West_Yorkshire\n",
      "/wiki/Negative_population_growth\n",
      "/wiki/Net_(economics)\n",
      "/wiki/Sub-replacement_fertility\n",
      "#cite_note-BigDecline-109\n",
      "#cite_note-:8-6\n",
      "#cite_note-:7-69\n",
      "#cite_note-115\n",
      "#cite_note-116\n",
      "/wiki/University_of_Washington\n",
      "#cite_note-117\n",
      "/wiki/File:Population_curve.svg\n",
      "/wiki/10th_millennium_BC\n",
      "/wiki/File:World_population_growth_(lin-log_scale).png\n",
      "/wiki/Logarithmic_scale\n",
      "/wiki/File:World_population_history.svg\n",
      "#cite_note-118\n",
      "/wiki/Population_growth\n",
      "/wiki/Total_fertility_rate\n",
      "/wiki/Birth_rate\n",
      "#cite_note-UN-119\n",
      "#cite_note-120\n",
      "#cite_note-autogenerated1-121\n",
      "#cite_note-Vallin-122\n",
      "#cite_note-un2004-123\n",
      "#cite_note-124\n",
      "#cite_note-Americas-125\n",
      "#cite_note-Americas-125\n",
      "#cite_note-Vallin-122\n",
      "#cite_note-un2004-123\n",
      "#cite_note-Americas-125\n",
      "#cite_note-Americas-125\n",
      "/wiki/Estimates_of_historical_world_population\n",
      "#cite_note-126\n",
      "#cite_note-WPP2015total-89\n",
      "#cite_note-Americas-125\n",
      "#cite_note-Americas-125\n",
      "#cite_note-127\n",
      "#cite_note-HistoricalEstimates-128\n",
      "/wiki/Wikipedia:Citation_needed\n",
      "#cite_note-CensusPopulation-129\n",
      "#cite_ref-Americas_125-0\n",
      "#cite_ref-Americas_125-1\n",
      "#cite_ref-Americas_125-2\n",
      "#cite_ref-Americas_125-3\n",
      "#cite_ref-Americas_125-4\n",
      "#cite_ref-Americas_125-5\n",
      "/wiki/Greenland\n",
      "/wiki/Bermuda\n",
      "/wiki/Saint_Pierre_and_Miquelon\n",
      "/wiki/Caribbean\n",
      "/wiki/Projections_of_population_growth\n",
      "/wiki/File:Question_book-new.svg\n",
      "/wiki/Wikipedia:Verifiability\n",
      "https://en.wikipedia.org/w/index.php?title=World_population&action=edit\n",
      "/wiki/Help:Referencing_for_beginners\n",
      "/wiki/Help:Maintenance_template_removal\n",
      "#cite_note-UN-119\n",
      "#cite_note-131\n",
      "/wiki/Wikipedia:Citation_needed\n",
      "/wiki/Birth_rate\n",
      "/wiki/Mortality_rate\n",
      "/wiki/Wikipedia:Citation_needed\n",
      "/wiki/Infectious_disease#Mortality_from_infectious_diseases\n",
      "/wiki/List_of_wars\n",
      "/wiki/Life_extension\n",
      "/wiki/Public_health\n",
      "/wiki/Birth_rate\n",
      "/wiki/Mortality_rate\n",
      "#cite_note-132\n",
      "#cite_note-133\n",
      "#cite_note-:2-10\n",
      "#cite_note-:3-11\n",
      "#cite_note-134\n",
      "#cite_note-135\n",
      "/wiki/United_Nations_Population_Division\n",
      "#cite_note-LongRangeProjections2003KeyFindings-71\n",
      "#cite_note-136\n",
      "#cite_note-137\n",
      "#cite_note-138\n",
      "#cite_note-139\n",
      "/wiki/German_Foundation_for_World_Population\n",
      "#cite_note-140\n",
      "/wiki/Institute_for_Health_Metrics_and_Evaluation\n",
      "#cite_note-141\n",
      "/wiki/Human_impact_on_the_environment\n",
      "#cite_note-StokstadAAAS-142\n",
      "#cite_note-143\n",
      "#cite_note-144\n",
      "#cite_note-TIMEenvir-145\n",
      "#cite_note-Zehner-146\n",
      "#cite_note-UN19-147\n",
      "#cite_note-148\n",
      "#cite_note-UN19-147\n",
      "/wiki/Sebastian_von_Hoerner\n",
      "/wiki/Hyperbolic_growth\n",
      "#cite_note-149\n",
      "/wiki/Carrying_capacity\n",
      "#cite_note-150\n",
      "/wiki/Sergey_Kapitsa\n",
      "#cite_note-Kapitza-151\n",
      "/wiki/Estimates_of_historical_world_population\n",
      "/wiki/2nd_millennium\n",
      "#cite_note-152\n",
      "/wiki/File:Population-doubling.svg\n",
      "/wiki/File:Population-doubling.svg\n",
      "#cite_note-153\n",
      "/wiki/Prehistoric_demography\n",
      "/wiki/1E11\n",
      "#cite_note-Kapitza2-16\n",
      "#cite_note-154\n",
      "/wiki/Population_Reference_Bureau\n",
      "#cite_note-155\n",
      "#cite_note-Curtin2007-156\n",
      "#cite_note-Haub1995-157\n",
      "#cite_note-Haub2011-158\n",
      "#cite_note-Haub1995-157\n",
      "/wiki/Census_in_Egypt\n",
      "/wiki/Achaemenid_Empire\n",
      "#cite_note-159\n",
      "/wiki/Infant_mortality\n",
      "/wiki/Life_expectancy_at_birth\n",
      "#cite_note-Haub1995-157\n",
      "/wiki/Life_expectancy#Variation_over_time\n",
      "/wiki/Demographics_of_the_world\n",
      "/wiki/Anthropocene\n",
      "/wiki/Birth_control\n",
      "/wiki/Coastal_development_hazards#Coastal_population_growth_and_development_on_coasts\n",
      "/wiki/Demographic_transition\n",
      "/wiki/Population_decline\n",
      "/wiki/Doomsday_argument\n",
      "/wiki/Family_planning\n",
      "/wiki/Food_security\n",
      "/wiki/Human_overpopulation\n",
      "/wiki/Megacity\n",
      "/wiki/Natalism\n",
      "/wiki/One-child_policy\n",
      "/wiki/Population_growth\n",
      "/wiki/Population_dynamics\n",
      "/wiki/Two-child_policy\n",
      "/wiki/List_of_population_concern_organizations\n",
      "/wiki/List_of_countries_and_dependencies_by_population\n",
      "/wiki/List_of_sovereign_states_and_dependencies_by_total_fertility_rate\n",
      "/wiki/List_of_countries_by_population_growth_rate\n",
      "/wiki/List_of_countries_by_past_and_projected_future_population\n",
      "/wiki/List_of_countries_by_population_in_1900\n",
      "/wiki/List_of_countries_and_dependencies_by_population_density\n",
      "/wiki/List_of_largest_cities\n",
      "/wiki/List_of_religious_populations\n",
      "/wiki/Lists_of_organisms_by_population\n",
      "/wiki/Census#History_of_censuses\n",
      "/wiki/Historical_demography\n",
      "#cite_ref-94\n",
      "/wiki/Hong_Kong\n",
      "/wiki/Macau\n",
      "#cite_ref-95\n",
      "/wiki/Mexico\n",
      "/wiki/Central_America\n",
      "/wiki/Caribbean\n",
      "#cite_ref-97\n",
      "/wiki/Antarctic_Treaty_System\n",
      "/wiki/Territorial_claims_in_Antarctica\n",
      "/wiki/Ross_Dependency\n",
      "#cite_ref-1\n",
      "https://ourworldindata.org/grapher/world-population-1750-2015-and-un-projection-until-2100\n",
      "#cite_ref-:4_2-0\n",
      "#cite_ref-:4_2-1\n",
      "https://population.un.org/wpp/Graphs/Probabilistic/POP/TOT/900\n",
      "#cite_ref-:9_3-0\n",
      "https://www.axios.com/2022/11/14/global-population-8-billion-data-world-humans-un\n",
      "/wiki/Axios_(website)\n",
      "#cite_ref-4\n",
      "#cite_ref-:1_5-0\n",
      "https://web.archive.org/web/20160919061238/https://esa.un.org/unpd/wpp/DataQuery/\n",
      "https://esa.un.org/unpd/wpp/DataQuery/\n",
      "#cite_ref-:8_6-0\n",
      "#cite_ref-:8_6-1\n",
      "#cite_ref-:8_6-2\n",
      "https://population.un.org/wpp/Download/Standard/Population/\n",
      "#cite_ref-:5_7-0\n",
      "#cite_ref-:5_7-1\n",
      "https://population.un.org/wpp/Download/Standard/Population/\n",
      "#cite_ref-8\n",
      "https://ourworldindata.org/world-population-growth\n",
      "https://web.archive.org/web/20161013144559/https://ourworldindata.org/world-population-growth/\n",
      "#cite_ref-9\n",
      "https://ghostarchive.org/archive/20211228/https://www.nytimes.com/2021/05/22/world/global-population-shrinking.html\n",
      "/wiki/ISSN_(identifier)\n",
      "//www.worldcat.org/issn/0362-4331\n",
      "https://www.nytimes.com/2021/05/22/world/global-population-shrinking.html\n",
      "#cite_ref-:2_10-0\n",
      "#cite_ref-:2_10-1\n",
      "https://population.un.org/wpp/Download/Standard/Fertility/\n",
      "#cite_ref-:3_11-0\n",
      "#cite_ref-:3_11-1\n",
      "https://population.un.org/wpp/Download/Standard/Mortality/\n",
      "#cite_ref-:0_12-0\n",
      "#cite_ref-:0_12-1\n",
      "https://www.cia.gov/the-world-factbook/countries/world/\n",
      "#cite_ref-13\n",
      "/wiki/English_compound\n",
      "#cite_ref-14\n",
      "https://books.google.com/books?id=0S0AAAAAYAAJ&pg=PA167#v=onepage&q&f=false\n",
      "#cite_ref-15\n",
      "https://books.google.com/books?id=ue5eAAAAcAAJ&pg=PA356\n",
      "https://web.archive.org/web/20190606203312/https://books.google.com/books?id=ue5eAAAAcAAJ&pg=PA356\n",
      "/wiki/Wayback_Machine\n",
      "https://books.google.com/books?id=ZzA3AAAAMAAJ&pg=PA10\n",
      "https://web.archive.org/web/20190606203315/https://books.google.com/books?id=ZzA3AAAAMAAJ&pg=PA10\n",
      "/wiki/Wayback_Machine\n",
      "https://archive.org/details/60340180R.nlm.nih.gov/page/n28\n",
      "#cite_ref-Kapitza2_16-0\n",
      "#cite_ref-Kapitza2_16-1\n",
      "#cite_ref-17\n",
      "https://books.google.com/books?id=cXuCjDbxC1YC&pg=PA26\n",
      "/wiki/ISBN_(identifier)\n",
      "/wiki/Special:BookSources/978-2-7605-1588-8\n",
      "#cite_ref-18\n",
      "/wiki/ISBN_(identifier)\n",
      "/wiki/Special:BookSources/0-8221-0166-1\n",
      "#cite_ref-19\n",
      "https://web.archive.org/web/20160507061006/http://www.tulane.edu/~august/H303/handouts/Population.htm\n",
      "http://www.tulane.edu/~august/H303/handouts/Population.htm\n",
      "#cite_ref-20\n",
      "http://science.nationalgeographic.com/science/health-and-human-body/human-diseases/plague-article.html\n",
      "https://web.archive.org/web/20130722230538/http://science.nationalgeographic.com/science/health-and-human-body/human-diseases/plague-article.html\n",
      "#cite_ref-21\n",
      "http://www.britannica.com/EBchecked/topic/195896/history-of-Europe/276190/Demographic-and-agricultural-growth#ref=ref994290\n",
      "https://web.archive.org/web/20121220154316/http://www.britannica.com/EBchecked/topic/195896/history-of-Europe/276190/Demographic-and-agricultural-growth#ref=ref994290\n",
      "#cite_ref-22\n",
      "https://www.census.gov/population/international/data/worldpop/table_history.php\n",
      "https://web.archive.org/web/20120709092946/https://www.census.gov/population/international/data/worldpop/table_history.php\n",
      "#cite_ref-Essai_sur_l'évolution_du_nombre_des_hommes_23-0\n",
      "#cite_ref-Essai_sur_l'évolution_du_nombre_des_hommes_23-1\n",
      "https://www.jstor.org/stable/1531855\n",
      "/wiki/Doi_(identifier)\n",
      "https://doi.org/10.2307%2F1531855\n",
      "/wiki/JSTOR_(identifier)\n",
      "//www.jstor.org/stable/1531855\n",
      "#cite_ref-24\n",
      "https://web.archive.org/web/20080725005418/http://www.time.com/time/europe/magazine/2000/0717/peter.html\n",
      "http://www.time.com/time/world/article/0,8599,2050585,00.html\n",
      "#cite_ref-25\n",
      "https://books.google.com/books?id=cHcjnkrMweYC&pg=PA285\n",
      "/wiki/ISBN_(identifier)\n",
      "/wiki/Special:BookSources/978-0-691-09291-1\n",
      "#cite_ref-26\n",
      "https://books.google.com/books?id=nmgNXoiAiU4C&pg=RA2-PA34\n",
      "/wiki/ISBN_(identifier)\n",
      "/wiki/Special:BookSources/978-0-12-765660-1\n",
      "#cite_ref-nishijima_1986_pp595-96_27-0\n",
      "#cite_ref-nishijima_1986_pp595-96_27-1\n",
      "#cite_ref-28\n",
      "http://afe.easia.columbia.edu/special/china_1750_demographic.htm\n",
      "/wiki/Columbia_University\n",
      "https://web.archive.org/web/20110708082757/http://afe.easia.columbia.edu/special/china_1750_demographic.htm\n",
      "#cite_ref-29\n",
      "http://www.britannica.com/EBchecked/topic/195896/history-of-Europe/58335/Demographics#ref=ref310375\n",
      "https://web.archive.org/web/20130723052625/http://www.britannica.com/EBchecked/topic/195896/history-of-Europe/58335/Demographics#ref=ref310375\n",
      "#cite_ref-30\n",
      "http://afe.easia.columbia.edu/china/geog/population.htm\n",
      "https://web.archive.org/web/20110719173803/http://afe.easia.columbia.edu/china/geog/population.htm\n",
      "#cite_ref-31\n",
      "http://archive.wikiwix.com/cache/20110726194333/http://www.learnnc.org/lp/editions/nchist-twoworlds/1866\n",
      "/wiki/University_of_North_Carolina\n",
      "http://www.learnnc.org/lp/editions/nchist-twoworlds/1866\n",
      "#cite_ref-32\n",
      "/wiki/ISBN_(identifier)\n",
      "/wiki/Special:BookSources/978-0-19-988381-3\n",
      "#cite_ref-33\n",
      "https://web.archive.org/web/20131208143623/http://researchnews.osu.edu/archive/suprtubr.htm\n",
      "/wiki/Ohio_State_University\n",
      "http://researchnews.osu.edu/archive/suprtubr.htm\n",
      "#cite_ref-34\n",
      "https://archive.org/details/albertschweitzer00jame\n",
      "https://archive.org/details/albertschweitzer00jame/page/242\n",
      "/wiki/ISBN_(identifier)\n",
      "/wiki/Special:BookSources/978-0-8156-0675-8\n",
      "#cite_ref-35\n",
      "https://web.archive.org/web/20080305224956/http://www.usna.edu/Users/history/kolp/HH345/PRE1492.HTM\n",
      "http://www.usna.edu/Users/history/kolp/HH345/PRE1492.HTM\n",
      "#cite_ref-36\n",
      "/wiki/Science_(journal)\n",
      "/wiki/Bibcode_(identifier)\n",
      "https://ui.adsabs.harvard.edu/abs/1995Sci...268.1601S\n",
      "/wiki/Doi_(identifier)\n",
      "https://doi.org/10.1126%2Fscience.268.5217.1601\n",
      "/wiki/PMID_(identifier)\n",
      "//pubmed.ncbi.nlm.nih.gov/17754613\n",
      "/wiki/S2CID_(identifier)\n",
      "https://api.semanticscholar.org/CorpusID:8512954\n",
      "#cite_ref-37\n",
      "https://archive.org/details/cambridgeencyclo0000aufd\n",
      "https://archive.org/details/cambridgeencyclo0000aufd/page/205\n",
      "/wiki/ISBN_(identifier)\n",
      "/wiki/Special:BookSources/978-0-521-55203-5\n",
      "#cite_ref-38\n",
      "https://www.pbs.org/gunsgermssteel/variables/smallpox.html\n",
      "https://web.archive.org/web/20180129120446/http://www.pbs.org/gunsgermssteel/variables/smallpox.html\n",
      "#cite_ref-39\n",
      "https://books.google.com/books?id=YiHHnV08ebkC&pg=PA31\n",
      "/wiki/ISBN_(identifier)\n",
      "/wiki/Special:BookSources/978-0-8263-2871-7\n",
      "https://web.archive.org/web/20160518062224/https://books.google.com/books?id=YiHHnV08ebkC&pg=PA31&dq#v=onepage&q=&f=false\n",
      "#cite_ref-40\n",
      "http://www.indexmundi.com/world/demographics_profile.html\n",
      "https://web.archive.org/web/20120607034921/http://www.indexmundi.com/world/demographics_profile.html\n",
      "#cite_ref-41\n",
      "http://www.fastcodesign.com/1669244/by-2050-70-of-the-worlds-population-will-be-urban-is-that-a-good-thing\n",
      "https://web.archive.org/web/20120512121735/http://www.fastcodesign.com/1669244/by-2050-70-of-the-worlds-population-will-be-urban-is-that-a-good-thing\n",
      "#cite_ref-42\n",
      "https://web.archive.org/web/20110405081151/http://home.vicnet.net.au/~ozideas/poprus.htm\n",
      "http://home.vicnet.net.au/~ozideas/poprus.htm\n",
      "#cite_ref-Buer_43-0\n",
      "https://archive.org/details/b29977368\n",
      "https://archive.org/details/b29977368/page/30\n",
      "/wiki/ISBN_(identifier)\n",
      "/wiki/Special:BookSources/978-0-415-38218-2\n",
      "#cite_ref-44\n",
      "https://www.bbc.co.uk/history/british/victorians/foundling_01.shtml\n",
      "https://web.archive.org/web/20130617072755/http://www.bbc.co.uk/history/british/victorians/foundling_01.shtml\n",
      "#cite_ref-45\n",
      "http://www.britannica.com/EBchecked/topic/387301/modernization/12022/Population-change\n",
      "https://web.archive.org/web/20090406074344/http://www.britannica.com/EBchecked/topic/387301/modernization/12022/Population-change\n",
      "#cite_ref-46\n",
      "https://books.google.com/books?id=nmgNXoiAiU4C&pg=RA2-PA42\n",
      "/wiki/ISBN_(identifier)\n",
      "/wiki/Special:BookSources/978-0-12-765660-1\n",
      "#cite_ref-47\n",
      "https://www.bbc.co.uk/history/british/victorians/victorian_medicine_01.shtml\n",
      "https://web.archive.org/web/20130305103509/http://www.bbc.co.uk/history/british/victorians/victorian_medicine_01.shtml\n",
      "#cite_ref-48\n",
      "https://www.independent.co.uk/news/uk/home-news/a-portrait-of-britain-in-2031-395231.html\n",
      "https://web.archive.org/web/20171209044150/https://www.independent.co.uk/news/uk/home-news/a-portrait-of-britain-in-2031-395231.html\n",
      "#cite_ref-49\n",
      "http://news.bbc.co.uk/1/hi/uk/5281360.stm\n",
      "https://web.archive.org/web/20090208232413/http://news.bbc.co.uk/1/hi/uk/5281360.stm\n",
      "#cite_ref-50\n",
      "http://geography.about.com/od/obtainpopulationdata/a/uspop.htm\n",
      "https://web.archive.org/web/20120113011006/http://geography.about.com/od/obtainpopulationdata/a/uspop.htm\n",
      "#cite_ref-51\n",
      "https://books.google.com/books?id=ZK2A5x7E8IkC&pg=PA64\n",
      "/wiki/ISBN_(identifier)\n",
      "/wiki/Special:BookSources/978-0521794367\n",
      "https://web.archive.org/web/20150904015129/https://books.google.com/books?id=ZK2A5x7E8IkC&pg=PA64\n",
      "#cite_ref-52\n",
      "https://books.google.com/books?id=yJcD7_Q_rQ8C&pg=PA167\n",
      "/wiki/ISBN_(identifier)\n",
      "/wiki/Special:BookSources/978-0-521-89424-1\n",
      "#cite_ref-53\n",
      "https://www.telegraph.co.uk/news/worldnews/vladimir-putin/9078672/Vladimir-Putin-vows-to-reverse-Russian-population-decline.html\n",
      "/wiki/The_Daily_Telegraph\n",
      "https://web.archive.org/web/20120424133957/http://www.telegraph.co.uk/news/worldnews/vladimir-putin/9078672/Vladimir-Putin-vows-to-reverse-Russian-population-decline.html\n",
      "#cite_ref-54\n",
      "http://www.rferl.org/content/russia-demography-health-birthrate-deaths/24998304.html\n",
      "#cite_ref-55\n",
      "/wiki/Doi_(identifier)\n",
      "https://doi.org/10.1017%2FS0305741000042594\n",
      "/wiki/JSTOR_(identifier)\n",
      "//www.jstor.org/stable/652987\n",
      "/wiki/S2CID_(identifier)\n",
      "https://api.semanticscholar.org/CorpusID:154294204\n",
      "#cite_ref-56\n",
      "http://www.petersoninstitute.org/publications/chapters_preview/98/1iie2806.pdf\n",
      "https://web.archive.org/web/20120304085740/http://www.petersoninstitute.org/publications/chapters_preview/98/1iie2806.pdf\n",
      "#cite_ref-57\n",
      "https://web.archive.org/web/20110927165947/https://www.cia.gov/library/publications/the-world-factbook/rankorder/2119rank.html#in\n",
      "https://www.cia.gov/library/publications/the-world-factbook/rankorder/2119rank.html#in\n",
      "#cite_ref-58\n",
      "https://www.britannica.com/place/Java-island-Indonesia\n",
      "https://web.archive.org/web/20221110131115/https://www.britannica.com/place/Java-island-Indonesia\n",
      "#cite_ref-59\n",
      "http://www.migrationinformation.org/Feature/display.cfm?ID=203\n",
      "/wiki/University_of_Guadalajara\n",
      "https://web.archive.org/web/20110505074111/http://www.migrationinformation.org/Feature/display.cfm?ID=203\n",
      "#cite_ref-60\n",
      "http://www.hist.umn.edu/~rmccaa/ipums-global/mexico_ipums_dublin_workshop.pdf\n",
      "/wiki/University_of_Minnesota\n",
      "https://web.archive.org/web/20131103195505/http://www.hist.umn.edu/~rmccaa/ipums-global/mexico_ipums_dublin_workshop.pdf\n",
      "#cite_ref-61\n",
      "/wiki/Gunnar_Heinsohn\n",
      "https://www.nytimes.com/2008/01/17/opinion/17iht-edheinsohn.1.9292632.html\n",
      "https://web.archive.org/web/20140715084143/http://www.nytimes.com/2008/01/17/opinion/17iht-edheinsohn.1.9292632.html\n",
      "#cite_ref-:6_62-0\n",
      "https://www.un.org/en/desa/world-population-reach-8-billion-15-november-2022\n",
      "#cite_ref-63\n",
      "https://web.archive.org/web/20160205063346/http://www.un.org/esa/population/publications/sixbillion/sixbilpart1.pdf\n",
      "https://www.un.org/esa/population/publications/sixbillion/sixbilpart1.pdf\n",
      "#cite_ref-USCBcite_64-0\n",
      "https://www.census.gov/population/popclockworld.html\n",
      "https://web.archive.org/web/20111118011415/http://www.census.gov/population/popclockworld.html\n",
      "#cite_ref-UN7bn_65-0\n",
      "https://www.bbc.co.uk/news/world-15459643\n",
      "https://web.archive.org/web/20111026202531/http://www.bbc.co.uk/news/world-15459643\n",
      "#cite_ref-Guardian7_66-0\n",
      "https://www.theguardian.com/world/2011/oct/31/seven-billionth-baby-born-philippines?intcmp=122\n",
      "https://web.archive.org/web/20130930143837/http://www.theguardian.com/world/2011/oct/31/seven-billionth-baby-born-philippines?intcmp=122\n",
      "#cite_ref-UPI7bn_67-0\n",
      "http://www.upi.com/Top_News/US/2011/10/31/7-billion-people-is-a-serious-challenge/UPI-73301320046200/\n",
      "https://web.archive.org/web/20111103213419/http://www.upi.com/Top_News/US/2011/10/31/7-billion-people-is-a-serious-challenge/UPI-73301320046200/\n",
      "#cite_ref-auto_68-0\n",
      "#cite_ref-auto_68-1\n",
      "https://www.unfpa.org/press/world-set-reach-8-billion-people-15-november-2022\n",
      "#cite_ref-:7_69-0\n",
      "#cite_ref-:7_69-1\n",
      "https://population.un.org/wpp/Download/Standard/Population/\n",
      "#cite_ref-WorldPopProspects_70-0\n",
      "#cite_ref-WorldPopProspects_70-1\n",
      "https://www.un.org/esa/population/publications/wpp2000/chapter5.pdf\n",
      "https://www.un.org/esa/population/publications/wpp2002/English.pdf\n",
      "https://www.un.org/esa/population/publications/longrange2/WorldPop2300final.pdf\n",
      "https://web.archive.org/web/20180919132323/http://www.un.org/esa/population/publications/longrange2/WorldPop2300final.pdf\n",
      "https://www.census.gov/ipc/www/idb/worldpopgraph.php\n",
      "/wiki/United_States_Census_Bureau\n",
      "https://web.archive.org/web/20131005014003/http://www.census.gov/ipc/www/idb/worldpopgraph.php\n",
      "http://www.prb.org/pdf09/09wpds_eng.pdf\n",
      "/wiki/Population_Reference_Bureau\n",
      "https://web.archive.org/web/20100422034436/http://www.prb.org/pdf09/09wpds_eng.pdf\n",
      "#cite_ref-LongRangeProjections2003KeyFindings_71-0\n",
      "#cite_ref-LongRangeProjections2003KeyFindings_71-1\n",
      "https://www.un.org/esa/population/publications/longrange/longrangeKeyFind.pdf\n",
      "#cite_ref-Fertility2010_72-0\n",
      "https://web.archive.org/web/20120607191518/http://esa.un.org/unpd/wpp/Excel-Data/DB01_Period_Indicators/WPP2010_DB1_F01_TOTAL_FERTILITY.XLS\n",
      "http://esa.un.org/unpd/wpp/Excel-Data/DB01_Period_Indicators/WPP2010_DB1_F01_TOTAL_FERTILITY.XLS\n",
      "#cite_ref-73\n",
      "https://web.archive.org/web/20150224215308/http://esa.un.org/unpd/wpp/Other-Information/faq.htm\n",
      "http://esa.un.org/unpd/wpp/Other-Information/faq.htm\n",
      "#cite_ref-74\n",
      "https://news.un.org/en/story/2022/07/1122272\n",
      "https://web.archive.org/web/20220716035213/https://news.un.org/en/story/2022/07/1122272\n",
      "/wiki/Wayback_Machine\n",
      "#cite_ref-WHOStats2016_75-0\n",
      "https://www.who.int/gho/publications/world_health_statistics/2016/EN_WHS2016_AnnexB.pdf\n",
      "https://web.archive.org/web/20180517033759/http://www.who.int/gho/publications/world_health_statistics/2016/EN_WHS2016_AnnexB.pdf\n",
      "#cite_ref-IndexWorldDemogr._76-0\n",
      "#cite_ref-IndexWorldDemogr._76-1\n",
      "http://www.indexmundi.com/world/demographics_profile.html\n",
      "https://web.archive.org/web/20111130063938/http://www.indexmundi.com/world/demographics_profile.html\n",
      "#cite_ref-77\n",
      "https://www.un.org/esa/population/cpd/cpd2012/Agenda%20item%204/UN%20system%20statements/ECA_Item4.pdf\n",
      "https://web.archive.org/web/20131110111359/http://www.un.org/esa/population/cpd/cpd2012/Agenda%20item%204/UN%20system%20statements/ECA_Item4.pdf\n",
      "#cite_ref-78\n",
      "https://apps.who.int/gho/data/node.main.688\n",
      "#cite_ref-79\n",
      "https://ourworldindata.org/grapher/children-per-woman-UN\n",
      "#cite_ref-80\n",
      "https://www.bbc.co.uk/news/health-18462985\n",
      "https://web.archive.org/web/20130204103058/http://www.bbc.co.uk/news/health-18462985\n",
      "#cite_ref-81\n",
      "https://www.imf.org/external/datamapper/datasets/WEO\n",
      "#cite_ref-82\n",
      "https://data.worldbank.org/indicator/SI.POV.DDAY\n",
      "#cite_ref-83\n",
      "http://www.fao.org/docrep/016/i3027e/i3027e02.pdf\n",
      "https://web.archive.org/web/20140611064129/http://www.fao.org/docrep/016/i3027e/i3027e02.pdf\n",
      "/wiki/Wayback_Machine\n",
      "#cite_ref-84\n",
      "https://data.worldbank.org/indicator/SE.ADT.LITR.ZS\n",
      "#cite_ref-85\n",
      "https://www.statista.com/statistics/617136/digital-population-worldwide/\n",
      "#cite_ref-86\n",
      "https://blogs.wsj.com/chinarealtime/2011/03/04/worlds-most-typical-person-han-chinese-man/\n",
      "https://web.archive.org/web/20190606203315/https://blogs.wsj.com/chinarealtime/2011/03/04/worlds-most-typical-person-han-chinese-man/\n",
      "/wiki/Wayback_Machine\n",
      "#cite_ref-87\n",
      "https://www.visualcapitalist.com/100-most-spoken-languages/\n",
      "#cite_ref-Pew_88-0\n",
      "https://www.pewforum.org/2015/04/02/religious-projection-table/2010/number/all/\n",
      "#cite_ref-WPP2015total_89-0\n",
      "#cite_ref-WPP2015total_89-1\n",
      "https://web.archive.org/web/20151222125602/http://esa.un.org/unpd/wpp/DVD/Files/1_Indicators%20(Standard)/EXCEL_FILES/1_Population/WPP2015_POP_F01_1_TOTAL_POPULATION_BOTH_SEXES.XLS\n",
      "http://esa.un.org/unpd/wpp/DVD/Files/1_Indicators%20(Standard)/EXCEL_FILES/1_Population/WPP2015_POP_F01_1_TOTAL_POPULATION_BOTH_SEXES.XLS\n",
      "https://web.archive.org/web/20151225073428/http://esa.un.org/unpd/wpp/Download/Standard/Population/\n",
      "#cite_ref-92\n",
      "https://www.worldometers.info/world-population/population-by-region/\n",
      "#cite_ref-AntarcticCIA_93-0\n",
      "#cite_ref-AntarcticCIA_93-1\n",
      "https://www.cia.gov/the-world-factbook/countries/antarctica/\n",
      "#cite_ref-CityPopulation.de_96-0\n",
      "http://citypopulation.de/en/usa/combmetro/\n",
      "#cite_ref-98\n",
      "http://www.stats.gov.cn/tjsj/sjjd/202201/t20220118_1826538.html\n",
      "/wiki/National_Bureau_of_Statistics_of_China\n",
      "#cite_ref-99\n",
      "https://nhm.gov.in/New_Updates_2018/Report_Population_Projection_2019.pdf\n",
      "#cite_ref-100\n",
      "https://www.census.gov/popclock/\n",
      "https://web.archive.org/web/20151117025617/http://www.census.gov/popclock/\n",
      "#cite_ref-101\n",
      "https://www.bps.go.id/indicator/12/1975/1/mid-year-population.html\n",
      "/wiki/Statistics_Indonesia\n",
      "#cite_ref-unpop_102-0\n",
      "#cite_ref-unpop_102-1\n",
      "https://population.un.org/wpp/Download/Files/1_Indicators%20(Standard)/EXCEL_FILES/1_Population/WPP2019_POP_F01_1_TOTAL_POPULATION_BOTH_SEXES.xlsx\n",
      "#cite_ref-103\n",
      "https://www.ibge.gov.br/apps/populacao/projecao/index.html\n",
      "https://web.archive.org/web/20200204104203/https://www.ibge.gov.br/apps/populacao/projecao/index.html\n",
      "#cite_ref-BangladeshPopulation_104-0\n",
      "http://bbs.portal.gov.bd/sites/default/files/files/bbs.portal.gov.bd/page/c885f359_ef11_4abe_95f6_021865be3401/2022-05-12-10-42-55414488d843db66462b5410cb439c22.pdf\n",
      "https://web.archive.org/web/20220608195522/http://bbs.portal.gov.bd/sites/default/files/files/bbs.portal.gov.bd/page/c885f359_ef11_4abe_95f6_021865be3401/2022-05-12-10-42-55414488d843db66462b5410cb439c22.pdf\n",
      "#cite_ref-105\n",
      "https://www.themoscowtimes.com/2022/05/30/russia-reports-147m-population-in-2021-a77834\n",
      "#cite_ref-106\n",
      "https://www.economy.com/mexico/population/not-seasonally-adjusted\n",
      "#cite_ref-:10_107-0\n",
      "#cite_ref-:10_107-1\n",
      "https://www.cia.gov/the-world-factbook/countries/\n",
      "#cite_ref-108\n",
      "http://data.un.org/en/iso/ps.html\n",
      "#cite_ref-BigDecline_109-0\n",
      "#cite_ref-BigDecline_109-1\n",
      "https://www.telegraph.co.uk/news/worldnews/asia/japan/9999591/Japans-population-suffers-biggest-fall-in-history.html\n",
      "https://web.archive.org/web/20130521221053/http://www.telegraph.co.uk/news/worldnews/asia/japan/9999591/Japans-population-suffers-biggest-fall-in-history.html\n",
      "#cite_ref-110\n",
      "https://www.worldometers.info/world-population/\n",
      "#cite_ref-111\n",
      "http://news.bbc.co.uk/2/hi/in_depth/6496585.stm\n",
      "https://web.archive.org/web/20110728055441/http://news.bbc.co.uk/2/hi/in_depth/6496585.stm\n",
      "#cite_ref-112\n",
      "https://web.archive.org/web/20080422210924/http://www.energybulletin.net/19525.html\n",
      "http://www.energybulletin.net/19525.html\n",
      "#cite_ref-113\n",
      "https://ourworldindata.org/world-population-growth-past-future\n",
      "#cite_ref-114\n",
      "https://archive.org/details/littlegreenhandb00ronn\n",
      "/wiki/ISBN_(identifier)\n",
      "/wiki/Special:BookSources/978-0-312-42581-4\n",
      "#cite_ref-115\n",
      "https://web.archive.org/web/20100819143228/http://esa.un.org/UNPP/\n",
      "http://esa.un.org/unpp/\n",
      "#cite_ref-116\n",
      "#cite_ref-117\n",
      "http://www.washington.edu/news/2014/09/18/world-population-to-keep-growing-this-century-hit-11-billion-by-2100/\n",
      "https://web.archive.org/web/20161204155734/http://www.washington.edu/news/2014/09/18/world-population-to-keep-growing-this-century-hit-11-billion-by-2100/\n",
      "/wiki/Wayback_Machine\n",
      "#cite_ref-118\n",
      "https://www.worldometers.info/world-population/world-population-by-year/\n",
      "#cite_ref-UN_119-0\n",
      "#cite_ref-UN_119-1\n",
      "https://www.un.org/esa/population/publications/wpp2008/wpp2008_highlights.pdf\n",
      "/wiki/Population_Division_of_the_Department_of_Economic_and_Social_Affairs_of_the_United_Nations_Secretariat\n",
      "https://web.archive.org/web/20130319095657/http://www.un.org/esa/population/publications/wpp2008/wpp2008_highlights.pdf\n",
      "#cite_ref-120\n",
      "https://www.un.org/esa/population/publications/sixbillion/sixbillion.htm\n",
      "https://web.archive.org/web/20130709223435/http://www.un.org/esa/population/publications/sixbillion/sixbillion.htm\n",
      "#cite_ref-autogenerated1_121-0\n",
      "https://web.archive.org/web/20110724101452/http://www.globalchange.umich.edu/globalchange2/current/lectures/human_pop/human_pop.html\n",
      "/wiki/University_of_Michigan\n",
      "http://www.globalchange.umich.edu/globalchange2/current/lectures/human_pop/human_pop.html\n",
      "#cite_ref-Vallin_122-0\n",
      "#cite_ref-Vallin_122-1\n",
      "/wiki/ISBN_(identifier)\n",
      "/wiki/Special:BookSources/978-0-12-765660-1\n",
      "#cite_ref-un2004_123-0\n",
      "#cite_ref-un2004_123-1\n",
      "https://web.archive.org/web/20160205063346/http://www.un.org/esa/population/publications/sixbillion/sixbilpart1.pdf\n",
      "https://www.un.org/esa/population/publications/sixbillion/sixbilpart1.pdf\n",
      "#cite_ref-124\n",
      "https://web.archive.org/web/20140320035709/http://esa.un.org/unpd/wpp/unpp/panel_population.htm\n",
      "http://esa.un.org/unpd/wpp/Publications/Files/Key_Findings_WPP_2015.pdf\n",
      "#cite_ref-126\n",
      "https://www.un.org/esa/population/publications/sixbillion/sixbillion.htm\n",
      "https://web.archive.org/web/20160305042434/http://www.un.org/esa/population/publications/sixbillion/sixbillion.htm\n",
      "https://web.archive.org/web/20160101220025/http://www.un.org/esa/population/publications/sixbillion/sixbilpart1.pdf\n",
      "#cite_ref-127\n",
      "/wiki/Toba_catastrophe_theory\n",
      "https://www.bbc.co.uk/news/science-environment-22355515\n",
      "https://web.archive.org/web/20150107140627/http://www.bbc.co.uk/news/science-environment-22355515\n",
      "#cite_ref-HistoricalEstimates_128-0\n",
      "https://www.census.gov/data/tables/time-series/demo/international-programs/historical-est-worldpop.html\n",
      "https://web.archive.org/web/20190502001420/https://www.census.gov/data/tables/time-series/demo/international-programs/historical-est-worldpop.html\n",
      "/wiki/Wayback_Machine\n",
      "/wiki/Michael_Kremer\n",
      "/wiki/Doi_(identifier)\n",
      "https://doi.org/10.2307%2F2118405\n",
      "/wiki/JSTOR_(identifier)\n",
      "//www.jstor.org/stable/2118405\n",
      "#cite_ref-CensusPopulation_129-0\n",
      "https://www.census.gov/population/international/data/worldpop/table_population.php\n",
      "https://web.archive.org/web/20170521041303/https://www.census.gov/population/international/data/worldpop/table_population.php\n",
      "/wiki/Wayback_Machine\n",
      "#cite_ref-131\n",
      "https://www.census.gov/ipc/www/popwnote.html\n",
      "https://web.archive.org/web/20131002103104/http://www.census.gov/ipc/www/popwnote.html\n",
      "#cite_ref-132\n",
      "https://population.un.org/wpp/Download/Standard/Population/\n",
      "#cite_ref-133\n",
      "https://population.un.org/wpp/Download/Standard/Mortality/\n",
      "#cite_ref-134\n",
      "https://web.archive.org/web/20140701185837/http://esa.un.org/wpp/unpp/panel_population.htm\n",
      "http://esa.un.org/wpp/unpp/panel_population.htm\n",
      "#cite_ref-135\n",
      "https://www.un.org/apps/news/story.asp?NewsID=45165\n",
      "https://web.archive.org/web/20130823185917/http://www.un.org/apps/news/story.asp?NewsID=45165\n",
      "#cite_ref-136\n",
      "https://www.sciencedaily.com/releases/2013/04/130404072923.htm\n",
      "https://web.archive.org/web/20200102113023/https://www.sciencedaily.com/releases/2013/04/130404072923.htm\n",
      "#cite_ref-137\n",
      "https://www.theguardian.com/environment/2014/sep/18/world-population-new-study-11bn-2100\n",
      "https://web.archive.org/web/20140920203432/http://www.theguardian.com/environment/2014/sep/18/world-population-new-study-11bn-2100\n",
      "#cite_ref-138\n",
      "//www.ncbi.nlm.nih.gov/pmc/articles/PMC4230924\n",
      "/wiki/Bibcode_(identifier)\n",
      "https://ui.adsabs.harvard.edu/abs/2014Sci...346..234G\n",
      "/wiki/Doi_(identifier)\n",
      "https://doi.org/10.1126%2Fscience.1257469\n",
      "/wiki/ISSN_(identifier)\n",
      "//www.worldcat.org/issn/1095-9203\n",
      "/wiki/PMC_(identifier)\n",
      "//www.ncbi.nlm.nih.gov/pmc/articles/PMC4230924\n",
      "/wiki/PMID_(identifier)\n",
      "//pubmed.ncbi.nlm.nih.gov/25301627\n",
      "#cite_ref-139\n",
      "https://population.un.org/wpp/Publications/Files/WPP2019_10KeyFindings.pdf\n",
      "https://web.archive.org/web/20190703142439/https://population.un.org/wpp/Publications/Files/WPP2019_10KeyFindings.pdf\n",
      "#cite_ref-140\n",
      "https://www.dw.com/en/worlds-population-to-hit-775-billion-in-2019/a-51758905\n",
      "/wiki/Deutsche_Welle\n",
      "#cite_ref-141\n",
      "https://www.theguardian.com/world/2020/jul/15/world-population-in-2100-could-be-2-billion-below-un-forecasts-study-suggests\n",
      "#cite_ref-StokstadAAAS_142-0\n",
      "https://www.science.org/content/article/landmark-analysis-documents-alarming-global-decline-nature\n",
      "/wiki/Science_(journal)\n",
      "/wiki/American_Association_for_the_Advancement_of_Science\n",
      "#cite_ref-143\n",
      "/wiki/William_J._Ripple\n",
      "/wiki/Paul_R._Ehrlich\n",
      "https://scientistswarning.forestry.oregonstate.edu/sites/default/files/Crist2022.pdf\n",
      "/wiki/Science_of_the_Total_Environment\n",
      "/wiki/Bibcode_(identifier)\n",
      "https://ui.adsabs.harvard.edu/abs/2022ScTEn.845o7166C\n",
      "/wiki/Doi_(identifier)\n",
      "https://doi.org/10.1016%2Fj.scitotenv.2022.157166\n",
      "/wiki/PMID_(identifier)\n",
      "//pubmed.ncbi.nlm.nih.gov/35803428\n",
      "/wiki/S2CID_(identifier)\n",
      "https://api.semanticscholar.org/CorpusID:250387801\n",
      "#cite_ref-144\n",
      "https://books.google.com/books?id=GZ4Pvk0LVQMC\n",
      "/wiki/ISBN_(identifier)\n",
      "/wiki/Special:BookSources/978-1849770477\n",
      "#cite_ref-TIMEenvir_145-0\n",
      "https://web.archive.org/web/20130218180534/http://www.time.com/time/specials/packages/article/0,28804,2097720_2097782_2097814,00.html\n",
      "http://www.time.com/time/specials/packages/article/0,28804,2097720_2097782_2097814,00.html\n",
      "#cite_ref-Zehner_146-0\n",
      "http://greenillusions.org\n",
      "https://web.archive.org/web/20191129202344/http://www.greenillusions.org/\n",
      "#cite_ref-UN19_147-0\n",
      "#cite_ref-UN19_147-1\n",
      "https://population.un.org/wpp/Download/Files/1_Indicators%20(Standard)/EXCEL_FILES/1_Population/WPP2019_POP_F01_1_TOTAL_POPULATION_BOTH_SEXES.xlsx\n",
      "/wiki/Population_Division_of_the_Department_of_Economic_and_Social_Affairs_of_the_United_Nations_Secretariat\n",
      "#cite_ref-148\n",
      "https://www.census.gov/population/international/data/worldpop/table_population.php\n",
      "https://web.archive.org/web/20170521041303/https://www.census.gov/population/international/data/worldpop/table_population.php\n",
      "#cite_ref-149\n",
      "/wiki/Bibcode_(identifier)\n",
      "https://ui.adsabs.harvard.edu/abs/1975JBIS...28..691V\n",
      "#cite_ref-150\n",
      "http://urss.ru/cgi-bin/db.pl?cp=&page=Book&id=37484&lang=en&blang=en&list=14\n",
      "https://web.archive.org/web/20120210055935/http://urss.ru/cgi-bin/db.pl?cp=&lang=en&blang=en&list=14&page=Book&id=37484\n",
      "/wiki/Wayback_Machine\n",
      "/wiki/Andrey_Korotayev\n",
      "https://arxiv.org/abs/1206.0496\n",
      "https://web.archive.org/web/20190217142233/https://arxiv.org/abs/1206.0496\n",
      "/wiki/Wayback_Machine\n",
      "#cite_ref-Kapitza_151-0\n",
      "https://web.archive.org/web/20090511041230/http://srs.dl.ac.uk/SPEAKERS/KAPITZA/Uspekhi_96.html\n",
      "/wiki/Bibcode_(identifier)\n",
      "https://ui.adsabs.harvard.edu/abs/1996PhyU...39...57K\n",
      "/wiki/Doi_(identifier)\n",
      "https://doi.org/10.1070%2Fpu1996v039n01abeh000127\n",
      "/wiki/S2CID_(identifier)\n",
      "https://api.semanticscholar.org/CorpusID:250877833\n",
      "http://srs.dl.ac.uk/SPEAKERS/KAPITZA/Uspekhi_96.html\n",
      "#cite_ref-152\n",
      "http://pure.iiasa.ac.at/5299/1/RR-97-10.pdf\n",
      "/wiki/Bibcode_(identifier)\n",
      "https://ui.adsabs.harvard.edu/abs/1997Natur.387..803L\n",
      "/wiki/Doi_(identifier)\n",
      "https://doi.org/10.1038%2F42935\n",
      "/wiki/PMID_(identifier)\n",
      "//pubmed.ncbi.nlm.nih.gov/9194559\n",
      "/wiki/S2CID_(identifier)\n",
      "https://api.semanticscholar.org/CorpusID:4306159\n",
      "#cite_ref-153\n",
      "https://www.science.org/content/article/no-way-stop-human-population-growth\n",
      "#cite_ref-154\n",
      "#cite_ref-155\n",
      "https://www.prb.org/articles/how-many-people-have-ever-lived-on-earth/\n",
      "#cite_ref-Curtin2007_156-0\n",
      "http://www.sciam.com/article.cfm?id=fact-or-fiction-living-outnumber-dead\n",
      "/wiki/Bibcode_(identifier)\n",
      "https://ui.adsabs.harvard.edu/abs/2007SciAm.297c.126C\n",
      "/wiki/Doi_(identifier)\n",
      "https://doi.org/10.1038%2Fscientificamerican0907-126\n",
      "/wiki/PMID_(identifier)\n",
      "//pubmed.ncbi.nlm.nih.gov/17784634\n",
      "#cite_ref-Haub1995_157-0\n",
      "#cite_ref-Haub1995_157-1\n",
      "#cite_ref-Haub1995_157-2\n",
      "http://www.prb.org/pdf/PT_novdec02.pdf\n",
      "/wiki/Population_Reference_Bureau\n",
      "https://web.archive.org/web/20110812104745/http://www.prb.org/pdf/PT_novdec02.pdf\n",
      "#cite_ref-Haub2011_158-0\n",
      "https://web.archive.org/web/20130424014209/http://www.prb.org/Articles/2002/HowManyPeopleHaveEverLivedonEarth.aspx\n",
      "/wiki/Population_Reference_Bureau\n",
      "http://www.prb.org/Articles/2002/HowManyPeopleHaveEverLivedonEarth.aspx\n",
      "#cite_ref-159\n",
      "https://www.cia.gov/the-world-factbook/about/copyright-and-contributors/\n",
      "https://www.cia.gov/the-world-factbook/\n",
      "/wiki/CIA\n",
      "/wiki/ISBN_(identifier)\n",
      "/wiki/Special:BookSources/978-0-393-31495-3\n",
      "https://web.archive.org/web/20150816232627/http://esa.un.org/unpd/wpp/index.htm\n",
      "/wiki/United_Nations_Population_Division\n",
      "https://web.archive.org/web/20150816232627/http://esa.un.org/unpd/wpp/index.htm\n",
      "/wiki/United_Nations_Population_Division\n",
      "https://web.archive.org/web/20150816232627/http://esa.un.org/unpd/wpp/index.htm\n",
      "http://demographia.ru/eng/articles/index.html?idR=67&idArt=1815\n",
      "https://www.cia.gov/the-world-factbook/countries/world/\n",
      "/wiki/The_World_Factbook\n",
      "/wiki/Central_Intelligence_Agency\n",
      "https://www.pbs.org/wgbh/nova/transcripts/3108_worldbal.html\n",
      "https://berkeley.academia.edu/OzzieZehner/Papers/911571/The_Environmental_Politics_of_Population_and_Overpopulation/\n",
      "/wiki/University_of_California,_Berkeley\n",
      "https://www.economist.com/news/international/21579817-lot-more-people-faces-future\n",
      "https://www.bbc.co.uk/news/science-environment-23253917\n",
      "/wiki/BBC_News\n",
      "https://ourworldindata.org/world-population-growth/\n",
      "/wiki/OurWorldInData\n",
      "http://sacredlands.org/food_and_population.htm\n",
      "/wiki/Duke_University\n",
      "/wiki/David_Pimentel\n",
      "/wiki/Cornell_University\n",
      "https://commons.wikimedia.org/wiki/Category:World_population_statistics\n",
      "http://www.unfpa.org/press/six-billion-growing-population-and-sustainable-development-will-population-issues-undermine\n",
      "https://web.archive.org/web/20130718121104/http://7billionactions.org/\n",
      "http://www.prb.org/\n",
      "http://www.berlin-institut.org/index.php?id=48\n",
      "http://www.hivegroup.com/gallery/worldpop/\n",
      "http://www.win.tue.nl/~speckman/Cartograms/WorldCarto.html\n",
      "https://www.census.gov/popclock/\n",
      "https://www.worldometers.info/world-population/\n",
      "/wiki/Template:Population\n",
      "/wiki/Template_talk:Population\n",
      "https://en.wikipedia.org/w/index.php?title=Template:Population&action=edit\n",
      "/wiki/Demographics_of_the_world\n",
      "/wiki/Demographic_transition\n",
      "/wiki/Estimates_of_historical_world_population\n",
      "/wiki/Population\n",
      "/wiki/Population_growth\n",
      "/wiki/Population_momentum\n",
      "/wiki/Population_biology\n",
      "/wiki/Population_decline\n",
      "/wiki/Population_density\n",
      "/wiki/Physiological_density\n",
      "/wiki/Population_dynamics\n",
      "/wiki/Population_model\n",
      "/wiki/Population_pyramid\n",
      "/wiki/Projections_of_population_growth\n",
      "/wiki/Population_ecology\n",
      "/wiki/Earth%27s_energy_budget\n",
      "/wiki/I_%3D_PAT\n",
      "/wiki/Kaya_identity\n",
      "/wiki/Malthusian_growth_model\n",
      "/wiki/Overshoot_(population)\n",
      "/wiki/World3\n",
      "/wiki/Biocapacity\n",
      "/wiki/Human_overpopulation\n",
      "/wiki/Malthusianism\n",
      "/wiki/Human_population_planning\n",
      "/wiki/Compulsory_sterilization\n",
      "/wiki/Family_planning\n",
      "/wiki/One-child_policy\n",
      "/wiki/Two-child_policy\n",
      "/wiki/Population_ethics\n",
      "/wiki/Reproductive_rights\n",
      "/wiki/Sustainable_population\n",
      "/wiki/Zero_population_growth\n",
      "/wiki/A_Modest_Proposal\n",
      "/wiki/Observations_Concerning_the_Increase_of_Mankind,_Peopling_of_Countries,_etc.\n",
      "/wiki/An_Essay_on_the_Principle_of_Population\n",
      "/wiki/How_Much_Land_Does_a_Man_Need%3F\n",
      "/wiki/Operating_Manual_for_Spaceship_Earth\n",
      "/wiki/Population_Control:_Real_Costs,_Illusory_Benefits\n",
      "/wiki/The_Limits_to_Growth\n",
      "/wiki/The_Population_Bomb\n",
      "/wiki/The_Skeptical_Environmentalist\n",
      "/wiki/The_Ultimate_Resource\n",
      "/wiki/Fatal_Misconception\n",
      "/wiki/Population_and_Environment\n",
      "/wiki/Population_and_Development_Review\n",
      "/wiki/Population_and_housing_censuses_by_country\n",
      "/wiki/List_of_largest_cities\n",
      "/wiki/World_population_milestones\n",
      "/wiki/Day_of_Six_Billion\n",
      "/wiki/Day_of_Seven_Billion\n",
      "/wiki/Day_of_Eight_Billion\n",
      "/wiki/List_of_population_concern_organizations\n",
      "/wiki/7_Billion_Actions\n",
      "/wiki/International_Conference_on_Population_and_Development\n",
      "/wiki/Population_Action_International\n",
      "/wiki/Population_Connection\n",
      "/wiki/Population_Matters\n",
      "/wiki/United_Nations_Population_Fund\n",
      "/wiki/United_Nations_world_population_conferences\n",
      "/wiki/Voluntary_Human_Extinction_Movement\n",
      "/wiki/World_Population_Conference\n",
      "/wiki/World_Population_Day\n",
      "/wiki/World_Population_Foundation\n",
      "/wiki/Deep_ecology\n",
      "/wiki/Fertility_and_intelligence\n",
      "/wiki/Green_Revolution\n",
      "/wiki/Human_impact_on_the_environment\n",
      "/wiki/Human_migration\n",
      "https://commons.wikimedia.org/wiki/Category:Human_overpopulation\n",
      "/wiki/Category:Human_overpopulation\n",
      "/wiki/Template:Anthropogenic_effects_on_the_environment\n",
      "/wiki/Template_talk:Anthropogenic_effects_on_the_environment\n",
      "https://en.wikipedia.org/w/index.php?title=Template:Anthropogenic_effects_on_the_environment&action=edit\n",
      "/wiki/Human_impact_on_the_environment\n",
      "/wiki/Anthropocene\n",
      "/wiki/Environmental_issues\n",
      "/wiki/List_of_environmental_issues\n",
      "/wiki/Human_impact_on_the_environment\n",
      "/wiki/Human_impact_on_marine_life\n",
      "/wiki/List_of_global_issues\n",
      "/wiki/Environmental_impact_assessment\n",
      "/wiki/Planetary_boundaries\n",
      "/wiki/Environmental_impact_of_agriculture\n",
      "/wiki/Environmental_impact_of_cannabis_cultivation\n",
      "/wiki/Environmental_effects_of_irrigation\n",
      "/wiki/Environmental_impact_of_meat_production\n",
      "/wiki/Environmental_impact_of_cocoa_production\n",
      "/wiki/Social_and_environmental_impact_of_palm_oil\n",
      "/wiki/Environmental_impact_of_the_energy_industry\n",
      "/wiki/Indirect_land_use_change_impacts_of_biofuels\n",
      "/wiki/Environmental_impact_of_biodiesel\n",
      "/wiki/Health_and_environmental_impact_of_the_coal_industry\n",
      "/wiki/Environmental_impact_of_nuclear_power\n",
      "/wiki/Environmental_impact_of_the_oil_shale_industry\n",
      "/wiki/Environmental_impact_of_the_petroleum_industry\n",
      "/wiki/Environmental_impact_of_reservoirs\n",
      "/wiki/Genetic_pollution\n",
      "/wiki/Environmental_crime\n",
      "/wiki/Industrialisation\n",
      "/wiki/Land_use#Environment\n",
      "/wiki/Manufacturing\n",
      "/wiki/Environmental_impact_of_cleaning_products\n",
      "/wiki/Environmental_impact_of_concrete\n",
      "/wiki/Plastic#Environmental_effects\n",
      "/wiki/Impact_of_nanotechnology\n",
      "/wiki/Environmental_effects_of_paint\n",
      "/wiki/Environmental_effects_of_paper\n",
      "/wiki/Environmental_impact_of_pesticides\n",
      "/wiki/Environmental_impact_of_pharmaceuticals_and_personal_care_products\n",
      "/wiki/Human_impact_on_marine_life\n",
      "/wiki/Environmental_impact_of_fishing\n",
      "/wiki/Fishing_down_the_food_web\n",
      "/wiki/Marine_pollution\n",
      "/wiki/Overfishing\n",
      "/wiki/Environmental_effects_of_mining\n",
      "/wiki/Overconsumption\n",
      "/wiki/Overdrafting\n",
      "/wiki/Overexploitation\n",
      "/wiki/Overgrazing\n",
      "/wiki/Particulates\n",
      "/wiki/Pollution\n",
      "/wiki/Quarry\n",
      "/wiki/Environmental_impact_of_reservoirs\n",
      "/wiki/Impacts_of_tourism\n",
      "/wiki/Environmental_effects_of_transport\n",
      "/wiki/Environmental_effects_of_aviation\n",
      "/wiki/Environmental_effects_of_rail\n",
      "/wiki/Road_ecology\n",
      "/wiki/Environmental_effects_of_shipping\n",
      "/wiki/Urbanization\n",
      "/wiki/Urban_sprawl\n",
      "/wiki/Environmental_impact_of_war\n",
      "/wiki/Biodiversity_threats\n",
      "/wiki/Biodiversity_loss\n",
      "/wiki/Decline_in_amphibian_populations\n",
      "/wiki/Decline_in_insect_populations\n",
      "/wiki/Climate_change\n",
      "/wiki/Tipping_points_in_the_climate_system\n",
      "/wiki/Environmental_issues_with_coral_reefs\n",
      "/wiki/Deforestation\n",
      "/wiki/Defaunation\n",
      "/wiki/Desertification\n",
      "/wiki/Ecocide\n",
      "/wiki/Erosion\n",
      "/wiki/Environmental_degradation\n",
      "/wiki/Freshwater_cycle\n",
      "/wiki/Habitat_destruction\n",
      "/wiki/Holocene_extinction\n",
      "/wiki/Human_impact_on_the_nitrogen_cycle\n",
      "/wiki/Land_degradation\n",
      "/wiki/Land_consumption\n",
      "/wiki/Land_surface_effects_on_climate\n",
      "/wiki/Green_belt\n",
      "/wiki/Phosphorus_cycle#Human_influences\n",
      "/wiki/Ocean_acidification#Possible_impacts\n",
      "/wiki/Ozone_depletion\n",
      "/wiki/Resource_depletion\n",
      "/wiki/Water_degradation\n",
      "/wiki/Water_scarcity\n",
      "/wiki/Alternative_fuel_vehicle\n",
      "/wiki/Birth_control\n",
      "/wiki/Cleaner_production\n",
      "/wiki/Climate_change_mitigation\n",
      "/wiki/Climate_engineering\n",
      "/wiki/Community_resilience\n",
      "/wiki/Cultured_meat\n",
      "/wiki/Eco-economic_decoupling\n",
      "/wiki/Ecological_engineering\n",
      "/wiki/Environmental_engineering\n",
      "/wiki/Environmental_mitigation\n",
      "/wiki/Industrial_ecology\n",
      "/wiki/Mitigation_banking\n",
      "/wiki/Organic_farming\n",
      "/wiki/Recycling\n",
      "/wiki/Reforestation\n",
      "/wiki/Urban_reforestation\n",
      "/wiki/Restoration_ecology\n",
      "/wiki/Sustainable_consumption\n",
      "/wiki/Waste_minimisation\n",
      "https://commons.wikimedia.org/wiki/Category:Environmental_impact\n",
      "/wiki/Category:Environmental_impact_by_source\n",
      "/wiki/Category:Environmental_impact_by_country\n",
      "/wiki/Category:Environmental_impact_assessment\n",
      "/wiki/Category:Environmental_mitigation\n",
      "/wiki/Template:Lists_of_countries_by_population_statistics\n",
      "/wiki/Template_talk:Lists_of_countries_by_population_statistics\n",
      "https://en.wikipedia.org/w/index.php?title=Template:Lists_of_countries_by_population_statistics&action=edit\n",
      "/wiki/Lists_of_countries_and_territories\n",
      "/wiki/Demographic_statistics\n",
      "/wiki/List_of_countries_and_dependencies_by_population\n",
      "/wiki/List_of_countries_by_population_(United_Nations)\n",
      "/wiki/Demographics_of_the_world\n",
      "/wiki/List_of_continents_and_continental_subregions_by_population\n",
      "/wiki/List_of_African_countries_by_population\n",
      "/wiki/Demographics_of_Antarctica\n",
      "/wiki/List_of_Asian_countries_by_population\n",
      "/wiki/List_of_European_countries_by_population\n",
      "/wiki/List_of_North_American_countries_by_population\n",
      "/wiki/List_of_Caribbean_countries_by_population\n",
      "/wiki/List_of_Oceanian_countries_by_population\n",
      "/wiki/List_of_South_American_countries_by_population\n",
      "/wiki/List_of_countries_in_the_Americas_by_population\n",
      "/wiki/List_of_Arab_countries_by_population\n",
      "/wiki/List_of_member_states_of_the_Commonwealth_of_Nations_by_population\n",
      "/wiki/List_of_Eurasian_countries_by_population\n",
      "/wiki/List_of_European_Union_member_states_by_population\n",
      "/wiki/List_of_islands_by_population\n",
      "/wiki/List_of_Latin_American_countries_by_population\n",
      "/wiki/List_of_Middle_Eastern_countries_by_population\n",
      "/wiki/List_of_largest_cities\n",
      "/wiki/List_of_national_capitals_by_population\n",
      "/wiki/Megacity\n",
      "/wiki/Megalopolis\n",
      "/wiki/List_of_countries_by_past_and_projected_future_population\n",
      "/wiki/World_population_estimates\n",
      "/wiki/List_of_states_by_population_in_1_CE\n",
      "/wiki/List_of_countries_by_population_in_1000\n",
      "/wiki/List_of_countries_by_population_in_1500\n",
      "/wiki/List_of_countries_by_population_in_1600\n",
      "/wiki/List_of_countries_by_population_in_1700\n",
      "/wiki/List_of_countries_by_population_in_1800\n",
      "/wiki/List_of_countries_by_population_in_1900\n",
      "/wiki/List_of_countries_by_population_in_1907\n",
      "/wiki/List_of_countries_by_population_in_1939\n",
      "/wiki/List_of_countries_by_population_in_1989\n",
      "/wiki/List_of_countries_by_population_in_2000\n",
      "/wiki/List_of_countries_by_population_in_2005\n",
      "/wiki/List_of_countries_by_population_in_2010\n",
      "/wiki/List_of_countries_by_population_in_2015\n",
      "/wiki/List_of_population_milestones_by_country\n",
      "/wiki/Population_density\n",
      "/wiki/List_of_countries_and_dependencies_by_population_density\n",
      "/wiki/Past_and_future_population_density_by_country\n",
      "/wiki/List_of_countries_by_real_population_density_based_on_food_growing_capacity\n",
      "/wiki/List_of_countries_by_population_growth_rate\n",
      "/wiki/List_of_countries_by_natural_increase\n",
      "/wiki/List_of_countries_by_net_reproduction_rate\n",
      "/wiki/List_of_countries_by_number_of_births\n",
      "/wiki/List_of_countries_by_number_of_deaths\n",
      "/wiki/List_of_sovereign_states_and_dependent_territories_by_birth_rate\n",
      "/wiki/List_of_countries_by_mortality_rate\n",
      "/wiki/List_of_sovereign_states_and_dependencies_by_total_fertility_rate\n",
      "/wiki/List_of_countries_by_past_fertility_rate\n",
      "/wiki/Demography\n",
      "/wiki/List_of_countries_by_mean_age_at_childbearing\n",
      "/wiki/List_of_countries_by_age_at_first_marriage\n",
      "/wiki/List_of_countries_by_age_structure\n",
      "/wiki/List_of_countries_by_dependency_ratio\n",
      "/wiki/Divorce_demography\n",
      "/wiki/List_of_countries_ranked_by_ethnic_and_cultural_diversity_level\n",
      "/wiki/List_of_sovereign_states_and_dependent_territories_by_immigrant_population\n",
      "/wiki/Linguistic_diversity_index\n",
      "/wiki/List_of_countries_by_median_age\n",
      "/wiki/List_of_countries_by_net_migration_rate\n",
      "/wiki/List_of_countries_by_number_of_households\n",
      "/wiki/List_of_religious_populations\n",
      "/wiki/List_of_countries_by_irreligion\n",
      "/wiki/List_of_countries_by_sex_ratio\n",
      "/wiki/List_of_countries_by_urban_population\n",
      "/wiki/Urbanization_by_country\n",
      "/wiki/Health\n",
      "/wiki/List_of_countries_by_antidepressant_consumption\n",
      "/wiki/Stockpiling_antiviral_medications_for_pandemic_influenza\n",
      "/wiki/List_of_countries_by_HIV/AIDS_adult_prevalence_rate\n",
      "/wiki/List_of_countries_by_infant_and_under-five_mortality_rates\n",
      "/wiki/List_of_countries_by_maternal_mortality_ratio\n",
      "/wiki/List_of_countries_by_life_expectancy\n",
      "/wiki/List_of_countries_by_obesity_rate\n",
      "/wiki/List_of_countries_by_past_life_expectancy\n",
      "/wiki/List_of_countries_by_percentage_of_population_suffering_from_undernourishment\n",
      "/wiki/List_of_OECD_health_expenditure_by_country_by_type_of_financing\n",
      "/wiki/List_of_countries_by_suicide_rate\n",
      "/wiki/List_of_countries_by_total_health_expenditure_per_capita\n",
      "/wiki/List_of_countries_by_body_mass_index\n",
      "/wiki/Bloomberg_Innovation_Index\n",
      "/wiki/Education_Index\n",
      "/wiki/International_Innovation_Index\n",
      "/wiki/List_of_countries_by_literacy_rate\n",
      "/wiki/Programme_for_International_Student_Assessment\n",
      "/wiki/Programme_for_the_International_Assessment_of_Adult_Competencies\n",
      "/wiki/Progress_in_International_Reading_Literacy_Study\n",
      "/wiki/List_of_countries_by_student_skills\n",
      "/wiki/List_of_countries_by_tertiary_education_attainment\n",
      "/wiki/Trends_in_International_Mathematics_and_Science_Study\n",
      "/wiki/World_Intellectual_Property_Indicators\n",
      "/wiki/Demographic_economics\n",
      "/wiki/List_of_countries_by_share_of_population_with_access_to_financial_services\n",
      "/wiki/List_of_development_aid_country_donors\n",
      "/wiki/List_of_countries_by_Official_Development_Assistance_received\n",
      "/wiki/List_of_countries_by_employment_rate\n",
      "/wiki/List_of_countries_by_irrigated_land_area\n",
      "/wiki/Human_Development_Index\n",
      "/wiki/List_of_countries_by_Human_Development_Index\n",
      "/wiki/List_of_countries_by_inequality-adjusted_Human_Development_Index\n",
      "/wiki/List_of_countries_by_planetary_pressures%E2%80%93adjusted_Human_Development_Index\n",
      "/wiki/Human_Poverty_Index\n",
      "/wiki/List_of_countries_by_imports\n",
      "/wiki/List_of_countries_by_income_equality\n",
      "/wiki/List_of_countries_by_labour_force\n",
      "/wiki/List_of_countries_by_share_of_income_of_the_richest_one_percent\n",
      "/wiki/List_of_countries_by_number_of_millionaires\n",
      "/wiki/List_of_countries_by_number_of_billionaires\n",
      "/wiki/List_of_countries_by_percentage_of_population_living_in_poverty\n",
      "/wiki/List_of_countries_by_public_sector_size\n",
      "/wiki/List_of_countries_by_unemployment_rate\n",
      "/wiki/List_of_countries_by_wealth_inequality\n",
      "/wiki/List_of_international_rankings\n",
      "/wiki/Lists_by_country\n",
      "/wiki/Template:Biological_organisation\n",
      "/wiki/Template_talk:Biological_organisation\n",
      "https://en.wikipedia.org/w/index.php?title=Template:Biological_organisation&action=edit\n",
      "/wiki/Biological_organisation\n",
      "/wiki/Biosphere\n",
      "/wiki/Biome\n",
      "/wiki/Ecosystem\n",
      "/wiki/Biocenosis\n",
      "/wiki/Population\n",
      "/wiki/Organism\n",
      "/wiki/Biological_system\n",
      "/wiki/Organ_(anatomy)\n",
      "/wiki/Tissue_(biology)\n",
      "/wiki/Cell_(biology)\n",
      "/wiki/Organelle\n",
      "/wiki/Macromolecular_assembly\n",
      "/wiki/Macromolecule\n",
      "/wiki/Biomolecule\n",
      "/wiki/Template:Globalization\n",
      "/wiki/Template_talk:Globalization\n",
      "https://en.wikipedia.org/w/index.php?title=Template:Globalization&action=edit\n",
      "/wiki/Globalization\n",
      "/wiki/List_of_globalization-related_journals\n",
      "/wiki/Outline_of_globalization\n",
      "/wiki/Global_studies\n",
      "/wiki/Alter-globalization\n",
      "/wiki/Anti-globalization_movement\n",
      "/wiki/Cultural_globalization\n",
      "/wiki/Deglobalization\n",
      "/wiki/Democratic_globalization\n",
      "/wiki/Economic_globalization\n",
      "/wiki/Environmental_globalization\n",
      "/wiki/Global_financial_system\n",
      "/wiki/Global_citizenship\n",
      "/wiki/Global_citizenship_education\n",
      "/wiki/Global_governance\n",
      "/wiki/Global_politics\n",
      "/wiki/Global_health\n",
      "/wiki/Globality\n",
      "/wiki/History_of_globalization\n",
      "/wiki/Archaic_globalization\n",
      "/wiki/Proto-globalization\n",
      "/wiki/Military_globalization\n",
      "/wiki/Political_globalization\n",
      "/wiki/Trade_globalization\n",
      "/wiki/Global_workforce\n",
      "/wiki/Climate_change\n",
      "/wiki/Climate_justice\n",
      "/wiki/Globalization_and_disease\n",
      "/wiki/COVID-19_pandemic\n",
      "/wiki/Global_digital_divide\n",
      "/wiki/Global_labor_arbitrage\n",
      "/wiki/Tax_haven\n",
      "/wiki/Offshore_financial_centre\n",
      "/wiki/Tax_inversion\n",
      "/wiki/Water_security\n",
      "/wiki/Human_capital_flight\n",
      "/wiki/Reverse_brain_drain\n",
      "/wiki/Care_drain\n",
      "/wiki/Development_aid\n",
      "/wiki/Economic_inequality\n",
      "/wiki/Endangered_language\n",
      "/wiki/Fair_trade\n",
      "/wiki/Forced_displacement\n",
      "/wiki/Human_rights\n",
      "/wiki/Illicit_financial_flows\n",
      "/wiki/Imperialism\n",
      "/wiki/Academic_imperialism\n",
      "/wiki/Cultural_imperialism\n",
      "/wiki/Linguistic_imperialism\n",
      "/wiki/Media_imperialism\n",
      "/wiki/Scientific_imperialism\n",
      "/wiki/Social_imperialism\n",
      "/wiki/Invasive_species\n",
      "/wiki/Investor-state_dispute_settlement\n",
      "/wiki/McDonaldization\n",
      "/wiki/New_international_division_of_labour\n",
      "/wiki/North%E2%80%93South_divide_in_the_World\n",
      "/wiki/Offshoring\n",
      "/wiki/Race_to_the_bottom\n",
      "/wiki/Pollution_haven_hypothesis\n",
      "/wiki/Transnational_organized_crime\n",
      "/wiki/Westernization\n",
      "/wiki/World_war\n",
      "/wiki/Capital_accumulation\n",
      "/wiki/Dependency_theory\n",
      "/wiki/Development_theory\n",
      "/wiki/Earth_system_science\n",
      "/wiki/Fiscal_localism\n",
      "/wiki/Modernization_theory\n",
      "/wiki/Ecological_modernization\n",
      "/wiki/History_of_modernisation_theory\n",
      "/wiki/Primitive_accumulation_of_capital\n",
      "/wiki/Social_change\n",
      "/wiki/World_history_(field)\n",
      "/wiki/World-systems_theory\n",
      "/wiki/David_Autor\n",
      "/wiki/Richard_Baldwin_(economist)\n",
      "/wiki/Ravi_Batra\n",
      "/wiki/Jagdish_Bhagwati\n",
      "/wiki/Robert_Brenner\n",
      "/wiki/Jayati_Ghosh\n",
      "/wiki/Michael_Hudson_(economist)\n",
      "/wiki/Branko_Milanovi%C4%87\n",
      "/wiki/Kevin_O%27Rourke\n",
      "/wiki/Thomas_Piketty\n",
      "/wiki/Dani_Rodrik\n",
      "/wiki/Jeffrey_Sachs\n",
      "/wiki/Amartya_Sen\n",
      "/wiki/Joseph_Stiglitz\n",
      "/wiki/Samir_Amin\n",
      "/wiki/Giovanni_Arrighi\n",
      "/wiki/Robert_W._Cox\n",
      "/wiki/Andre_Gunder_Frank\n",
      "/wiki/Stephen_Gill_(political_scientist)\n",
      "/wiki/Peter_Gowan\n",
      "/wiki/David_Harvey\n",
      "/wiki/Ronen_Palan\n",
      "/wiki/Susan_Strange\n",
      "/wiki/Robert_Wade_(scholar)\n",
      "/wiki/Arjun_Appadurai\n",
      "/wiki/Daniele_Archibugi\n",
      "/wiki/Kwame_Anthony_Appiah\n",
      "/wiki/Ulrich_Beck\n",
      "/wiki/Walden_Bello\n",
      "/wiki/Jean_Baudrillard\n",
      "/wiki/Zygmunt_Bauman\n",
      "/wiki/Manuel_Castells\n",
      "/wiki/Christopher_Chase-Dunn\n",
      "/wiki/Alfred_W._Crosby\n",
      "/wiki/Nancy_Fraser\n",
      "/wiki/Susan_George_(political_scientist)\n",
      "/wiki/Anthony_Giddens\n",
      "/wiki/Michael_Hardt\n",
      "/wiki/David_Held\n",
      "/wiki/Paul_Hirst\n",
      "/wiki/L._H._M._Ling\n",
      "/wiki/Antonio_Negri\n",
      "/wiki/George_Ritzer\n",
      "/wiki/Saskia_Sassen\n",
      "/wiki/John_Urry_(sociologist)\n",
      "/wiki/Immanuel_Wallerstein\n",
      "/wiki/Noam_Chomsky\n",
      "/wiki/Thomas_Friedman\n",
      "/wiki/Naomi_Klein\n",
      "/wiki/John_Ralston_Saul\n",
      "/wiki/Vandana_Shiva\n",
      "/wiki/Category:Globalization\n",
      "/wiki/File:Emblem-money.svg\n",
      "/wiki/Portal:Business\n",
      "/wiki/Wikipedia:Contents/Portals\n",
      "/wiki/File:The_Earth_seen_from_Apollo_17.jpg\n",
      "/wiki/Portal:World\n",
      "/wiki/Help:Authority_control\n",
      "https://www.wikidata.org/wiki/Q11188#identifiers\n",
      "https://d-nb.info/gnd/4125901-4\n",
      "https://en.wikipedia.org/w/index.php?title=World_population&oldid=1124098852\n",
      "/wiki/Help:Category\n",
      "/wiki/Category:World_population\n",
      "/wiki/Category:Cultural_globalization\n",
      "/wiki/Category:Human_overpopulation\n",
      "/wiki/Category:Pages_with_non-numeric_formatnum_arguments\n",
      "/wiki/Category:Pages_using_the_Graph_extension\n",
      "/wiki/Category:Webarchive_template_wayback_links\n",
      "/wiki/Category:CS1_Chinese-language_sources_(zh)\n",
      "/wiki/Category:Articles_with_short_description\n",
      "/wiki/Category:Short_description_matches_Wikidata\n",
      "/wiki/Category:Wikipedia_pages_semi-protected_against_vandalism\n",
      "/wiki/Category:Use_American_English_from_November_2022\n",
      "/wiki/Category:All_Wikipedia_articles_written_in_American_English\n",
      "/wiki/Category:Use_dmy_dates_from_November_2022\n",
      "/wiki/Category:Articles_containing_potentially_dated_statements_from_2020\n",
      "/wiki/Category:All_articles_containing_potentially_dated_statements\n",
      "/wiki/Category:All_articles_with_unsourced_statements\n",
      "/wiki/Category:Articles_with_unsourced_statements_from_November_2022\n",
      "/wiki/Category:Articles_with_unsourced_statements_from_September_2014\n",
      "/wiki/Category:Articles_needing_additional_references_from_April_2020\n",
      "/wiki/Category:All_articles_needing_additional_references\n",
      "/wiki/Category:Articles_with_unsourced_statements_from_May_2022\n",
      "/wiki/Category:Wikipedia_articles_incorporating_text_from_the_World_Factbook\n",
      "/wiki/Category:Commons_category_link_is_on_Wikidata\n",
      "/wiki/Category:Articles_with_GND_identifiers\n",
      "/wiki/Special:MyTalk\n",
      "/wiki/Special:MyContributions\n",
      "/w/index.php?title=Special:CreateAccount&returnto=World+population\n",
      "/w/index.php?title=Special:UserLogin&returnto=World+population\n",
      "/wiki/World_population\n",
      "/wiki/Talk:World_population\n",
      "/wiki/World_population\n",
      "/w/index.php?title=World_population&action=edit\n",
      "/w/index.php?title=World_population&action=history\n",
      "/wiki/Main_Page\n",
      "/wiki/Main_Page\n",
      "/wiki/Wikipedia:Contents\n",
      "/wiki/Portal:Current_events\n",
      "/wiki/Special:Random\n",
      "/wiki/Wikipedia:About\n",
      "//en.wikipedia.org/wiki/Wikipedia:Contact_us\n",
      "https://donate.wikimedia.org/wiki/Special:FundraiserRedirector?utm_source=donate&utm_medium=sidebar&utm_campaign=C13_en.wikipedia.org&uselang=en\n",
      "/wiki/Help:Contents\n",
      "/wiki/Help:Introduction\n",
      "/wiki/Wikipedia:Community_portal\n",
      "/wiki/Special:RecentChanges\n",
      "/wiki/Wikipedia:File_Upload_Wizard\n",
      "/wiki/Special:WhatLinksHere/World_population\n",
      "/wiki/Special:RecentChangesLinked/World_population\n",
      "/wiki/Wikipedia:File_Upload_Wizard\n",
      "/wiki/Special:SpecialPages\n",
      "/w/index.php?title=World_population&oldid=1124098852\n",
      "/w/index.php?title=World_population&action=info\n",
      "/w/index.php?title=Special:CiteThisPage&page=World_population&id=1124098852&wpFormIdentifier=titleform\n",
      "https://www.wikidata.org/wiki/Special:EntityPage/Q11188\n",
      "/w/index.php?title=Special:DownloadAsPdf&page=World_population&action=show-download-screen\n",
      "/w/index.php?title=World_population&printable=yes\n",
      "https://commons.wikimedia.org/wiki/Category:World_population_statistics\n",
      "https://am.wikipedia.org/wiki/%E1%8B%A8%E1%8B%93%E1%88%88%E1%88%9D_%E1%8B%A8%E1%88%85%E1%8B%9D%E1%89%A5_%E1%89%A5%E1%8B%9B%E1%89%B5\n",
      "https://ar.wikipedia.org/wiki/%D8%AA%D8%B9%D8%AF%D8%A7%D8%AF_%D8%A7%D9%84%D8%B3%D9%83%D8%A7%D9%86_%D9%81%D9%8A_%D8%A7%D9%84%D8%B9%D8%A7%D9%84%D9%85\n",
      "https://an.wikipedia.org/wiki/Poblaci%C3%B3n_mundial\n",
      "https://ast.wikipedia.org/wiki/Poblaci%C3%B3n_mundial\n",
      "https://az.wikipedia.org/wiki/D%C3%BCnya_%C9%99halisi\n",
      "https://be.wikipedia.org/wiki/%D0%9D%D0%B0%D1%81%D0%B5%D0%BB%D1%8C%D0%BD%D1%96%D1%86%D1%82%D0%B2%D0%B0_%D0%97%D1%8F%D0%BC%D0%BB%D1%96\n",
      "https://bg.wikipedia.org/wiki/%D0%9D%D0%B0%D1%81%D0%B5%D0%BB%D0%B5%D0%BD%D0%B8%D0%B5_%D0%BD%D0%B0_%D1%81%D0%B2%D0%B5%D1%82%D0%B0\n",
      "https://bs.wikipedia.org/wiki/Svjetsko_stanovni%C5%A1tvo\n",
      "https://ca.wikipedia.org/wiki/Poblaci%C3%B3_mundial\n",
      "https://cv.wikipedia.org/wiki/%D0%A2%C4%95%D0%BD%D1%87%D0%B5%D1%80%D0%B8_%D1%85%D0%B0%D0%BB%C4%83%D1%85_%D0%B9%D1%8B%D1%88%C4%95\n",
      "https://cs.wikipedia.org/wiki/Sv%C4%9Btov%C3%A1_populace\n",
      "https://da.wikipedia.org/wiki/Verdens_befolkning\n",
      "https://de.wikipedia.org/wiki/Weltbev%C3%B6lkerung\n",
      "https://et.wikipedia.org/wiki/Maailma_rahvaarv\n",
      "https://el.wikipedia.org/wiki/%CE%A0%CE%B1%CE%B3%CE%BA%CF%8C%CF%83%CE%BC%CE%B9%CE%BF%CF%82_%CF%80%CE%BB%CE%B7%CE%B8%CF%85%CF%83%CE%BC%CF%8C%CF%82\n",
      "https://es.wikipedia.org/wiki/Poblaci%C3%B3n_mundial\n",
      "https://eo.wikipedia.org/wiki/Monda_lo%C4%9Dantaro\n",
      "https://eu.wikipedia.org/wiki/Munduko_biztanleria\n",
      "https://fa.wikipedia.org/wiki/%D8%AC%D9%85%D8%B9%DB%8C%D8%AA_%D8%AC%D9%87%D8%A7%D9%86\n",
      "https://fr.wikipedia.org/wiki/Population_mondiale\n",
      "https://gl.wikipedia.org/wiki/Poboaci%C3%B3n_mundial\n",
      "https://ko.wikipedia.org/wiki/%EC%84%B8%EA%B3%84_%EC%9D%B8%EA%B5%AC\n",
      "https://hy.wikipedia.org/wiki/%D4%B1%D5%B7%D5%AD%D5%A1%D6%80%D5%B0%D5%AB_%D5%A2%D5%B6%D5%A1%D5%AF%D5%B9%D5%B8%D6%82%D5%A9%D5%B5%D5%B8%D6%82%D5%B6\n",
      "https://hi.wikipedia.org/wiki/%E0%A4%B5%E0%A4%BF%E0%A4%B6%E0%A5%8D%E0%A4%B5_%E0%A4%9C%E0%A4%A8%E0%A4%B8%E0%A4%82%E0%A4%96%E0%A5%8D%E0%A4%AF%E0%A4%BE\n",
      "https://hr.wikipedia.org/wiki/Stanovni%C5%A1tvo_svijeta\n",
      "https://id.wikipedia.org/wiki/Populasi_penduduk_dunia\n",
      "https://it.wikipedia.org/wiki/Popolazione_mondiale\n",
      "https://he.wikipedia.org/wiki/%D7%90%D7%95%D7%9B%D7%9C%D7%95%D7%A1%D7%99%D7%99%D7%AA_%D7%94%D7%A2%D7%95%D7%9C%D7%9D\n",
      "https://kn.wikipedia.org/wiki/%E0%B2%B5%E0%B2%BF%E0%B2%B6%E0%B3%8D%E0%B2%B5%E0%B2%A6_%E0%B2%9C%E0%B2%A8%E0%B2%B8%E0%B2%82%E0%B2%96%E0%B3%8D%E0%B2%AF%E0%B3%86\n",
      "https://ka.wikipedia.org/wiki/%E1%83%9B%E1%83%A1%E1%83%9D%E1%83%A4%E1%83%9A%E1%83%98%E1%83%9D%E1%83%A1_%E1%83%9B%E1%83%9D%E1%83%A1%E1%83%90%E1%83%AE%E1%83%9A%E1%83%94%E1%83%9D%E1%83%91%E1%83%90\n",
      "https://kk.wikipedia.org/wiki/%D0%94%D2%AF%D0%BD%D0%B8%D0%B5_%D0%B6%D2%AF%D0%B7%D1%96%D0%BD%D1%96%D2%A3_%D1%85%D0%B0%D0%BB%D2%9B%D1%8B\n",
      "https://ku.wikipedia.org/wiki/Gelheya_C%C3%AEhan%C3%AA\n",
      "https://lv.wikipedia.org/wiki/Iedz%C4%ABvot%C4%81ju_skaits\n",
      "https://lt.wikipedia.org/wiki/Pasaulio_gyventojai\n",
      "https://mk.wikipedia.org/wiki/%D0%A1%D0%B2%D0%B5%D1%82%D1%81%D0%BA%D0%BE_%D0%BD%D0%B0%D1%81%D0%B5%D0%BB%D0%B5%D0%BD%D0%B8%D0%B5\n",
      "https://mg.wikipedia.org/wiki/Isam-ponina\n",
      "https://ml.wikipedia.org/wiki/%E0%B4%B2%E0%B5%8B%E0%B4%95%E0%B4%9C%E0%B4%A8%E0%B4%B8%E0%B4%82%E0%B4%96%E0%B5%8D%E0%B4%AF\n",
      "https://mr.wikipedia.org/wiki/%E0%A4%9C%E0%A4%BE%E0%A4%97%E0%A4%A4%E0%A4%BF%E0%A4%95_%E0%A4%B2%E0%A5%8B%E0%A4%95%E0%A4%B8%E0%A4%82%E0%A4%96%E0%A5%8D%E0%A4%AF%E0%A4%BE\n",
      "https://arz.wikipedia.org/wiki/%D8%AA%D8%B9%D8%AF%D8%A7%D8%AF_%D8%A7%D9%84%D8%B3%D9%83%D8%A7%D9%86_%D9%81%D9%8A_%D8%A7%D9%84%D8%B9%D8%A7%D9%84%D9%85\n",
      "https://ms.wikipedia.org/wiki/Populasi_dunia\n",
      "https://mn.wikipedia.org/wiki/%D0%94%D1%8D%D0%BB%D1%85%D0%B8%D0%B9%D0%BD_%D1%85%D2%AF%D0%BD_%D0%B0%D0%BC\n",
      "https://my.wikipedia.org/wiki/%E1%80%80%E1%80%99%E1%80%B9%E1%80%98%E1%80%AC%E1%80%B7%E1%80%9C%E1%80%B0%E1%80%A6%E1%80%B8%E1%80%9B%E1%80%B1\n",
      "https://nl.wikipedia.org/wiki/Wereldbevolking\n",
      "https://ja.wikipedia.org/wiki/%E4%B8%96%E7%95%8C%E4%BA%BA%E5%8F%A3\n",
      "https://no.wikipedia.org/wiki/Verdens_befolkning\n",
      "https://uz.wikipedia.org/wiki/Dunyo_aholisi\n",
      "https://pnb.wikipedia.org/wiki/%D8%B9%D8%A7%D9%84%D9%85%DB%8C_%D8%A2%D8%A8%D8%A7%D8%AF%DB%8C\n",
      "https://ps.wikipedia.org/wiki/%D8%AF_%D9%86%DA%93%DB%8D_%D9%86%D9%81%D9%88%D8%B3\n",
      "https://pl.wikipedia.org/wiki/Ludno%C5%9B%C4%87_%C5%9Bwiata\n",
      "https://pt.wikipedia.org/wiki/Popula%C3%A7%C3%A3o_mundial\n",
      "https://ro.wikipedia.org/wiki/Popula%C8%9Bia_P%C4%83m%C3%A2ntului\n",
      "https://rm.wikipedia.org/wiki/Populaziun_mundiala\n",
      "https://ru.wikipedia.org/wiki/%D0%9D%D0%B0%D1%81%D0%B5%D0%BB%D0%B5%D0%BD%D0%B8%D0%B5_%D0%97%D0%B5%D0%BC%D0%BB%D0%B8\n",
      "https://sco.wikipedia.org/wiki/Warld_population\n",
      "https://sq.wikipedia.org/wiki/Popullsia_n%C3%AB_Bot%C3%AB\n",
      "https://si.wikipedia.org/wiki/%E0%B6%BD%E0%B7%9D%E0%B6%9A_%E0%B6%A2%E0%B6%B1%E0%B6%9C%E0%B7%84%E0%B6%B1%E0%B6%BA\n",
      "https://simple.wikipedia.org/wiki/World_population\n",
      "https://szl.wikipedia.org/wiki/Wjelo%C5%9B%C4%87_lud%C5%BAi\n",
      "https://so.wikipedia.org/wiki/Bulshada_aduunka\n",
      "https://ckb.wikipedia.org/wiki/%D8%AF%D8%A7%D9%86%DB%8C%D8%B4%D8%AA%D9%88%D9%88%D8%A7%D9%86%DB%8C_%D8%AC%DB%8C%DA%BE%D8%A7%D9%86\n",
      "https://sr.wikipedia.org/wiki/%D0%A1%D0%B2%D0%B5%D1%82%D1%81%D0%BA%D0%B0_%D0%BF%D0%BE%D0%BF%D1%83%D0%BB%D0%B0%D1%86%D0%B8%D1%98%D0%B0\n",
      "https://sh.wikipedia.org/wiki/Svjetsko_stanovni%C5%A1tvo\n",
      "https://fi.wikipedia.org/wiki/Maailman_v%C3%A4kiluku\n",
      "https://sv.wikipedia.org/wiki/V%C3%A4rldens_befolkning\n",
      "https://ta.wikipedia.org/wiki/%E0%AE%89%E0%AE%B2%E0%AE%95_%E0%AE%AE%E0%AE%95%E0%AF%8D%E0%AE%95%E0%AE%B3%E0%AF%8D_%E0%AE%A4%E0%AF%8A%E0%AE%95%E0%AF%88\n",
      "https://th.wikipedia.org/wiki/%E0%B8%9B%E0%B8%A3%E0%B8%B0%E0%B8%8A%E0%B8%B2%E0%B8%81%E0%B8%A3%E0%B9%82%E0%B8%A5%E0%B8%81\n",
      "https://tg.wikipedia.org/wiki/%D0%90%D2%B3%D0%BE%D0%BB%D0%B8%D0%B8_%D0%97%D0%B0%D0%BC%D0%B8%D0%BD\n",
      "https://tr.wikipedia.org/wiki/D%C3%BCnya_n%C3%BCfusu\n",
      "https://uk.wikipedia.org/wiki/%D0%9D%D0%B0%D1%81%D0%B5%D0%BB%D0%B5%D0%BD%D0%BD%D1%8F_%D0%97%D0%B5%D0%BC%D0%BB%D1%96\n",
      "https://ur.wikipedia.org/wiki/%D8%B9%D8%A7%D9%84%D9%85%DB%8C_%D8%A2%D8%A8%D8%A7%D8%AF%DB%8C\n",
      "https://vi.wikipedia.org/wiki/D%C3%A2n_s%E1%BB%91_th%E1%BA%BF_gi%E1%BB%9Bi\n",
      "https://wuu.wikipedia.org/wiki/%E4%B8%96%E7%95%8C%E4%BA%BA%E5%8F%A3\n",
      "https://zh-yue.wikipedia.org/wiki/%E4%B8%96%E7%95%8C%E4%BA%BA%E5%8F%A3\n",
      "https://zh.wikipedia.org/wiki/%E4%B8%96%E7%95%8C%E4%BA%BA%E5%8F%A3\n",
      "https://www.wikidata.org/wiki/Special:EntityPage/Q11188#sitelinks-wikipedia\n",
      "//en.wikipedia.org/wiki/Wikipedia:Text_of_Creative_Commons_Attribution-ShareAlike_3.0_Unported_License\n",
      "//creativecommons.org/licenses/by-sa/3.0/\n",
      "//foundation.wikimedia.org/wiki/Terms_of_Use\n",
      "//foundation.wikimedia.org/wiki/Privacy_policy\n",
      "//www.wikimediafoundation.org/\n",
      "https://foundation.wikimedia.org/wiki/Privacy_policy\n",
      "/wiki/Wikipedia:About\n",
      "/wiki/Wikipedia:General_disclaimer\n",
      "//en.wikipedia.org/wiki/Wikipedia:Contact_us\n",
      "//en.m.wikipedia.org/w/index.php?title=World_population&mobileaction=toggle_view_mobile\n",
      "https://developer.wikimedia.org\n",
      "https://stats.wikimedia.org/#/en.wikipedia.org\n",
      "https://foundation.wikimedia.org/wiki/Cookie_statement\n",
      "https://wikimediafoundation.org/\n",
      "https://www.mediawiki.org/\n"
     ]
    }
   ],
   "source": [
    "for link in soup.find_all('a',href=True):  # in html anchor/link is represented by the tag <a>\n",
    "\n",
    "    print(link.get('href'))\n"
   ]
  },
  {
   "cell_type": "markdown",
   "metadata": {},
   "source": [
    "## Scrape  all images  Tags\n"
   ]
  },
  {
   "cell_type": "code",
   "execution_count": 90,
   "metadata": {},
   "outputs": [
    {
     "name": "stdout",
     "output_type": "stream",
     "text": [
      "<img alt=\"Page semi-protected\" data-file-height=\"512\" data-file-width=\"512\" decoding=\"async\" height=\"20\" src=\"//upload.wikimedia.org/wikipedia/en/thumb/1/1b/Semi-protection-shackle.svg/20px-Semi-protection-shackle.svg.png\" srcset=\"//upload.wikimedia.org/wikipedia/en/thumb/1/1b/Semi-protection-shackle.svg/30px-Semi-protection-shackle.svg.png 1.5x, //upload.wikimedia.org/wikipedia/en/thumb/1/1b/Semi-protection-shackle.svg/40px-Semi-protection-shackle.svg.png 2x\" width=\"20\"/>\n",
      "//upload.wikimedia.org/wikipedia/en/thumb/1/1b/Semi-protection-shackle.svg/20px-Semi-protection-shackle.svg.png\n",
      "<img alt=\"World population growth from 10,000 BCE to 2021\" class=\"thumbimage\" data-file-height=\"2188\" data-file-width=\"3400\" decoding=\"async\" height=\"142\" src=\"//upload.wikimedia.org/wikipedia/commons/thumb/8/85/World-population-1750-2015-and-un-projection-until-2100.png/220px-World-population-1750-2015-and-un-projection-until-2100.png\" srcset=\"//upload.wikimedia.org/wikipedia/commons/thumb/8/85/World-population-1750-2015-and-un-projection-until-2100.png/330px-World-population-1750-2015-and-un-projection-until-2100.png 1.5x, //upload.wikimedia.org/wikipedia/commons/thumb/8/85/World-population-1750-2015-and-un-projection-until-2100.png/440px-World-population-1750-2015-and-un-projection-until-2100.png 2x\" width=\"220\"/>\n",
      "//upload.wikimedia.org/wikipedia/commons/thumb/8/85/World-population-1750-2015-and-un-projection-until-2100.png/220px-World-population-1750-2015-and-un-projection-until-2100.png\n",
      "<img alt=\"\" class=\"thumbimage\" data-file-height=\"676\" data-file-width=\"900\" decoding=\"async\" height=\"165\" src=\"//upload.wikimedia.org/wikipedia/commons/thumb/0/0e/World_Population_Prospects.svg/220px-World_Population_Prospects.svg.png\" srcset=\"//upload.wikimedia.org/wikipedia/commons/thumb/0/0e/World_Population_Prospects.svg/330px-World_Population_Prospects.svg.png 1.5x, //upload.wikimedia.org/wikipedia/commons/thumb/0/0e/World_Population_Prospects.svg/440px-World_Population_Prospects.svg.png 2x\" width=\"220\"/>\n",
      "//upload.wikimedia.org/wikipedia/commons/thumb/0/0e/World_Population_Prospects.svg/220px-World_Population_Prospects.svg.png\n",
      "<img alt=\"\" class=\"thumbimage\" data-file-height=\"7747\" data-file-width=\"5201\" decoding=\"async\" height=\"328\" src=\"//upload.wikimedia.org/wikipedia/commons/thumb/d/d2/Illustration_of_contemporary_and_past_human_populations_Our_World_in_Data.png/220px-Illustration_of_contemporary_and_past_human_populations_Our_World_in_Data.png\" srcset=\"//upload.wikimedia.org/wikipedia/commons/thumb/d/d2/Illustration_of_contemporary_and_past_human_populations_Our_World_in_Data.png/330px-Illustration_of_contemporary_and_past_human_populations_Our_World_in_Data.png 1.5x, //upload.wikimedia.org/wikipedia/commons/thumb/d/d2/Illustration_of_contemporary_and_past_human_populations_Our_World_in_Data.png/440px-Illustration_of_contemporary_and_past_human_populations_Our_World_in_Data.png 2x\" width=\"220\"/>\n",
      "//upload.wikimedia.org/wikipedia/commons/thumb/d/d2/Illustration_of_contemporary_and_past_human_populations_Our_World_in_Data.png/220px-Illustration_of_contemporary_and_past_human_populations_Our_World_in_Data.png\n",
      "<img alt=\"\" class=\"thumbimage\" data-file-height=\"625\" data-file-width=\"1425\" decoding=\"async\" height=\"154\" src=\"//upload.wikimedia.org/wikipedia/commons/thumb/3/3d/2006megacities.svg/350px-2006megacities.svg.png\" srcset=\"//upload.wikimedia.org/wikipedia/commons/thumb/3/3d/2006megacities.svg/525px-2006megacities.svg.png 1.5x, //upload.wikimedia.org/wikipedia/commons/thumb/3/3d/2006megacities.svg/700px-2006megacities.svg.png 2x\" width=\"350\"/>\n",
      "//upload.wikimedia.org/wikipedia/commons/thumb/3/3d/2006megacities.svg/350px-2006megacities.svg.png\n",
      "<img alt=\"\" class=\"thumbimage\" data-file-height=\"1200\" data-file-width=\"2754\" decoding=\"async\" height=\"174\" src=\"//upload.wikimedia.org/wikipedia/commons/thumb/f/fa/Expectancy_of_life.svg/400px-Expectancy_of_life.svg.png\" srcset=\"//upload.wikimedia.org/wikipedia/commons/thumb/f/fa/Expectancy_of_life.svg/600px-Expectancy_of_life.svg.png 1.5x, //upload.wikimedia.org/wikipedia/commons/thumb/f/fa/Expectancy_of_life.svg/800px-Expectancy_of_life.svg.png 2x\" width=\"400\"/>\n",
      "//upload.wikimedia.org/wikipedia/commons/thumb/f/fa/Expectancy_of_life.svg/400px-Expectancy_of_life.svg.png\n",
      "<img alt=\"China\" class=\"thumbborder\" data-file-height=\"600\" data-file-width=\"900\" decoding=\"async\" height=\"15\" src=\"//upload.wikimedia.org/wikipedia/commons/thumb/f/fa/Flag_of_the_People%27s_Republic_of_China.svg/23px-Flag_of_the_People%27s_Republic_of_China.svg.png\" srcset=\"//upload.wikimedia.org/wikipedia/commons/thumb/f/fa/Flag_of_the_People%27s_Republic_of_China.svg/35px-Flag_of_the_People%27s_Republic_of_China.svg.png 1.5x, //upload.wikimedia.org/wikipedia/commons/thumb/f/fa/Flag_of_the_People%27s_Republic_of_China.svg/45px-Flag_of_the_People%27s_Republic_of_China.svg.png 2x\" width=\"23\"/>\n",
      "//upload.wikimedia.org/wikipedia/commons/thumb/f/fa/Flag_of_the_People%27s_Republic_of_China.svg/23px-Flag_of_the_People%27s_Republic_of_China.svg.png\n",
      "<img alt=\"India\" class=\"thumbborder\" data-file-height=\"900\" data-file-width=\"1350\" decoding=\"async\" height=\"15\" src=\"//upload.wikimedia.org/wikipedia/en/thumb/4/41/Flag_of_India.svg/23px-Flag_of_India.svg.png\" srcset=\"//upload.wikimedia.org/wikipedia/en/thumb/4/41/Flag_of_India.svg/35px-Flag_of_India.svg.png 1.5x, //upload.wikimedia.org/wikipedia/en/thumb/4/41/Flag_of_India.svg/45px-Flag_of_India.svg.png 2x\" width=\"23\"/>\n",
      "//upload.wikimedia.org/wikipedia/en/thumb/4/41/Flag_of_India.svg/23px-Flag_of_India.svg.png\n",
      "<img alt=\"United States\" class=\"thumbborder\" data-file-height=\"650\" data-file-width=\"1235\" decoding=\"async\" height=\"12\" src=\"//upload.wikimedia.org/wikipedia/en/thumb/a/a4/Flag_of_the_United_States.svg/23px-Flag_of_the_United_States.svg.png\" srcset=\"//upload.wikimedia.org/wikipedia/en/thumb/a/a4/Flag_of_the_United_States.svg/35px-Flag_of_the_United_States.svg.png 1.5x, //upload.wikimedia.org/wikipedia/en/thumb/a/a4/Flag_of_the_United_States.svg/46px-Flag_of_the_United_States.svg.png 2x\" width=\"23\"/>\n",
      "//upload.wikimedia.org/wikipedia/en/thumb/a/a4/Flag_of_the_United_States.svg/23px-Flag_of_the_United_States.svg.png\n",
      "<img alt=\"Indonesia\" class=\"thumbborder\" data-file-height=\"600\" data-file-width=\"900\" decoding=\"async\" height=\"15\" src=\"//upload.wikimedia.org/wikipedia/commons/thumb/9/9f/Flag_of_Indonesia.svg/23px-Flag_of_Indonesia.svg.png\" srcset=\"//upload.wikimedia.org/wikipedia/commons/thumb/9/9f/Flag_of_Indonesia.svg/35px-Flag_of_Indonesia.svg.png 1.5x, //upload.wikimedia.org/wikipedia/commons/thumb/9/9f/Flag_of_Indonesia.svg/45px-Flag_of_Indonesia.svg.png 2x\" width=\"23\"/>\n",
      "//upload.wikimedia.org/wikipedia/commons/thumb/9/9f/Flag_of_Indonesia.svg/23px-Flag_of_Indonesia.svg.png\n",
      "<img alt=\"Pakistan\" class=\"thumbborder\" data-file-height=\"600\" data-file-width=\"900\" decoding=\"async\" height=\"15\" src=\"//upload.wikimedia.org/wikipedia/commons/thumb/3/32/Flag_of_Pakistan.svg/23px-Flag_of_Pakistan.svg.png\" srcset=\"//upload.wikimedia.org/wikipedia/commons/thumb/3/32/Flag_of_Pakistan.svg/35px-Flag_of_Pakistan.svg.png 1.5x, //upload.wikimedia.org/wikipedia/commons/thumb/3/32/Flag_of_Pakistan.svg/45px-Flag_of_Pakistan.svg.png 2x\" width=\"23\"/>\n",
      "//upload.wikimedia.org/wikipedia/commons/thumb/3/32/Flag_of_Pakistan.svg/23px-Flag_of_Pakistan.svg.png\n",
      "<img alt=\"Brazil\" class=\"thumbborder\" data-file-height=\"504\" data-file-width=\"720\" decoding=\"async\" height=\"15\" src=\"//upload.wikimedia.org/wikipedia/en/thumb/0/05/Flag_of_Brazil.svg/22px-Flag_of_Brazil.svg.png\" srcset=\"//upload.wikimedia.org/wikipedia/en/thumb/0/05/Flag_of_Brazil.svg/33px-Flag_of_Brazil.svg.png 1.5x, //upload.wikimedia.org/wikipedia/en/thumb/0/05/Flag_of_Brazil.svg/43px-Flag_of_Brazil.svg.png 2x\" width=\"22\"/>\n",
      "//upload.wikimedia.org/wikipedia/en/thumb/0/05/Flag_of_Brazil.svg/22px-Flag_of_Brazil.svg.png\n",
      "<img alt=\"Nigeria\" class=\"thumbborder\" data-file-height=\"600\" data-file-width=\"1200\" decoding=\"async\" height=\"12\" src=\"//upload.wikimedia.org/wikipedia/commons/thumb/7/79/Flag_of_Nigeria.svg/23px-Flag_of_Nigeria.svg.png\" srcset=\"//upload.wikimedia.org/wikipedia/commons/thumb/7/79/Flag_of_Nigeria.svg/35px-Flag_of_Nigeria.svg.png 1.5x, //upload.wikimedia.org/wikipedia/commons/thumb/7/79/Flag_of_Nigeria.svg/46px-Flag_of_Nigeria.svg.png 2x\" width=\"23\"/>\n",
      "//upload.wikimedia.org/wikipedia/commons/thumb/7/79/Flag_of_Nigeria.svg/23px-Flag_of_Nigeria.svg.png\n",
      "<img alt=\"Bangladesh\" class=\"thumbborder\" data-file-height=\"600\" data-file-width=\"1000\" decoding=\"async\" height=\"14\" src=\"//upload.wikimedia.org/wikipedia/commons/thumb/f/f9/Flag_of_Bangladesh.svg/23px-Flag_of_Bangladesh.svg.png\" srcset=\"//upload.wikimedia.org/wikipedia/commons/thumb/f/f9/Flag_of_Bangladesh.svg/35px-Flag_of_Bangladesh.svg.png 1.5x, //upload.wikimedia.org/wikipedia/commons/thumb/f/f9/Flag_of_Bangladesh.svg/46px-Flag_of_Bangladesh.svg.png 2x\" width=\"23\"/>\n",
      "//upload.wikimedia.org/wikipedia/commons/thumb/f/f9/Flag_of_Bangladesh.svg/23px-Flag_of_Bangladesh.svg.png\n",
      "<img alt=\"Russia\" class=\"thumbborder\" data-file-height=\"600\" data-file-width=\"900\" decoding=\"async\" height=\"15\" src=\"//upload.wikimedia.org/wikipedia/en/thumb/f/f3/Flag_of_Russia.svg/23px-Flag_of_Russia.svg.png\" srcset=\"//upload.wikimedia.org/wikipedia/en/thumb/f/f3/Flag_of_Russia.svg/35px-Flag_of_Russia.svg.png 1.5x, //upload.wikimedia.org/wikipedia/en/thumb/f/f3/Flag_of_Russia.svg/45px-Flag_of_Russia.svg.png 2x\" width=\"23\"/>\n",
      "//upload.wikimedia.org/wikipedia/en/thumb/f/f3/Flag_of_Russia.svg/23px-Flag_of_Russia.svg.png\n",
      "<img alt=\"Mexico\" class=\"thumbborder\" data-file-height=\"560\" data-file-width=\"980\" decoding=\"async\" height=\"13\" src=\"//upload.wikimedia.org/wikipedia/commons/thumb/f/fc/Flag_of_Mexico.svg/23px-Flag_of_Mexico.svg.png\" srcset=\"//upload.wikimedia.org/wikipedia/commons/thumb/f/fc/Flag_of_Mexico.svg/35px-Flag_of_Mexico.svg.png 1.5x, //upload.wikimedia.org/wikipedia/commons/thumb/f/fc/Flag_of_Mexico.svg/46px-Flag_of_Mexico.svg.png 2x\" width=\"23\"/>\n",
      "//upload.wikimedia.org/wikipedia/commons/thumb/f/fc/Flag_of_Mexico.svg/23px-Flag_of_Mexico.svg.png\n",
      "<img alt=\"\" class=\"thumbborder\" data-file-height=\"600\" data-file-width=\"900\" decoding=\"async\" height=\"15\" src=\"//upload.wikimedia.org/wikipedia/commons/thumb/f/fa/Flag_of_the_People%27s_Republic_of_China.svg/23px-Flag_of_the_People%27s_Republic_of_China.svg.png\" srcset=\"//upload.wikimedia.org/wikipedia/commons/thumb/f/fa/Flag_of_the_People%27s_Republic_of_China.svg/35px-Flag_of_the_People%27s_Republic_of_China.svg.png 1.5x, //upload.wikimedia.org/wikipedia/commons/thumb/f/fa/Flag_of_the_People%27s_Republic_of_China.svg/45px-Flag_of_the_People%27s_Republic_of_China.svg.png 2x\" width=\"23\"/>\n",
      "//upload.wikimedia.org/wikipedia/commons/thumb/f/fa/Flag_of_the_People%27s_Republic_of_China.svg/23px-Flag_of_the_People%27s_Republic_of_China.svg.png\n",
      "<img alt=\"Japan\" class=\"thumbborder\" data-file-height=\"600\" data-file-width=\"900\" decoding=\"async\" height=\"15\" src=\"//upload.wikimedia.org/wikipedia/en/thumb/9/9e/Flag_of_Japan.svg/23px-Flag_of_Japan.svg.png\" srcset=\"//upload.wikimedia.org/wikipedia/en/thumb/9/9e/Flag_of_Japan.svg/35px-Flag_of_Japan.svg.png 1.5x, //upload.wikimedia.org/wikipedia/en/thumb/9/9e/Flag_of_Japan.svg/45px-Flag_of_Japan.svg.png 2x\" width=\"23\"/>\n",
      "//upload.wikimedia.org/wikipedia/en/thumb/9/9e/Flag_of_Japan.svg/23px-Flag_of_Japan.svg.png\n",
      "<img alt=\"Japan\" class=\"thumbborder\" data-file-height=\"600\" data-file-width=\"900\" decoding=\"async\" height=\"15\" src=\"//upload.wikimedia.org/wikipedia/en/thumb/9/9e/Flag_of_Japan.svg/23px-Flag_of_Japan.svg.png\" srcset=\"//upload.wikimedia.org/wikipedia/en/thumb/9/9e/Flag_of_Japan.svg/35px-Flag_of_Japan.svg.png 1.5x, //upload.wikimedia.org/wikipedia/en/thumb/9/9e/Flag_of_Japan.svg/45px-Flag_of_Japan.svg.png 2x\" width=\"23\"/>\n",
      "//upload.wikimedia.org/wikipedia/en/thumb/9/9e/Flag_of_Japan.svg/23px-Flag_of_Japan.svg.png\n",
      "<img alt=\"\" class=\"thumbborder\" data-file-height=\"600\" data-file-width=\"1200\" decoding=\"async\" height=\"12\" src=\"//upload.wikimedia.org/wikipedia/commons/thumb/7/79/Flag_of_Nigeria.svg/23px-Flag_of_Nigeria.svg.png\" srcset=\"//upload.wikimedia.org/wikipedia/commons/thumb/7/79/Flag_of_Nigeria.svg/35px-Flag_of_Nigeria.svg.png 1.5x, //upload.wikimedia.org/wikipedia/commons/thumb/7/79/Flag_of_Nigeria.svg/46px-Flag_of_Nigeria.svg.png 2x\" width=\"23\"/>\n",
      "//upload.wikimedia.org/wikipedia/commons/thumb/7/79/Flag_of_Nigeria.svg/23px-Flag_of_Nigeria.svg.png\n",
      "<img alt=\"Egypt\" class=\"thumbborder\" data-file-height=\"600\" data-file-width=\"900\" decoding=\"async\" height=\"15\" src=\"//upload.wikimedia.org/wikipedia/commons/thumb/f/fe/Flag_of_Egypt.svg/23px-Flag_of_Egypt.svg.png\" srcset=\"//upload.wikimedia.org/wikipedia/commons/thumb/f/fe/Flag_of_Egypt.svg/35px-Flag_of_Egypt.svg.png 1.5x, //upload.wikimedia.org/wikipedia/commons/thumb/f/fe/Flag_of_Egypt.svg/45px-Flag_of_Egypt.svg.png 2x\" width=\"23\"/>\n",
      "//upload.wikimedia.org/wikipedia/commons/thumb/f/fe/Flag_of_Egypt.svg/23px-Flag_of_Egypt.svg.png\n",
      "<img alt=\"Egypt\" class=\"thumbborder\" data-file-height=\"600\" data-file-width=\"900\" decoding=\"async\" height=\"15\" src=\"//upload.wikimedia.org/wikipedia/commons/thumb/f/fe/Flag_of_Egypt.svg/23px-Flag_of_Egypt.svg.png\" srcset=\"//upload.wikimedia.org/wikipedia/commons/thumb/f/fe/Flag_of_Egypt.svg/35px-Flag_of_Egypt.svg.png 1.5x, //upload.wikimedia.org/wikipedia/commons/thumb/f/fe/Flag_of_Egypt.svg/45px-Flag_of_Egypt.svg.png 2x\" width=\"23\"/>\n",
      "//upload.wikimedia.org/wikipedia/commons/thumb/f/fe/Flag_of_Egypt.svg/23px-Flag_of_Egypt.svg.png\n",
      "<img alt=\"\" class=\"thumbborder\" data-file-height=\"600\" data-file-width=\"900\" decoding=\"async\" height=\"15\" src=\"//upload.wikimedia.org/wikipedia/en/thumb/f/f3/Flag_of_Russia.svg/23px-Flag_of_Russia.svg.png\" srcset=\"//upload.wikimedia.org/wikipedia/en/thumb/f/f3/Flag_of_Russia.svg/35px-Flag_of_Russia.svg.png 1.5x, //upload.wikimedia.org/wikipedia/en/thumb/f/f3/Flag_of_Russia.svg/45px-Flag_of_Russia.svg.png 2x\" width=\"23\"/>\n",
      "//upload.wikimedia.org/wikipedia/en/thumb/f/f3/Flag_of_Russia.svg/23px-Flag_of_Russia.svg.png\n",
      "<img alt=\"Russia\" class=\"thumbborder\" data-file-height=\"600\" data-file-width=\"900\" decoding=\"async\" height=\"15\" src=\"//upload.wikimedia.org/wikipedia/en/thumb/f/f3/Flag_of_Russia.svg/23px-Flag_of_Russia.svg.png\" srcset=\"//upload.wikimedia.org/wikipedia/en/thumb/f/f3/Flag_of_Russia.svg/35px-Flag_of_Russia.svg.png 1.5x, //upload.wikimedia.org/wikipedia/en/thumb/f/f3/Flag_of_Russia.svg/45px-Flag_of_Russia.svg.png 2x\" width=\"23\"/>\n",
      "//upload.wikimedia.org/wikipedia/en/thumb/f/f3/Flag_of_Russia.svg/23px-Flag_of_Russia.svg.png\n",
      "<img alt=\"Russia\" class=\"thumbborder\" data-file-height=\"600\" data-file-width=\"900\" decoding=\"async\" height=\"15\" src=\"//upload.wikimedia.org/wikipedia/en/thumb/f/f3/Flag_of_Russia.svg/23px-Flag_of_Russia.svg.png\" srcset=\"//upload.wikimedia.org/wikipedia/en/thumb/f/f3/Flag_of_Russia.svg/35px-Flag_of_Russia.svg.png 1.5x, //upload.wikimedia.org/wikipedia/en/thumb/f/f3/Flag_of_Russia.svg/45px-Flag_of_Russia.svg.png 2x\" width=\"23\"/>\n",
      "//upload.wikimedia.org/wikipedia/en/thumb/f/f3/Flag_of_Russia.svg/23px-Flag_of_Russia.svg.png\n",
      "<img alt=\"\" class=\"thumbborder\" data-file-height=\"504\" data-file-width=\"720\" decoding=\"async\" height=\"15\" src=\"//upload.wikimedia.org/wikipedia/en/thumb/0/05/Flag_of_Brazil.svg/22px-Flag_of_Brazil.svg.png\" srcset=\"//upload.wikimedia.org/wikipedia/en/thumb/0/05/Flag_of_Brazil.svg/33px-Flag_of_Brazil.svg.png 1.5x, //upload.wikimedia.org/wikipedia/en/thumb/0/05/Flag_of_Brazil.svg/43px-Flag_of_Brazil.svg.png 2x\" width=\"22\"/>\n",
      "//upload.wikimedia.org/wikipedia/en/thumb/0/05/Flag_of_Brazil.svg/22px-Flag_of_Brazil.svg.png\n",
      "<img alt=\"Brazil\" class=\"thumbborder\" data-file-height=\"504\" data-file-width=\"720\" decoding=\"async\" height=\"15\" src=\"//upload.wikimedia.org/wikipedia/en/thumb/0/05/Flag_of_Brazil.svg/22px-Flag_of_Brazil.svg.png\" srcset=\"//upload.wikimedia.org/wikipedia/en/thumb/0/05/Flag_of_Brazil.svg/33px-Flag_of_Brazil.svg.png 1.5x, //upload.wikimedia.org/wikipedia/en/thumb/0/05/Flag_of_Brazil.svg/43px-Flag_of_Brazil.svg.png 2x\" width=\"22\"/>\n",
      "//upload.wikimedia.org/wikipedia/en/thumb/0/05/Flag_of_Brazil.svg/22px-Flag_of_Brazil.svg.png\n",
      "<img alt=\"Brazil\" class=\"thumbborder\" data-file-height=\"504\" data-file-width=\"720\" decoding=\"async\" height=\"15\" src=\"//upload.wikimedia.org/wikipedia/en/thumb/0/05/Flag_of_Brazil.svg/22px-Flag_of_Brazil.svg.png\" srcset=\"//upload.wikimedia.org/wikipedia/en/thumb/0/05/Flag_of_Brazil.svg/33px-Flag_of_Brazil.svg.png 1.5x, //upload.wikimedia.org/wikipedia/en/thumb/0/05/Flag_of_Brazil.svg/43px-Flag_of_Brazil.svg.png 2x\" width=\"22\"/>\n",
      "//upload.wikimedia.org/wikipedia/en/thumb/0/05/Flag_of_Brazil.svg/22px-Flag_of_Brazil.svg.png\n",
      "<img alt=\"\" class=\"thumbborder\" data-file-height=\"650\" data-file-width=\"1235\" decoding=\"async\" height=\"12\" src=\"//upload.wikimedia.org/wikipedia/en/thumb/a/a4/Flag_of_the_United_States.svg/23px-Flag_of_the_United_States.svg.png\" srcset=\"//upload.wikimedia.org/wikipedia/en/thumb/a/a4/Flag_of_the_United_States.svg/35px-Flag_of_the_United_States.svg.png 1.5x, //upload.wikimedia.org/wikipedia/en/thumb/a/a4/Flag_of_the_United_States.svg/46px-Flag_of_the_United_States.svg.png 2x\" width=\"23\"/>\n",
      "//upload.wikimedia.org/wikipedia/en/thumb/a/a4/Flag_of_the_United_States.svg/23px-Flag_of_the_United_States.svg.png\n",
      "<img alt=\"United States\" class=\"thumbborder\" data-file-height=\"650\" data-file-width=\"1235\" decoding=\"async\" height=\"12\" src=\"//upload.wikimedia.org/wikipedia/en/thumb/a/a4/Flag_of_the_United_States.svg/23px-Flag_of_the_United_States.svg.png\" srcset=\"//upload.wikimedia.org/wikipedia/en/thumb/a/a4/Flag_of_the_United_States.svg/35px-Flag_of_the_United_States.svg.png 1.5x, //upload.wikimedia.org/wikipedia/en/thumb/a/a4/Flag_of_the_United_States.svg/46px-Flag_of_the_United_States.svg.png 2x\" width=\"23\"/>\n",
      "//upload.wikimedia.org/wikipedia/en/thumb/a/a4/Flag_of_the_United_States.svg/23px-Flag_of_the_United_States.svg.png\n",
      "<img alt=\"United States\" class=\"thumbborder\" data-file-height=\"650\" data-file-width=\"1235\" decoding=\"async\" height=\"12\" src=\"//upload.wikimedia.org/wikipedia/en/thumb/a/a4/Flag_of_the_United_States.svg/23px-Flag_of_the_United_States.svg.png\" srcset=\"//upload.wikimedia.org/wikipedia/en/thumb/a/a4/Flag_of_the_United_States.svg/35px-Flag_of_the_United_States.svg.png 1.5x, //upload.wikimedia.org/wikipedia/en/thumb/a/a4/Flag_of_the_United_States.svg/46px-Flag_of_the_United_States.svg.png 2x\" width=\"23\"/>\n",
      "//upload.wikimedia.org/wikipedia/en/thumb/a/a4/Flag_of_the_United_States.svg/23px-Flag_of_the_United_States.svg.png\n",
      "<img alt=\"\" class=\"thumbborder\" data-file-height=\"640\" data-file-width=\"1280\" decoding=\"async\" height=\"12\" src=\"//upload.wikimedia.org/wikipedia/commons/thumb/8/88/Flag_of_Australia_%28converted%29.svg/23px-Flag_of_Australia_%28converted%29.svg.png\" srcset=\"//upload.wikimedia.org/wikipedia/commons/thumb/8/88/Flag_of_Australia_%28converted%29.svg/35px-Flag_of_Australia_%28converted%29.svg.png 1.5x, //upload.wikimedia.org/wikipedia/commons/thumb/8/88/Flag_of_Australia_%28converted%29.svg/46px-Flag_of_Australia_%28converted%29.svg.png 2x\" width=\"23\"/>\n",
      "//upload.wikimedia.org/wikipedia/commons/thumb/8/88/Flag_of_Australia_%28converted%29.svg/23px-Flag_of_Australia_%28converted%29.svg.png\n",
      "<img alt=\"Australia\" class=\"thumbborder\" data-file-height=\"640\" data-file-width=\"1280\" decoding=\"async\" height=\"12\" src=\"//upload.wikimedia.org/wikipedia/commons/thumb/8/88/Flag_of_Australia_%28converted%29.svg/23px-Flag_of_Australia_%28converted%29.svg.png\" srcset=\"//upload.wikimedia.org/wikipedia/commons/thumb/8/88/Flag_of_Australia_%28converted%29.svg/35px-Flag_of_Australia_%28converted%29.svg.png 1.5x, //upload.wikimedia.org/wikipedia/commons/thumb/8/88/Flag_of_Australia_%28converted%29.svg/46px-Flag_of_Australia_%28converted%29.svg.png 2x\" width=\"23\"/>\n",
      "//upload.wikimedia.org/wikipedia/commons/thumb/8/88/Flag_of_Australia_%28converted%29.svg/23px-Flag_of_Australia_%28converted%29.svg.png\n",
      "<img alt=\"Antarctica\" data-file-height=\"496\" data-file-width=\"744\" decoding=\"async\" height=\"15\" src=\"//upload.wikimedia.org/wikipedia/commons/thumb/b/bb/Proposed_flag_of_Antarctica_%28Graham_Bartram%29.svg/23px-Proposed_flag_of_Antarctica_%28Graham_Bartram%29.svg.png\" srcset=\"//upload.wikimedia.org/wikipedia/commons/thumb/b/bb/Proposed_flag_of_Antarctica_%28Graham_Bartram%29.svg/35px-Proposed_flag_of_Antarctica_%28Graham_Bartram%29.svg.png 1.5x, //upload.wikimedia.org/wikipedia/commons/thumb/b/bb/Proposed_flag_of_Antarctica_%28Graham_Bartram%29.svg/45px-Proposed_flag_of_Antarctica_%28Graham_Bartram%29.svg.png 2x\" width=\"23\"/>\n",
      "//upload.wikimedia.org/wikipedia/commons/thumb/b/bb/Proposed_flag_of_Antarctica_%28Graham_Bartram%29.svg/23px-Proposed_flag_of_Antarctica_%28Graham_Bartram%29.svg.png\n",
      "<img alt=\"\" class=\"thumbimage\" data-file-height=\"3131\" data-file-width=\"8192\" decoding=\"async\" height=\"115\" src=\"//upload.wikimedia.org/wikipedia/commons/thumb/9/90/Global_population_cartogram.png/300px-Global_population_cartogram.png\" srcset=\"//upload.wikimedia.org/wikipedia/commons/thumb/9/90/Global_population_cartogram.png/450px-Global_population_cartogram.png 1.5x, //upload.wikimedia.org/wikipedia/commons/thumb/9/90/Global_population_cartogram.png/600px-Global_population_cartogram.png 2x\" width=\"300\"/>\n",
      "//upload.wikimedia.org/wikipedia/commons/thumb/9/90/Global_population_cartogram.png/300px-Global_population_cartogram.png\n",
      "<img alt=\"\" class=\"thumbimage\" data-file-height=\"1398\" data-file-width=\"2754\" decoding=\"async\" height=\"152\" src=\"//upload.wikimedia.org/wikipedia/commons/thumb/a/a5/World_Population.svg/300px-World_Population.svg.png\" srcset=\"//upload.wikimedia.org/wikipedia/commons/thumb/a/a5/World_Population.svg/450px-World_Population.svg.png 1.5x, //upload.wikimedia.org/wikipedia/commons/thumb/a/a5/World_Population.svg/600px-World_Population.svg.png 2x\" width=\"300\"/>\n",
      "//upload.wikimedia.org/wikipedia/commons/thumb/a/a5/World_Population.svg/300px-World_Population.svg.png\n",
      "<img alt=\"\" class=\"thumbimage\" data-file-height=\"600\" data-file-width=\"850\" decoding=\"async\" height=\"212\" src=\"//upload.wikimedia.org/wikipedia/commons/thumb/f/fa/Top_5_Country_Population_Graph_1901_to_2021.svg/300px-Top_5_Country_Population_Graph_1901_to_2021.svg.png\" srcset=\"//upload.wikimedia.org/wikipedia/commons/thumb/f/fa/Top_5_Country_Population_Graph_1901_to_2021.svg/450px-Top_5_Country_Population_Graph_1901_to_2021.svg.png 1.5x, //upload.wikimedia.org/wikipedia/commons/thumb/f/fa/Top_5_Country_Population_Graph_1901_to_2021.svg/600px-Top_5_Country_Population_Graph_1901_to_2021.svg.png 2x\" width=\"300\"/>\n",
      "//upload.wikimedia.org/wikipedia/commons/thumb/f/fa/Top_5_Country_Population_Graph_1901_to_2021.svg/300px-Top_5_Country_Population_Graph_1901_to_2021.svg.png\n",
      "<img alt=\"\" class=\"thumbborder\" data-file-height=\"600\" data-file-width=\"900\" decoding=\"async\" height=\"15\" src=\"//upload.wikimedia.org/wikipedia/commons/thumb/f/fa/Flag_of_the_People%27s_Republic_of_China.svg/23px-Flag_of_the_People%27s_Republic_of_China.svg.png\" srcset=\"//upload.wikimedia.org/wikipedia/commons/thumb/f/fa/Flag_of_the_People%27s_Republic_of_China.svg/35px-Flag_of_the_People%27s_Republic_of_China.svg.png 1.5x, //upload.wikimedia.org/wikipedia/commons/thumb/f/fa/Flag_of_the_People%27s_Republic_of_China.svg/45px-Flag_of_the_People%27s_Republic_of_China.svg.png 2x\" width=\"23\"/>\n",
      "//upload.wikimedia.org/wikipedia/commons/thumb/f/fa/Flag_of_the_People%27s_Republic_of_China.svg/23px-Flag_of_the_People%27s_Republic_of_China.svg.png\n",
      "<img alt=\"\" class=\"thumbborder\" data-file-height=\"900\" data-file-width=\"1350\" decoding=\"async\" height=\"15\" src=\"//upload.wikimedia.org/wikipedia/en/thumb/4/41/Flag_of_India.svg/23px-Flag_of_India.svg.png\" srcset=\"//upload.wikimedia.org/wikipedia/en/thumb/4/41/Flag_of_India.svg/35px-Flag_of_India.svg.png 1.5x, //upload.wikimedia.org/wikipedia/en/thumb/4/41/Flag_of_India.svg/45px-Flag_of_India.svg.png 2x\" width=\"23\"/>\n",
      "//upload.wikimedia.org/wikipedia/en/thumb/4/41/Flag_of_India.svg/23px-Flag_of_India.svg.png\n",
      "<img alt=\"\" class=\"thumbborder\" data-file-height=\"650\" data-file-width=\"1235\" decoding=\"async\" height=\"12\" src=\"//upload.wikimedia.org/wikipedia/en/thumb/a/a4/Flag_of_the_United_States.svg/23px-Flag_of_the_United_States.svg.png\" srcset=\"//upload.wikimedia.org/wikipedia/en/thumb/a/a4/Flag_of_the_United_States.svg/35px-Flag_of_the_United_States.svg.png 1.5x, //upload.wikimedia.org/wikipedia/en/thumb/a/a4/Flag_of_the_United_States.svg/46px-Flag_of_the_United_States.svg.png 2x\" width=\"23\"/>\n",
      "//upload.wikimedia.org/wikipedia/en/thumb/a/a4/Flag_of_the_United_States.svg/23px-Flag_of_the_United_States.svg.png\n",
      "<img alt=\"\" class=\"thumbborder\" data-file-height=\"600\" data-file-width=\"900\" decoding=\"async\" height=\"15\" src=\"//upload.wikimedia.org/wikipedia/commons/thumb/9/9f/Flag_of_Indonesia.svg/23px-Flag_of_Indonesia.svg.png\" srcset=\"//upload.wikimedia.org/wikipedia/commons/thumb/9/9f/Flag_of_Indonesia.svg/35px-Flag_of_Indonesia.svg.png 1.5x, //upload.wikimedia.org/wikipedia/commons/thumb/9/9f/Flag_of_Indonesia.svg/45px-Flag_of_Indonesia.svg.png 2x\" width=\"23\"/>\n",
      "//upload.wikimedia.org/wikipedia/commons/thumb/9/9f/Flag_of_Indonesia.svg/23px-Flag_of_Indonesia.svg.png\n",
      "<img alt=\"\" class=\"thumbborder\" data-file-height=\"600\" data-file-width=\"900\" decoding=\"async\" height=\"15\" src=\"//upload.wikimedia.org/wikipedia/commons/thumb/3/32/Flag_of_Pakistan.svg/23px-Flag_of_Pakistan.svg.png\" srcset=\"//upload.wikimedia.org/wikipedia/commons/thumb/3/32/Flag_of_Pakistan.svg/35px-Flag_of_Pakistan.svg.png 1.5x, //upload.wikimedia.org/wikipedia/commons/thumb/3/32/Flag_of_Pakistan.svg/45px-Flag_of_Pakistan.svg.png 2x\" width=\"23\"/>\n",
      "//upload.wikimedia.org/wikipedia/commons/thumb/3/32/Flag_of_Pakistan.svg/23px-Flag_of_Pakistan.svg.png\n",
      "<img alt=\"\" class=\"thumbborder\" data-file-height=\"600\" data-file-width=\"1200\" decoding=\"async\" height=\"12\" src=\"//upload.wikimedia.org/wikipedia/commons/thumb/7/79/Flag_of_Nigeria.svg/23px-Flag_of_Nigeria.svg.png\" srcset=\"//upload.wikimedia.org/wikipedia/commons/thumb/7/79/Flag_of_Nigeria.svg/35px-Flag_of_Nigeria.svg.png 1.5x, //upload.wikimedia.org/wikipedia/commons/thumb/7/79/Flag_of_Nigeria.svg/46px-Flag_of_Nigeria.svg.png 2x\" width=\"23\"/>\n",
      "//upload.wikimedia.org/wikipedia/commons/thumb/7/79/Flag_of_Nigeria.svg/23px-Flag_of_Nigeria.svg.png\n",
      "<img alt=\"\" class=\"thumbborder\" data-file-height=\"504\" data-file-width=\"720\" decoding=\"async\" height=\"15\" src=\"//upload.wikimedia.org/wikipedia/en/thumb/0/05/Flag_of_Brazil.svg/22px-Flag_of_Brazil.svg.png\" srcset=\"//upload.wikimedia.org/wikipedia/en/thumb/0/05/Flag_of_Brazil.svg/33px-Flag_of_Brazil.svg.png 1.5x, //upload.wikimedia.org/wikipedia/en/thumb/0/05/Flag_of_Brazil.svg/43px-Flag_of_Brazil.svg.png 2x\" width=\"22\"/>\n",
      "//upload.wikimedia.org/wikipedia/en/thumb/0/05/Flag_of_Brazil.svg/22px-Flag_of_Brazil.svg.png\n",
      "<img alt=\"\" class=\"thumbborder\" data-file-height=\"600\" data-file-width=\"1000\" decoding=\"async\" height=\"14\" src=\"//upload.wikimedia.org/wikipedia/commons/thumb/f/f9/Flag_of_Bangladesh.svg/23px-Flag_of_Bangladesh.svg.png\" srcset=\"//upload.wikimedia.org/wikipedia/commons/thumb/f/f9/Flag_of_Bangladesh.svg/35px-Flag_of_Bangladesh.svg.png 1.5x, //upload.wikimedia.org/wikipedia/commons/thumb/f/f9/Flag_of_Bangladesh.svg/46px-Flag_of_Bangladesh.svg.png 2x\" width=\"23\"/>\n",
      "//upload.wikimedia.org/wikipedia/commons/thumb/f/f9/Flag_of_Bangladesh.svg/23px-Flag_of_Bangladesh.svg.png\n",
      "<img alt=\"\" class=\"thumbborder\" data-file-height=\"600\" data-file-width=\"900\" decoding=\"async\" height=\"15\" src=\"//upload.wikimedia.org/wikipedia/en/thumb/f/f3/Flag_of_Russia.svg/23px-Flag_of_Russia.svg.png\" srcset=\"//upload.wikimedia.org/wikipedia/en/thumb/f/f3/Flag_of_Russia.svg/35px-Flag_of_Russia.svg.png 1.5x, //upload.wikimedia.org/wikipedia/en/thumb/f/f3/Flag_of_Russia.svg/45px-Flag_of_Russia.svg.png 2x\" width=\"23\"/>\n",
      "//upload.wikimedia.org/wikipedia/en/thumb/f/f3/Flag_of_Russia.svg/23px-Flag_of_Russia.svg.png\n",
      "<img alt=\"\" class=\"thumbborder\" data-file-height=\"560\" data-file-width=\"980\" decoding=\"async\" height=\"13\" src=\"//upload.wikimedia.org/wikipedia/commons/thumb/f/fc/Flag_of_Mexico.svg/23px-Flag_of_Mexico.svg.png\" srcset=\"//upload.wikimedia.org/wikipedia/commons/thumb/f/fc/Flag_of_Mexico.svg/35px-Flag_of_Mexico.svg.png 1.5x, //upload.wikimedia.org/wikipedia/commons/thumb/f/fc/Flag_of_Mexico.svg/46px-Flag_of_Mexico.svg.png 2x\" width=\"23\"/>\n",
      "//upload.wikimedia.org/wikipedia/commons/thumb/f/fc/Flag_of_Mexico.svg/23px-Flag_of_Mexico.svg.png\n",
      "<img alt=\"\" class=\"thumbimage\" data-file-height=\"2231\" data-file-width=\"3053\" decoding=\"async\" height=\"241\" src=\"//upload.wikimedia.org/wikipedia/commons/thumb/2/2e/Population_Density%2C_v4.11%2C_2020_%2848009093621%29.jpg/330px-Population_Density%2C_v4.11%2C_2020_%2848009093621%29.jpg\" srcset=\"//upload.wikimedia.org/wikipedia/commons/thumb/2/2e/Population_Density%2C_v4.11%2C_2020_%2848009093621%29.jpg/495px-Population_Density%2C_v4.11%2C_2020_%2848009093621%29.jpg 1.5x, //upload.wikimedia.org/wikipedia/commons/thumb/2/2e/Population_Density%2C_v4.11%2C_2020_%2848009093621%29.jpg/660px-Population_Density%2C_v4.11%2C_2020_%2848009093621%29.jpg 2x\" width=\"330\"/>\n",
      "//upload.wikimedia.org/wikipedia/commons/thumb/2/2e/Population_Density%2C_v4.11%2C_2020_%2848009093621%29.jpg/330px-Population_Density%2C_v4.11%2C_2020_%2848009093621%29.jpg\n",
      "<img alt=\"\" class=\"thumbborder\" data-file-height=\"600\" data-file-width=\"900\" decoding=\"async\" height=\"15\" src=\"//upload.wikimedia.org/wikipedia/commons/thumb/4/48/Flag_of_Singapore.svg/23px-Flag_of_Singapore.svg.png\" srcset=\"//upload.wikimedia.org/wikipedia/commons/thumb/4/48/Flag_of_Singapore.svg/35px-Flag_of_Singapore.svg.png 1.5x, //upload.wikimedia.org/wikipedia/commons/thumb/4/48/Flag_of_Singapore.svg/45px-Flag_of_Singapore.svg.png 2x\" width=\"23\"/>\n",
      "//upload.wikimedia.org/wikipedia/commons/thumb/4/48/Flag_of_Singapore.svg/23px-Flag_of_Singapore.svg.png\n",
      "<img alt=\"\" class=\"thumbborder\" data-file-height=\"600\" data-file-width=\"1000\" decoding=\"async\" height=\"14\" src=\"//upload.wikimedia.org/wikipedia/commons/thumb/f/f9/Flag_of_Bangladesh.svg/23px-Flag_of_Bangladesh.svg.png\" srcset=\"//upload.wikimedia.org/wikipedia/commons/thumb/f/f9/Flag_of_Bangladesh.svg/35px-Flag_of_Bangladesh.svg.png 1.5x, //upload.wikimedia.org/wikipedia/commons/thumb/f/f9/Flag_of_Bangladesh.svg/46px-Flag_of_Bangladesh.svg.png 2x\" width=\"23\"/>\n",
      "//upload.wikimedia.org/wikipedia/commons/thumb/f/f9/Flag_of_Bangladesh.svg/23px-Flag_of_Bangladesh.svg.png\n",
      "<img alt=\"\" class=\"thumbborder\" data-file-height=\"216\" data-file-width=\"432\" decoding=\"async\" height=\"12\" src=\"//upload.wikimedia.org/wikipedia/commons/thumb/0/00/Flag_of_Palestine.svg/23px-Flag_of_Palestine.svg.png\" srcset=\"//upload.wikimedia.org/wikipedia/commons/thumb/0/00/Flag_of_Palestine.svg/35px-Flag_of_Palestine.svg.png 1.5x, //upload.wikimedia.org/wikipedia/commons/thumb/0/00/Flag_of_Palestine.svg/46px-Flag_of_Palestine.svg.png 2x\" width=\"23\"/>\n",
      "//upload.wikimedia.org/wikipedia/commons/thumb/0/00/Flag_of_Palestine.svg/23px-Flag_of_Palestine.svg.png\n",
      "<img alt=\"\" class=\"thumbborder\" data-file-height=\"600\" data-file-width=\"900\" decoding=\"async\" height=\"15\" src=\"//upload.wikimedia.org/wikipedia/commons/thumb/5/59/Flag_of_Lebanon.svg/23px-Flag_of_Lebanon.svg.png\" srcset=\"//upload.wikimedia.org/wikipedia/commons/thumb/5/59/Flag_of_Lebanon.svg/35px-Flag_of_Lebanon.svg.png 1.5x, //upload.wikimedia.org/wikipedia/commons/thumb/5/59/Flag_of_Lebanon.svg/45px-Flag_of_Lebanon.svg.png 2x\" width=\"23\"/>\n",
      "//upload.wikimedia.org/wikipedia/commons/thumb/5/59/Flag_of_Lebanon.svg/23px-Flag_of_Lebanon.svg.png\n",
      "<img alt=\"\" class=\"thumbborder\" data-file-height=\"600\" data-file-width=\"900\" decoding=\"async\" height=\"15\" src=\"//upload.wikimedia.org/wikipedia/commons/thumb/7/72/Flag_of_the_Republic_of_China.svg/23px-Flag_of_the_Republic_of_China.svg.png\" srcset=\"//upload.wikimedia.org/wikipedia/commons/thumb/7/72/Flag_of_the_Republic_of_China.svg/35px-Flag_of_the_Republic_of_China.svg.png 1.5x, //upload.wikimedia.org/wikipedia/commons/thumb/7/72/Flag_of_the_Republic_of_China.svg/45px-Flag_of_the_Republic_of_China.svg.png 2x\" width=\"23\"/>\n",
      "//upload.wikimedia.org/wikipedia/commons/thumb/7/72/Flag_of_the_Republic_of_China.svg/23px-Flag_of_the_Republic_of_China.svg.png\n",
      "<img alt=\"\" class=\"thumbborder\" data-file-height=\"600\" data-file-width=\"900\" decoding=\"async\" height=\"15\" src=\"//upload.wikimedia.org/wikipedia/commons/thumb/0/09/Flag_of_South_Korea.svg/23px-Flag_of_South_Korea.svg.png\" srcset=\"//upload.wikimedia.org/wikipedia/commons/thumb/0/09/Flag_of_South_Korea.svg/35px-Flag_of_South_Korea.svg.png 1.5x, //upload.wikimedia.org/wikipedia/commons/thumb/0/09/Flag_of_South_Korea.svg/45px-Flag_of_South_Korea.svg.png 2x\" width=\"23\"/>\n",
      "//upload.wikimedia.org/wikipedia/commons/thumb/0/09/Flag_of_South_Korea.svg/23px-Flag_of_South_Korea.svg.png\n",
      "<img alt=\"\" class=\"thumbborder\" data-file-height=\"720\" data-file-width=\"1080\" decoding=\"async\" height=\"15\" src=\"//upload.wikimedia.org/wikipedia/commons/thumb/1/17/Flag_of_Rwanda.svg/23px-Flag_of_Rwanda.svg.png\" srcset=\"//upload.wikimedia.org/wikipedia/commons/thumb/1/17/Flag_of_Rwanda.svg/35px-Flag_of_Rwanda.svg.png 1.5x, //upload.wikimedia.org/wikipedia/commons/thumb/1/17/Flag_of_Rwanda.svg/45px-Flag_of_Rwanda.svg.png 2x\" width=\"23\"/>\n",
      "//upload.wikimedia.org/wikipedia/commons/thumb/1/17/Flag_of_Rwanda.svg/23px-Flag_of_Rwanda.svg.png\n",
      "<img alt=\"\" class=\"thumbborder\" data-file-height=\"800\" data-file-width=\"1100\" decoding=\"async\" height=\"15\" src=\"//upload.wikimedia.org/wikipedia/commons/thumb/d/d4/Flag_of_Israel.svg/21px-Flag_of_Israel.svg.png\" srcset=\"//upload.wikimedia.org/wikipedia/commons/thumb/d/d4/Flag_of_Israel.svg/32px-Flag_of_Israel.svg.png 1.5x, //upload.wikimedia.org/wikipedia/commons/thumb/d/d4/Flag_of_Israel.svg/41px-Flag_of_Israel.svg.png 2x\" width=\"21\"/>\n",
      "//upload.wikimedia.org/wikipedia/commons/thumb/d/d4/Flag_of_Israel.svg/21px-Flag_of_Israel.svg.png\n",
      "<img alt=\"\" class=\"thumbborder\" data-file-height=\"600\" data-file-width=\"1000\" decoding=\"async\" height=\"14\" src=\"//upload.wikimedia.org/wikipedia/commons/thumb/5/56/Flag_of_Haiti.svg/23px-Flag_of_Haiti.svg.png\" srcset=\"//upload.wikimedia.org/wikipedia/commons/thumb/5/56/Flag_of_Haiti.svg/35px-Flag_of_Haiti.svg.png 1.5x, //upload.wikimedia.org/wikipedia/commons/thumb/5/56/Flag_of_Haiti.svg/46px-Flag_of_Haiti.svg.png 2x\" width=\"23\"/>\n",
      "//upload.wikimedia.org/wikipedia/commons/thumb/5/56/Flag_of_Haiti.svg/23px-Flag_of_Haiti.svg.png\n",
      "<img alt=\"\" class=\"thumbborder\" data-file-height=\"600\" data-file-width=\"900\" decoding=\"async\" height=\"15\" src=\"//upload.wikimedia.org/wikipedia/commons/thumb/2/20/Flag_of_the_Netherlands.svg/23px-Flag_of_the_Netherlands.svg.png\" srcset=\"//upload.wikimedia.org/wikipedia/commons/thumb/2/20/Flag_of_the_Netherlands.svg/35px-Flag_of_the_Netherlands.svg.png 1.5x, //upload.wikimedia.org/wikipedia/commons/thumb/2/20/Flag_of_the_Netherlands.svg/45px-Flag_of_the_Netherlands.svg.png 2x\" width=\"23\"/>\n",
      "//upload.wikimedia.org/wikipedia/commons/thumb/2/20/Flag_of_the_Netherlands.svg/23px-Flag_of_the_Netherlands.svg.png\n",
      "<img alt=\"\" class=\"thumbborder\" data-file-height=\"900\" data-file-width=\"1350\" decoding=\"async\" height=\"15\" src=\"//upload.wikimedia.org/wikipedia/en/thumb/4/41/Flag_of_India.svg/23px-Flag_of_India.svg.png\" srcset=\"//upload.wikimedia.org/wikipedia/en/thumb/4/41/Flag_of_India.svg/35px-Flag_of_India.svg.png 1.5x, //upload.wikimedia.org/wikipedia/en/thumb/4/41/Flag_of_India.svg/45px-Flag_of_India.svg.png 2x\" width=\"23\"/>\n",
      "//upload.wikimedia.org/wikipedia/en/thumb/4/41/Flag_of_India.svg/23px-Flag_of_India.svg.png\n",
      "<img alt=\"\" class=\"thumbborder\" data-file-height=\"600\" data-file-width=\"900\" decoding=\"async\" height=\"15\" src=\"//upload.wikimedia.org/wikipedia/commons/thumb/3/32/Flag_of_Pakistan.svg/23px-Flag_of_Pakistan.svg.png\" srcset=\"//upload.wikimedia.org/wikipedia/commons/thumb/3/32/Flag_of_Pakistan.svg/35px-Flag_of_Pakistan.svg.png 1.5x, //upload.wikimedia.org/wikipedia/commons/thumb/3/32/Flag_of_Pakistan.svg/45px-Flag_of_Pakistan.svg.png 2x\" width=\"23\"/>\n",
      "//upload.wikimedia.org/wikipedia/commons/thumb/3/32/Flag_of_Pakistan.svg/23px-Flag_of_Pakistan.svg.png\n",
      "<img alt=\"\" class=\"thumbborder\" data-file-height=\"600\" data-file-width=\"1000\" decoding=\"async\" height=\"14\" src=\"//upload.wikimedia.org/wikipedia/commons/thumb/f/f9/Flag_of_Bangladesh.svg/23px-Flag_of_Bangladesh.svg.png\" srcset=\"//upload.wikimedia.org/wikipedia/commons/thumb/f/f9/Flag_of_Bangladesh.svg/35px-Flag_of_Bangladesh.svg.png 1.5x, //upload.wikimedia.org/wikipedia/commons/thumb/f/f9/Flag_of_Bangladesh.svg/46px-Flag_of_Bangladesh.svg.png 2x\" width=\"23\"/>\n",
      "//upload.wikimedia.org/wikipedia/commons/thumb/f/f9/Flag_of_Bangladesh.svg/23px-Flag_of_Bangladesh.svg.png\n",
      "<img alt=\"\" class=\"thumbborder\" data-file-height=\"600\" data-file-width=\"900\" decoding=\"async\" height=\"15\" src=\"//upload.wikimedia.org/wikipedia/en/thumb/9/9e/Flag_of_Japan.svg/23px-Flag_of_Japan.svg.png\" srcset=\"//upload.wikimedia.org/wikipedia/en/thumb/9/9e/Flag_of_Japan.svg/35px-Flag_of_Japan.svg.png 1.5x, //upload.wikimedia.org/wikipedia/en/thumb/9/9e/Flag_of_Japan.svg/45px-Flag_of_Japan.svg.png 2x\" width=\"23\"/>\n",
      "//upload.wikimedia.org/wikipedia/en/thumb/9/9e/Flag_of_Japan.svg/23px-Flag_of_Japan.svg.png\n",
      "<img alt=\"\" class=\"thumbborder\" data-file-height=\"600\" data-file-width=\"1200\" decoding=\"async\" height=\"12\" src=\"//upload.wikimedia.org/wikipedia/commons/thumb/9/99/Flag_of_the_Philippines.svg/23px-Flag_of_the_Philippines.svg.png\" srcset=\"//upload.wikimedia.org/wikipedia/commons/thumb/9/99/Flag_of_the_Philippines.svg/35px-Flag_of_the_Philippines.svg.png 1.5x, //upload.wikimedia.org/wikipedia/commons/thumb/9/99/Flag_of_the_Philippines.svg/46px-Flag_of_the_Philippines.svg.png 2x\" width=\"23\"/>\n",
      "//upload.wikimedia.org/wikipedia/commons/thumb/9/99/Flag_of_the_Philippines.svg/23px-Flag_of_the_Philippines.svg.png\n",
      "<img alt=\"\" class=\"thumbborder\" data-file-height=\"600\" data-file-width=\"900\" decoding=\"async\" height=\"15\" src=\"//upload.wikimedia.org/wikipedia/commons/thumb/2/21/Flag_of_Vietnam.svg/23px-Flag_of_Vietnam.svg.png\" srcset=\"//upload.wikimedia.org/wikipedia/commons/thumb/2/21/Flag_of_Vietnam.svg/35px-Flag_of_Vietnam.svg.png 1.5x, //upload.wikimedia.org/wikipedia/commons/thumb/2/21/Flag_of_Vietnam.svg/45px-Flag_of_Vietnam.svg.png 2x\" width=\"23\"/>\n",
      "//upload.wikimedia.org/wikipedia/commons/thumb/2/21/Flag_of_Vietnam.svg/23px-Flag_of_Vietnam.svg.png\n",
      "<img alt=\"\" class=\"thumbborder\" data-file-height=\"600\" data-file-width=\"1200\" decoding=\"async\" height=\"12\" src=\"//upload.wikimedia.org/wikipedia/en/thumb/a/ae/Flag_of_the_United_Kingdom.svg/23px-Flag_of_the_United_Kingdom.svg.png\" srcset=\"//upload.wikimedia.org/wikipedia/en/thumb/a/ae/Flag_of_the_United_Kingdom.svg/35px-Flag_of_the_United_Kingdom.svg.png 1.5x, //upload.wikimedia.org/wikipedia/en/thumb/a/ae/Flag_of_the_United_Kingdom.svg/46px-Flag_of_the_United_Kingdom.svg.png 2x\" width=\"23\"/>\n",
      "//upload.wikimedia.org/wikipedia/en/thumb/a/ae/Flag_of_the_United_Kingdom.svg/23px-Flag_of_the_United_Kingdom.svg.png\n",
      "<img alt=\"\" class=\"thumbborder\" data-file-height=\"600\" data-file-width=\"900\" decoding=\"async\" height=\"15\" src=\"//upload.wikimedia.org/wikipedia/commons/thumb/0/09/Flag_of_South_Korea.svg/23px-Flag_of_South_Korea.svg.png\" srcset=\"//upload.wikimedia.org/wikipedia/commons/thumb/0/09/Flag_of_South_Korea.svg/35px-Flag_of_South_Korea.svg.png 1.5x, //upload.wikimedia.org/wikipedia/commons/thumb/0/09/Flag_of_South_Korea.svg/45px-Flag_of_South_Korea.svg.png 2x\" width=\"23\"/>\n",
      "//upload.wikimedia.org/wikipedia/commons/thumb/0/09/Flag_of_South_Korea.svg/23px-Flag_of_South_Korea.svg.png\n",
      "<img alt=\"\" class=\"thumbborder\" data-file-height=\"600\" data-file-width=\"900\" decoding=\"async\" height=\"15\" src=\"//upload.wikimedia.org/wikipedia/commons/thumb/7/72/Flag_of_the_Republic_of_China.svg/23px-Flag_of_the_Republic_of_China.svg.png\" srcset=\"//upload.wikimedia.org/wikipedia/commons/thumb/7/72/Flag_of_the_Republic_of_China.svg/35px-Flag_of_the_Republic_of_China.svg.png 1.5x, //upload.wikimedia.org/wikipedia/commons/thumb/7/72/Flag_of_the_Republic_of_China.svg/45px-Flag_of_the_Republic_of_China.svg.png 2x\" width=\"23\"/>\n",
      "//upload.wikimedia.org/wikipedia/commons/thumb/7/72/Flag_of_the_Republic_of_China.svg/23px-Flag_of_the_Republic_of_China.svg.png\n",
      "<img alt=\"\" class=\"thumbborder\" data-file-height=\"600\" data-file-width=\"1200\" decoding=\"async\" height=\"12\" src=\"//upload.wikimedia.org/wikipedia/commons/thumb/1/11/Flag_of_Sri_Lanka.svg/23px-Flag_of_Sri_Lanka.svg.png\" srcset=\"//upload.wikimedia.org/wikipedia/commons/thumb/1/11/Flag_of_Sri_Lanka.svg/35px-Flag_of_Sri_Lanka.svg.png 1.5x, //upload.wikimedia.org/wikipedia/commons/thumb/1/11/Flag_of_Sri_Lanka.svg/46px-Flag_of_Sri_Lanka.svg.png 2x\" width=\"23\"/>\n",
      "//upload.wikimedia.org/wikipedia/commons/thumb/1/11/Flag_of_Sri_Lanka.svg/23px-Flag_of_Sri_Lanka.svg.png\n",
      "<img alt=\"\" class=\"thumbimage\" data-file-height=\"1020\" data-file-width=\"1150\" decoding=\"async\" height=\"266\" src=\"//upload.wikimedia.org/wikipedia/commons/thumb/1/11/World_population_%28UN%29.svg/300px-World_population_%28UN%29.svg.png\" srcset=\"//upload.wikimedia.org/wikipedia/commons/thumb/1/11/World_population_%28UN%29.svg/450px-World_population_%28UN%29.svg.png 1.5x, //upload.wikimedia.org/wikipedia/commons/thumb/1/11/World_population_%28UN%29.svg/600px-World_population_%28UN%29.svg.png 2x\" width=\"300\"/>\n",
      "//upload.wikimedia.org/wikipedia/commons/thumb/1/11/World_population_%28UN%29.svg/300px-World_population_%28UN%29.svg.png\n",
      "<img alt=\"\" class=\"thumbimage\" data-file-height=\"566\" data-file-width=\"1104\" decoding=\"async\" height=\"154\" src=\"//upload.wikimedia.org/wikipedia/commons/thumb/d/d7/Total_Fertility_Rate_Map_by_Country.svg/300px-Total_Fertility_Rate_Map_by_Country.svg.png\" srcset=\"//upload.wikimedia.org/wikipedia/commons/thumb/d/d7/Total_Fertility_Rate_Map_by_Country.svg/450px-Total_Fertility_Rate_Map_by_Country.svg.png 1.5x, //upload.wikimedia.org/wikipedia/commons/thumb/d/d7/Total_Fertility_Rate_Map_by_Country.svg/600px-Total_Fertility_Rate_Map_by_Country.svg.png 2x\" width=\"300\"/>\n",
      "//upload.wikimedia.org/wikipedia/commons/thumb/d/d7/Total_Fertility_Rate_Map_by_Country.svg/300px-Total_Fertility_Rate_Map_by_Country.svg.png\n",
      "<img alt=\"\" class=\"thumbimage\" data-file-height=\"3864\" data-file-width=\"5152\" decoding=\"async\" height=\"165\" src=\"//upload.wikimedia.org/wikipedia/commons/thumb/2/22/World_population_counter%2C_Eureka%2C_Halifax%2C_West_Yorkshire_%2827th_August_2022%29_001.jpg/220px-World_population_counter%2C_Eureka%2C_Halifax%2C_West_Yorkshire_%2827th_August_2022%29_001.jpg\" srcset=\"//upload.wikimedia.org/wikipedia/commons/thumb/2/22/World_population_counter%2C_Eureka%2C_Halifax%2C_West_Yorkshire_%2827th_August_2022%29_001.jpg/330px-World_population_counter%2C_Eureka%2C_Halifax%2C_West_Yorkshire_%2827th_August_2022%29_001.jpg 1.5x, //upload.wikimedia.org/wikipedia/commons/thumb/2/22/World_population_counter%2C_Eureka%2C_Halifax%2C_West_Yorkshire_%2827th_August_2022%29_001.jpg/440px-World_population_counter%2C_Eureka%2C_Halifax%2C_West_Yorkshire_%2827th_August_2022%29_001.jpg 2x\" width=\"220\"/>\n",
      "//upload.wikimedia.org/wikipedia/commons/thumb/2/22/World_population_counter%2C_Eureka%2C_Halifax%2C_West_Yorkshire_%2827th_August_2022%29_001.jpg/220px-World_population_counter%2C_Eureka%2C_Halifax%2C_West_Yorkshire_%2827th_August_2022%29_001.jpg\n",
      "<img alt=\"Estimated world population figures, 10,000 BC–AD 2000\" data-file-height=\"332\" data-file-width=\"547\" decoding=\"async\" height=\"73\" src=\"//upload.wikimedia.org/wikipedia/commons/thumb/b/b7/Population_curve.svg/120px-Population_curve.svg.png\" srcset=\"//upload.wikimedia.org/wikipedia/commons/thumb/b/b7/Population_curve.svg/180px-Population_curve.svg.png 1.5x, //upload.wikimedia.org/wikipedia/commons/thumb/b/b7/Population_curve.svg/240px-Population_curve.svg.png 2x\" width=\"120\"/>\n",
      "//upload.wikimedia.org/wikipedia/commons/thumb/b/b7/Population_curve.svg/120px-Population_curve.svg.png\n",
      "<img alt=\"Estimated world population figures, 10,000 BC–AD 2000 (in log y scale)\" data-file-height=\"600\" data-file-width=\"1000\" decoding=\"async\" height=\"72\" src=\"//upload.wikimedia.org/wikipedia/commons/thumb/f/f2/World_population_growth_%28lin-log_scale%29.png/120px-World_population_growth_%28lin-log_scale%29.png\" srcset=\"//upload.wikimedia.org/wikipedia/commons/thumb/f/f2/World_population_growth_%28lin-log_scale%29.png/180px-World_population_growth_%28lin-log_scale%29.png 1.5x, //upload.wikimedia.org/wikipedia/commons/thumb/f/f2/World_population_growth_%28lin-log_scale%29.png/240px-World_population_growth_%28lin-log_scale%29.png 2x\" width=\"120\"/>\n",
      "//upload.wikimedia.org/wikipedia/commons/thumb/f/f2/World_population_growth_%28lin-log_scale%29.png/120px-World_population_growth_%28lin-log_scale%29.png\n",
      "<img alt=\"World population figures, 1950–2017\" data-file-height=\"450\" data-file-width=\"750\" decoding=\"async\" height=\"72\" src=\"//upload.wikimedia.org/wikipedia/commons/thumb/1/11/World_population_history.svg/120px-World_population_history.svg.png\" srcset=\"//upload.wikimedia.org/wikipedia/commons/thumb/1/11/World_population_history.svg/180px-World_population_history.svg.png 1.5x, //upload.wikimedia.org/wikipedia/commons/thumb/1/11/World_population_history.svg/240px-World_population_history.svg.png 2x\" width=\"120\"/>\n",
      "//upload.wikimedia.org/wikipedia/commons/thumb/1/11/World_population_history.svg/120px-World_population_history.svg.png\n",
      "<img alt=\"\" data-file-height=\"399\" data-file-width=\"512\" decoding=\"async\" height=\"39\" src=\"//upload.wikimedia.org/wikipedia/en/thumb/9/99/Question_book-new.svg/50px-Question_book-new.svg.png\" srcset=\"//upload.wikimedia.org/wikipedia/en/thumb/9/99/Question_book-new.svg/75px-Question_book-new.svg.png 1.5x, //upload.wikimedia.org/wikipedia/en/thumb/9/99/Question_book-new.svg/100px-Question_book-new.svg.png 2x\" width=\"50\"/>\n",
      "//upload.wikimedia.org/wikipedia/en/thumb/9/99/Question_book-new.svg/50px-Question_book-new.svg.png\n",
      "<img alt=\"{\\displaystyle N={\\frac {C}{\\tau }}\\operatorname {arccot} {\\frac {T_{0}-T}{\\tau }},}\" aria-hidden=\"true\" class=\"mwe-math-fallback-image-inline\" src=\"https://wikimedia.org/api/rest_v1/media/math/render/svg/5343454561d001d6d023b1aa36f88b54febb1349\" style=\"vertical-align: -1.838ex; width:23.116ex; height:5.343ex;\"/>\n",
      "https://wikimedia.org/api/rest_v1/media/math/render/svg/5343454561d001d6d023b1aa36f88b54febb1349\n",
      "<img alt=\"\\tau \" aria-hidden=\"true\" class=\"mwe-math-fallback-image-inline\" src=\"https://wikimedia.org/api/rest_v1/media/math/render/svg/38a7dcde9730ef0853809fefc18d88771f95206c\" style=\"vertical-align: -0.338ex; width:1.202ex; height:1.676ex;\"/>\n",
      "https://wikimedia.org/api/rest_v1/media/math/render/svg/38a7dcde9730ef0853809fefc18d88771f95206c\n",
      "<img alt=\"\" class=\"thumbimage\" data-file-height=\"295\" data-file-width=\"400\" decoding=\"async\" height=\"221\" src=\"//upload.wikimedia.org/wikipedia/commons/thumb/1/18/Population-doubling.svg/300px-Population-doubling.svg.png\" srcset=\"//upload.wikimedia.org/wikipedia/commons/thumb/1/18/Population-doubling.svg/450px-Population-doubling.svg.png 1.5x, //upload.wikimedia.org/wikipedia/commons/thumb/1/18/Population-doubling.svg/600px-Population-doubling.svg.png 2x\" width=\"300\"/>\n",
      "//upload.wikimedia.org/wikipedia/commons/thumb/1/18/Population-doubling.svg/300px-Population-doubling.svg.png\n",
      "<img alt=\"Public Domain\" class=\"noviewer\" data-file-height=\"196\" data-file-width=\"196\" decoding=\"async\" height=\"12\" src=\"//upload.wikimedia.org/wikipedia/en/thumb/6/62/PD-icon.svg/12px-PD-icon.svg.png\" srcset=\"//upload.wikimedia.org/wikipedia/en/thumb/6/62/PD-icon.svg/18px-PD-icon.svg.png 1.5x, //upload.wikimedia.org/wikipedia/en/thumb/6/62/PD-icon.svg/24px-PD-icon.svg.png 2x\" width=\"12\"/>\n",
      "//upload.wikimedia.org/wikipedia/en/thumb/6/62/PD-icon.svg/12px-PD-icon.svg.png\n",
      "<img alt=\"\" class=\"noviewer\" data-file-height=\"1376\" data-file-width=\"1024\" decoding=\"async\" height=\"40\" src=\"//upload.wikimedia.org/wikipedia/en/thumb/4/4a/Commons-logo.svg/30px-Commons-logo.svg.png\" srcset=\"//upload.wikimedia.org/wikipedia/en/thumb/4/4a/Commons-logo.svg/45px-Commons-logo.svg.png 1.5x, //upload.wikimedia.org/wikipedia/en/thumb/4/4a/Commons-logo.svg/59px-Commons-logo.svg.png 2x\" width=\"30\"/>\n",
      "//upload.wikimedia.org/wikipedia/en/thumb/4/4a/Commons-logo.svg/30px-Commons-logo.svg.png\n",
      "<img alt=\"\" class=\"noviewer\" data-file-height=\"1376\" data-file-width=\"1024\" decoding=\"async\" height=\"16\" src=\"//upload.wikimedia.org/wikipedia/en/thumb/4/4a/Commons-logo.svg/12px-Commons-logo.svg.png\" srcset=\"//upload.wikimedia.org/wikipedia/en/thumb/4/4a/Commons-logo.svg/18px-Commons-logo.svg.png 1.5x, //upload.wikimedia.org/wikipedia/en/thumb/4/4a/Commons-logo.svg/24px-Commons-logo.svg.png 2x\" title=\"Commons page\" width=\"12\"/>\n",
      "//upload.wikimedia.org/wikipedia/en/thumb/4/4a/Commons-logo.svg/12px-Commons-logo.svg.png\n",
      "<img alt=\"\" class=\"noviewer\" data-file-height=\"185\" data-file-width=\"180\" decoding=\"async\" height=\"16\" src=\"//upload.wikimedia.org/wikipedia/en/thumb/9/96/Symbol_category_class.svg/16px-Symbol_category_class.svg.png\" srcset=\"//upload.wikimedia.org/wikipedia/en/thumb/9/96/Symbol_category_class.svg/23px-Symbol_category_class.svg.png 1.5x, //upload.wikimedia.org/wikipedia/en/thumb/9/96/Symbol_category_class.svg/31px-Symbol_category_class.svg.png 2x\" title=\"Category\" width=\"16\"/>\n",
      "//upload.wikimedia.org/wikipedia/en/thumb/9/96/Symbol_category_class.svg/16px-Symbol_category_class.svg.png\n",
      "<img alt=\"\" class=\"noviewer\" data-file-height=\"1376\" data-file-width=\"1024\" decoding=\"async\" height=\"16\" src=\"//upload.wikimedia.org/wikipedia/en/thumb/4/4a/Commons-logo.svg/12px-Commons-logo.svg.png\" srcset=\"//upload.wikimedia.org/wikipedia/en/thumb/4/4a/Commons-logo.svg/18px-Commons-logo.svg.png 1.5x, //upload.wikimedia.org/wikipedia/en/thumb/4/4a/Commons-logo.svg/24px-Commons-logo.svg.png 2x\" title=\"Commons page\" width=\"12\"/>\n",
      "//upload.wikimedia.org/wikipedia/en/thumb/4/4a/Commons-logo.svg/12px-Commons-logo.svg.png\n",
      "<img alt=\"\" class=\"noviewer\" data-file-height=\"185\" data-file-width=\"180\" decoding=\"async\" height=\"16\" src=\"//upload.wikimedia.org/wikipedia/en/thumb/9/96/Symbol_category_class.svg/16px-Symbol_category_class.svg.png\" srcset=\"//upload.wikimedia.org/wikipedia/en/thumb/9/96/Symbol_category_class.svg/23px-Symbol_category_class.svg.png 1.5x, //upload.wikimedia.org/wikipedia/en/thumb/9/96/Symbol_category_class.svg/31px-Symbol_category_class.svg.png 2x\" title=\"Category\" width=\"16\"/>\n",
      "//upload.wikimedia.org/wikipedia/en/thumb/9/96/Symbol_category_class.svg/16px-Symbol_category_class.svg.png\n",
      "<img alt=\"\" class=\"noviewer\" data-file-height=\"200\" data-file-width=\"130\" decoding=\"async\" height=\"16\" src=\"//upload.wikimedia.org/wikipedia/commons/thumb/4/41/Global_thinking.svg/10px-Global_thinking.svg.png\" srcset=\"//upload.wikimedia.org/wikipedia/commons/thumb/4/41/Global_thinking.svg/15px-Global_thinking.svg.png 1.5x, //upload.wikimedia.org/wikipedia/commons/thumb/4/41/Global_thinking.svg/21px-Global_thinking.svg.png 2x\" title=\"Outline\" width=\"10\"/>\n",
      "//upload.wikimedia.org/wikipedia/commons/thumb/4/41/Global_thinking.svg/10px-Global_thinking.svg.png\n",
      "<img alt=\"\" class=\"noviewer\" data-file-height=\"185\" data-file-width=\"180\" decoding=\"async\" height=\"16\" src=\"//upload.wikimedia.org/wikipedia/en/thumb/9/96/Symbol_category_class.svg/16px-Symbol_category_class.svg.png\" srcset=\"//upload.wikimedia.org/wikipedia/en/thumb/9/96/Symbol_category_class.svg/23px-Symbol_category_class.svg.png 1.5x, //upload.wikimedia.org/wikipedia/en/thumb/9/96/Symbol_category_class.svg/31px-Symbol_category_class.svg.png 2x\" title=\"Category\" width=\"16\"/>\n",
      "//upload.wikimedia.org/wikipedia/en/thumb/9/96/Symbol_category_class.svg/16px-Symbol_category_class.svg.png\n",
      "<img alt=\"icon\" class=\"noviewer\" data-file-height=\"48\" data-file-width=\"48\" decoding=\"async\" height=\"28\" src=\"//upload.wikimedia.org/wikipedia/commons/thumb/f/f3/Emblem-money.svg/28px-Emblem-money.svg.png\" srcset=\"//upload.wikimedia.org/wikipedia/commons/thumb/f/f3/Emblem-money.svg/42px-Emblem-money.svg.png 1.5x, //upload.wikimedia.org/wikipedia/commons/thumb/f/f3/Emblem-money.svg/56px-Emblem-money.svg.png 2x\" width=\"28\"/>\n",
      "//upload.wikimedia.org/wikipedia/commons/thumb/f/f3/Emblem-money.svg/28px-Emblem-money.svg.png\n",
      "<img alt=\"\" data-file-height=\"3002\" data-file-width=\"3000\" decoding=\"async\" height=\"19\" src=\"//upload.wikimedia.org/wikipedia/commons/thumb/9/97/The_Earth_seen_from_Apollo_17.jpg/19px-The_Earth_seen_from_Apollo_17.jpg\" srcset=\"//upload.wikimedia.org/wikipedia/commons/thumb/9/97/The_Earth_seen_from_Apollo_17.jpg/29px-The_Earth_seen_from_Apollo_17.jpg 1.5x, //upload.wikimedia.org/wikipedia/commons/thumb/9/97/The_Earth_seen_from_Apollo_17.jpg/38px-The_Earth_seen_from_Apollo_17.jpg 2x\" width=\"19\"/>\n",
      "//upload.wikimedia.org/wikipedia/commons/thumb/9/97/The_Earth_seen_from_Apollo_17.jpg/19px-The_Earth_seen_from_Apollo_17.jpg\n",
      "<img alt=\"Edit this at Wikidata\" class=\"noprint\" data-file-height=\"20\" data-file-width=\"20\" decoding=\"async\" height=\"10\" src=\"//upload.wikimedia.org/wikipedia/en/thumb/8/8a/OOjs_UI_icon_edit-ltr-progressive.svg/10px-OOjs_UI_icon_edit-ltr-progressive.svg.png\" srcset=\"//upload.wikimedia.org/wikipedia/en/thumb/8/8a/OOjs_UI_icon_edit-ltr-progressive.svg/15px-OOjs_UI_icon_edit-ltr-progressive.svg.png 1.5x, //upload.wikimedia.org/wikipedia/en/thumb/8/8a/OOjs_UI_icon_edit-ltr-progressive.svg/20px-OOjs_UI_icon_edit-ltr-progressive.svg.png 2x\" style=\"vertical-align: text-top\" width=\"10\"/>\n",
      "//upload.wikimedia.org/wikipedia/en/thumb/8/8a/OOjs_UI_icon_edit-ltr-progressive.svg/10px-OOjs_UI_icon_edit-ltr-progressive.svg.png\n",
      "<img alt=\"\" height=\"1\" src=\"//en.wikipedia.org/wiki/Special:CentralAutoLogin/start?type=1x1\" style=\"border: none; position: absolute;\" title=\"\" width=\"1\"/>\n",
      "//en.wikipedia.org/wiki/Special:CentralAutoLogin/start?type=1x1\n",
      "<img alt=\"Wikimedia Foundation\" height=\"31\" loading=\"lazy\" src=\"/static/images/footer/wikimedia-button.png\" srcset=\"/static/images/footer/wikimedia-button-1.5x.png 1.5x, /static/images/footer/wikimedia-button-2x.png 2x\" width=\"88\"/>\n",
      "/static/images/footer/wikimedia-button.png\n",
      "<img alt=\"Powered by MediaWiki\" height=\"31\" loading=\"lazy\" src=\"/static/images/footer/poweredby_mediawiki_88x31.png\" srcset=\"/static/images/footer/poweredby_mediawiki_132x47.png 1.5x, /static/images/footer/poweredby_mediawiki_176x62.png 2x\" width=\"88\"/>\n",
      "/static/images/footer/poweredby_mediawiki_88x31.png\n"
     ]
    }
   ],
   "source": [
    "for link in soup.find_all('img'):# in html image is represented by the tag <img>\n",
    "    print(link)\n",
    "    print(link.get('src'))"
   ]
  },
  {
   "cell_type": "markdown",
   "metadata": {},
   "source": [
    "## Scrape data from HTML tables\n"
   ]
  },
  {
   "cell_type": "code",
   "execution_count": 91,
   "metadata": {},
   "outputs": [],
   "source": [
    "#The below url contains an html table with data about colors and color codes.\n",
    "url = \"https://cf-courses-data.s3.us.cloud-object-storage.appdomain.cloud/IBM-DA0321EN-SkillsNetwork/labs/datasets/HTMLColorCodes.html\""
   ]
  },
  {
   "cell_type": "markdown",
   "metadata": {},
   "source": [
    "Before proceeding to scrape a web site, you need to examine the contents, and the way data is organized on the website. Open the above url in your browser and check how many rows and columns are there in the color table.\n"
   ]
  },
  {
   "cell_type": "code",
   "execution_count": 92,
   "metadata": {},
   "outputs": [],
   "source": [
    "# get the contents of the webpage in text format and store in a variable called data\n",
    "data  = requests.get(url).text"
   ]
  },
  {
   "cell_type": "code",
   "execution_count": 93,
   "metadata": {},
   "outputs": [],
   "source": [
    "soup = BeautifulSoup(data,\"html.parser\")"
   ]
  },
  {
   "cell_type": "code",
   "execution_count": 94,
   "metadata": {},
   "outputs": [],
   "source": [
    "#find a html table in the web page\n",
    "table = soup.find('table') # in html table is represented by the tag <table>"
   ]
  },
  {
   "cell_type": "code",
   "execution_count": 95,
   "metadata": {},
   "outputs": [
    {
     "name": "stdout",
     "output_type": "stream",
     "text": [
      "Color Name--->None\n",
      "lightsalmon--->#FFA07A\n",
      "salmon--->#FA8072\n",
      "darksalmon--->#E9967A\n",
      "lightcoral--->#F08080\n",
      "coral--->#FF7F50\n",
      "tomato--->#FF6347\n",
      "orangered--->#FF4500\n",
      "gold--->#FFD700\n",
      "orange--->#FFA500\n",
      "darkorange--->#FF8C00\n",
      "lightyellow--->#FFFFE0\n",
      "lemonchiffon--->#FFFACD\n",
      "papayawhip--->#FFEFD5\n",
      "moccasin--->#FFE4B5\n",
      "peachpuff--->#FFDAB9\n",
      "palegoldenrod--->#EEE8AA\n",
      "khaki--->#F0E68C\n",
      "darkkhaki--->#BDB76B\n",
      "yellow--->#FFFF00\n",
      "lawngreen--->#7CFC00\n",
      "chartreuse--->#7FFF00\n",
      "limegreen--->#32CD32\n",
      "lime--->#00FF00\n",
      "forestgreen--->#228B22\n",
      "green--->#008000\n",
      "powderblue--->#B0E0E6\n",
      "lightblue--->#ADD8E6\n",
      "lightskyblue--->#87CEFA\n",
      "skyblue--->#87CEEB\n",
      "deepskyblue--->#00BFFF\n",
      "lightsteelblue--->#B0C4DE\n",
      "dodgerblue--->#1E90FF\n"
     ]
    }
   ],
   "source": [
    "#Get all rows from the table\n",
    "for row in table.find_all('tr'): # in html table row is represented by the tag <tr>\n",
    "    # Get all columns in each row.\n",
    "    cols = row.find_all('td') # in html a column is represented by the tag <td>\n",
    "    color_name = cols[2].string # store the value in column 3 as color_name\n",
    "    color_code = cols[3].string # store the value in column 4 as color_code\n",
    "    print(\"{}--->{}\".format(color_name,color_code))"
   ]
  },
  {
   "cell_type": "markdown",
   "metadata": {},
   "source": [
    "## Scrape data from HTML tables into a DataFrame using BeautifulSoup and Pandas\n"
   ]
  },
  {
   "cell_type": "code",
   "execution_count": 96,
   "metadata": {},
   "outputs": [],
   "source": [
    "import pandas as pd"
   ]
  },
  {
   "cell_type": "code",
   "execution_count": 97,
   "metadata": {},
   "outputs": [],
   "source": [
    "#The below url contains html tables with data about world population.\n",
    "url = \"https://en.wikipedia.org/wiki/World_population\""
   ]
  },
  {
   "cell_type": "markdown",
   "metadata": {},
   "source": [
    "Before proceeding to scrape a web site, you need to examine the contents, and the way data is organized on the website. Open the above url in your browser and check the tables on the webpage.\n"
   ]
  },
  {
   "cell_type": "code",
   "execution_count": 98,
   "metadata": {},
   "outputs": [],
   "source": [
    "# get the contents of the webpage in text format and store in a variable called data\n",
    "data  = requests.get(url).text"
   ]
  },
  {
   "cell_type": "code",
   "execution_count": 99,
   "metadata": {},
   "outputs": [],
   "source": [
    "soup = BeautifulSoup(data,\"html.parser\")"
   ]
  },
  {
   "cell_type": "code",
   "execution_count": 100,
   "metadata": {},
   "outputs": [],
   "source": [
    "#find all html tables in the web page\n",
    "tables = soup.find_all('table') # in html table is represented by the tag <table>"
   ]
  },
  {
   "cell_type": "code",
   "execution_count": 101,
   "metadata": {},
   "outputs": [
    {
     "data": {
      "text/plain": [
       "24"
      ]
     },
     "execution_count": 101,
     "metadata": {},
     "output_type": "execute_result"
    }
   ],
   "source": [
    "# we can see how many tables were found by checking the length of the tables list\n",
    "len(tables)"
   ]
  },
  {
   "cell_type": "markdown",
   "metadata": {},
   "source": [
    "Assume that we are looking for the `10 most densly populated countries` table, we can look through the tables list and find the right one we are look for based on the data in each table or we can search for the table name if it is in the table but this option might not always work.\n"
   ]
  },
  {
   "cell_type": "code",
   "execution_count": 102,
   "metadata": {},
   "outputs": [
    {
     "name": "stdout",
     "output_type": "stream",
     "text": [
      "4\n"
     ]
    }
   ],
   "source": [
    "for index,table in enumerate(tables):\n",
    "    if (\"10 most densely populated countries\" in str(table)):\n",
    "        table_index = index\n",
    "print(table_index)"
   ]
  },
  {
   "cell_type": "markdown",
   "metadata": {},
   "source": [
    "See if you can locate the table name of the table, `10 most densly populated countries`, below.\n"
   ]
  },
  {
   "cell_type": "code",
   "execution_count": 103,
   "metadata": {},
   "outputs": [
    {
     "name": "stdout",
     "output_type": "stream",
     "text": [
      "<table class=\"wikitable sortable\" style=\"text-align:right\">\n",
      " <caption>\n",
      "  10 most densely populated countries\n",
      "  <small>\n",
      "   (with population above 5 million)\n",
      "  </small>\n",
      "  <sup class=\"reference\" id=\"cite_ref-:10_107-0\">\n",
      "   <a href=\"#cite_note-:10-107\">\n",
      "    [102]\n",
      "   </a>\n",
      "  </sup>\n",
      " </caption>\n",
      " <tbody>\n",
      "  <tr>\n",
      "   <th scope=\"col\">\n",
      "    Rank\n",
      "   </th>\n",
      "   <th scope=\"col\">\n",
      "    Country\n",
      "   </th>\n",
      "   <th scope=\"col\">\n",
      "    Population\n",
      "   </th>\n",
      "   <th scope=\"col\">\n",
      "    Area\n",
      "    <br/>\n",
      "    <small>\n",
      "     (km\n",
      "     <sup>\n",
      "      2\n",
      "     </sup>\n",
      "     )\n",
      "    </small>\n",
      "   </th>\n",
      "   <th scope=\"col\">\n",
      "    Density\n",
      "    <br/>\n",
      "    <small>\n",
      "     (pop/km\n",
      "     <sup>\n",
      "      2\n",
      "     </sup>\n",
      "     )\n",
      "    </small>\n",
      "   </th>\n",
      "  </tr>\n",
      "  <tr>\n",
      "   <td>\n",
      "    1\n",
      "   </td>\n",
      "   <td align=\"left\">\n",
      "    <span class=\"flagicon\">\n",
      "     <img alt=\"\" class=\"thumbborder\" data-file-height=\"600\" data-file-width=\"900\" decoding=\"async\" height=\"15\" src=\"//upload.wikimedia.org/wikipedia/commons/thumb/4/48/Flag_of_Singapore.svg/23px-Flag_of_Singapore.svg.png\" srcset=\"//upload.wikimedia.org/wikipedia/commons/thumb/4/48/Flag_of_Singapore.svg/35px-Flag_of_Singapore.svg.png 1.5x, //upload.wikimedia.org/wikipedia/commons/thumb/4/48/Flag_of_Singapore.svg/45px-Flag_of_Singapore.svg.png 2x\" width=\"23\"/>\n",
      "    </span>\n",
      "    <a href=\"/wiki/Singapore\" title=\"Singapore\">\n",
      "     Singapore\n",
      "    </a>\n",
      "   </td>\n",
      "   <td>\n",
      "    5,921,231\n",
      "   </td>\n",
      "   <td>\n",
      "    719\n",
      "   </td>\n",
      "   <td>\n",
      "    8,235\n",
      "   </td>\n",
      "  </tr>\n",
      "  <tr>\n",
      "   <td>\n",
      "    2\n",
      "   </td>\n",
      "   <td align=\"left\">\n",
      "    <span class=\"flagicon\">\n",
      "     <img alt=\"\" class=\"thumbborder\" data-file-height=\"600\" data-file-width=\"1000\" decoding=\"async\" height=\"14\" src=\"//upload.wikimedia.org/wikipedia/commons/thumb/f/f9/Flag_of_Bangladesh.svg/23px-Flag_of_Bangladesh.svg.png\" srcset=\"//upload.wikimedia.org/wikipedia/commons/thumb/f/f9/Flag_of_Bangladesh.svg/35px-Flag_of_Bangladesh.svg.png 1.5x, //upload.wikimedia.org/wikipedia/commons/thumb/f/f9/Flag_of_Bangladesh.svg/46px-Flag_of_Bangladesh.svg.png 2x\" width=\"23\"/>\n",
      "    </span>\n",
      "    <a href=\"/wiki/Bangladesh\" title=\"Bangladesh\">\n",
      "     Bangladesh\n",
      "    </a>\n",
      "   </td>\n",
      "   <td>\n",
      "    165,650,475\n",
      "   </td>\n",
      "   <td>\n",
      "    148,460\n",
      "   </td>\n",
      "   <td>\n",
      "    1,116\n",
      "   </td>\n",
      "  </tr>\n",
      "  <tr>\n",
      "   <td>\n",
      "    3\n",
      "   </td>\n",
      "   <td align=\"left\">\n",
      "    <p>\n",
      "     <span class=\"flagicon\">\n",
      "      <img alt=\"\" class=\"thumbborder\" data-file-height=\"216\" data-file-width=\"432\" decoding=\"async\" height=\"12\" src=\"//upload.wikimedia.org/wikipedia/commons/thumb/0/00/Flag_of_Palestine.svg/23px-Flag_of_Palestine.svg.png\" srcset=\"//upload.wikimedia.org/wikipedia/commons/thumb/0/00/Flag_of_Palestine.svg/35px-Flag_of_Palestine.svg.png 1.5x, //upload.wikimedia.org/wikipedia/commons/thumb/0/00/Flag_of_Palestine.svg/46px-Flag_of_Palestine.svg.png 2x\" width=\"23\"/>\n",
      "     </span>\n",
      "     <a href=\"/wiki/State_of_Palestine\" title=\"State of Palestine\">\n",
      "      Palestine\n",
      "     </a>\n",
      "     <sup class=\"reference\" id=\"cite_ref-108\">\n",
      "      <a href=\"#cite_note-108\">\n",
      "       [103]\n",
      "      </a>\n",
      "     </sup>\n",
      "    </p>\n",
      "   </td>\n",
      "   <td>\n",
      "    5,223,000\n",
      "   </td>\n",
      "   <td>\n",
      "    6,025\n",
      "   </td>\n",
      "   <td>\n",
      "    867\n",
      "   </td>\n",
      "  </tr>\n",
      "  <tr>\n",
      "   <td>\n",
      "    4\n",
      "   </td>\n",
      "   <td align=\"left\">\n",
      "    <span class=\"flagicon\">\n",
      "     <img alt=\"\" class=\"thumbborder\" data-file-height=\"600\" data-file-width=\"900\" decoding=\"async\" height=\"15\" src=\"//upload.wikimedia.org/wikipedia/commons/thumb/5/59/Flag_of_Lebanon.svg/23px-Flag_of_Lebanon.svg.png\" srcset=\"//upload.wikimedia.org/wikipedia/commons/thumb/5/59/Flag_of_Lebanon.svg/35px-Flag_of_Lebanon.svg.png 1.5x, //upload.wikimedia.org/wikipedia/commons/thumb/5/59/Flag_of_Lebanon.svg/45px-Flag_of_Lebanon.svg.png 2x\" width=\"23\"/>\n",
      "    </span>\n",
      "    <a href=\"/wiki/Lebanon\" title=\"Lebanon\">\n",
      "     Lebanon\n",
      "    </a>\n",
      "   </td>\n",
      "   <td>\n",
      "    5,296,814\n",
      "   </td>\n",
      "   <td>\n",
      "    10,400\n",
      "   </td>\n",
      "   <td>\n",
      "    509\n",
      "   </td>\n",
      "  </tr>\n",
      "  <tr>\n",
      "   <td>\n",
      "    5\n",
      "   </td>\n",
      "   <td align=\"left\">\n",
      "    <span class=\"flagicon\">\n",
      "     <img alt=\"\" class=\"thumbborder\" data-file-height=\"600\" data-file-width=\"900\" decoding=\"async\" height=\"15\" src=\"//upload.wikimedia.org/wikipedia/commons/thumb/7/72/Flag_of_the_Republic_of_China.svg/23px-Flag_of_the_Republic_of_China.svg.png\" srcset=\"//upload.wikimedia.org/wikipedia/commons/thumb/7/72/Flag_of_the_Republic_of_China.svg/35px-Flag_of_the_Republic_of_China.svg.png 1.5x, //upload.wikimedia.org/wikipedia/commons/thumb/7/72/Flag_of_the_Republic_of_China.svg/45px-Flag_of_the_Republic_of_China.svg.png 2x\" width=\"23\"/>\n",
      "    </span>\n",
      "    <a href=\"/wiki/Taiwan\" title=\"Taiwan\">\n",
      "     Taiwan\n",
      "    </a>\n",
      "   </td>\n",
      "   <td>\n",
      "    23,580,712\n",
      "   </td>\n",
      "   <td>\n",
      "    35,980\n",
      "   </td>\n",
      "   <td>\n",
      "    655\n",
      "   </td>\n",
      "  </tr>\n",
      "  <tr>\n",
      "   <td>\n",
      "    6\n",
      "   </td>\n",
      "   <td align=\"left\">\n",
      "    <span class=\"flagicon\">\n",
      "     <img alt=\"\" class=\"thumbborder\" data-file-height=\"600\" data-file-width=\"900\" decoding=\"async\" height=\"15\" src=\"//upload.wikimedia.org/wikipedia/commons/thumb/0/09/Flag_of_South_Korea.svg/23px-Flag_of_South_Korea.svg.png\" srcset=\"//upload.wikimedia.org/wikipedia/commons/thumb/0/09/Flag_of_South_Korea.svg/35px-Flag_of_South_Korea.svg.png 1.5x, //upload.wikimedia.org/wikipedia/commons/thumb/0/09/Flag_of_South_Korea.svg/45px-Flag_of_South_Korea.svg.png 2x\" width=\"23\"/>\n",
      "    </span>\n",
      "    <a href=\"/wiki/South_Korea\" title=\"South Korea\">\n",
      "     South Korea\n",
      "    </a>\n",
      "   </td>\n",
      "   <td>\n",
      "    51,844,834\n",
      "   </td>\n",
      "   <td>\n",
      "    99,720\n",
      "   </td>\n",
      "   <td>\n",
      "    520\n",
      "   </td>\n",
      "  </tr>\n",
      "  <tr>\n",
      "   <td>\n",
      "    7\n",
      "   </td>\n",
      "   <td align=\"left\">\n",
      "    <span class=\"flagicon\">\n",
      "     <img alt=\"\" class=\"thumbborder\" data-file-height=\"720\" data-file-width=\"1080\" decoding=\"async\" height=\"15\" src=\"//upload.wikimedia.org/wikipedia/commons/thumb/1/17/Flag_of_Rwanda.svg/23px-Flag_of_Rwanda.svg.png\" srcset=\"//upload.wikimedia.org/wikipedia/commons/thumb/1/17/Flag_of_Rwanda.svg/35px-Flag_of_Rwanda.svg.png 1.5x, //upload.wikimedia.org/wikipedia/commons/thumb/1/17/Flag_of_Rwanda.svg/45px-Flag_of_Rwanda.svg.png 2x\" width=\"23\"/>\n",
      "    </span>\n",
      "    <a href=\"/wiki/Rwanda\" title=\"Rwanda\">\n",
      "     Rwanda\n",
      "    </a>\n",
      "   </td>\n",
      "   <td>\n",
      "    13,173,730\n",
      "   </td>\n",
      "   <td>\n",
      "    26,338\n",
      "   </td>\n",
      "   <td>\n",
      "    500\n",
      "   </td>\n",
      "  </tr>\n",
      "  <tr>\n",
      "   <td>\n",
      "    8\n",
      "   </td>\n",
      "   <td align=\"left\">\n",
      "    <span class=\"flagicon\">\n",
      "     <img alt=\"\" class=\"thumbborder\" data-file-height=\"800\" data-file-width=\"1100\" decoding=\"async\" height=\"15\" src=\"//upload.wikimedia.org/wikipedia/commons/thumb/d/d4/Flag_of_Israel.svg/21px-Flag_of_Israel.svg.png\" srcset=\"//upload.wikimedia.org/wikipedia/commons/thumb/d/d4/Flag_of_Israel.svg/32px-Flag_of_Israel.svg.png 1.5x, //upload.wikimedia.org/wikipedia/commons/thumb/d/d4/Flag_of_Israel.svg/41px-Flag_of_Israel.svg.png 2x\" width=\"21\"/>\n",
      "    </span>\n",
      "    <a href=\"/wiki/Israel\" title=\"Israel\">\n",
      "     Israel\n",
      "    </a>\n",
      "   </td>\n",
      "   <td>\n",
      "    8,914,885\n",
      "   </td>\n",
      "   <td>\n",
      "    21,937\n",
      "   </td>\n",
      "   <td>\n",
      "    406\n",
      "   </td>\n",
      "  </tr>\n",
      "  <tr>\n",
      "   <td>\n",
      "    9\n",
      "   </td>\n",
      "   <td align=\"left\">\n",
      "    <span class=\"flagicon\">\n",
      "     <img alt=\"\" class=\"thumbborder\" data-file-height=\"600\" data-file-width=\"1000\" decoding=\"async\" height=\"14\" src=\"//upload.wikimedia.org/wikipedia/commons/thumb/5/56/Flag_of_Haiti.svg/23px-Flag_of_Haiti.svg.png\" srcset=\"//upload.wikimedia.org/wikipedia/commons/thumb/5/56/Flag_of_Haiti.svg/35px-Flag_of_Haiti.svg.png 1.5x, //upload.wikimedia.org/wikipedia/commons/thumb/5/56/Flag_of_Haiti.svg/46px-Flag_of_Haiti.svg.png 2x\" width=\"23\"/>\n",
      "    </span>\n",
      "    <a href=\"/wiki/Haiti\" title=\"Haiti\">\n",
      "     Haiti\n",
      "    </a>\n",
      "   </td>\n",
      "   <td>\n",
      "    11,334,637\n",
      "   </td>\n",
      "   <td>\n",
      "    27,750\n",
      "   </td>\n",
      "   <td>\n",
      "    408\n",
      "   </td>\n",
      "  </tr>\n",
      "  <tr>\n",
      "   <td>\n",
      "    10\n",
      "   </td>\n",
      "   <td align=\"left\">\n",
      "    <span class=\"flagicon\">\n",
      "     <img alt=\"\" class=\"thumbborder\" data-file-height=\"600\" data-file-width=\"900\" decoding=\"async\" height=\"15\" src=\"//upload.wikimedia.org/wikipedia/commons/thumb/2/20/Flag_of_the_Netherlands.svg/23px-Flag_of_the_Netherlands.svg.png\" srcset=\"//upload.wikimedia.org/wikipedia/commons/thumb/2/20/Flag_of_the_Netherlands.svg/35px-Flag_of_the_Netherlands.svg.png 1.5x, //upload.wikimedia.org/wikipedia/commons/thumb/2/20/Flag_of_the_Netherlands.svg/45px-Flag_of_the_Netherlands.svg.png 2x\" width=\"23\"/>\n",
      "    </span>\n",
      "    <a href=\"/wiki/Netherlands\" title=\"Netherlands\">\n",
      "     Netherlands\n",
      "    </a>\n",
      "   </td>\n",
      "   <td>\n",
      "    17,400,824\n",
      "   </td>\n",
      "   <td>\n",
      "    41,543\n",
      "   </td>\n",
      "   <td>\n",
      "    419\n",
      "   </td>\n",
      "  </tr>\n",
      " </tbody>\n",
      "</table>\n",
      "\n"
     ]
    }
   ],
   "source": [
    "print(tables[table_index].prettify())"
   ]
  },
  {
   "cell_type": "code",
   "execution_count": 107,
   "metadata": {},
   "outputs": [
    {
     "data": {
      "text/plain": [
       "'population_data = pd.DataFrame(columns=[\"Rank\", \"Country\", \"Population\", \"Area\", \"Density\"])\\n\\nfor row in tables[table_index].tbody.find_all(\"tr\"):\\n    col = row.find_all(\"td\")\\n    if (col != []):\\n        rank = col[0].text\\n        country = col[1].text\\n        population = col[2].text.strip()\\n        area = col[3].text.strip()\\n        density = col[4].text.strip()\\n        population_data = population_data.append({\"Rank\":rank, \"Country\":country, \"Population\":population, \"Area\":area, \"Density\":density}, ignore_index=True)\\n\\npopulation_data'"
      ]
     },
     "execution_count": 107,
     "metadata": {},
     "output_type": "execute_result"
    }
   ],
   "source": [
    "\"\"\"population_data = pd.DataFrame(columns=[\"Rank\", \"Country\", \"Population\", \"Area\", \"Density\"])\n",
    "\n",
    "for row in tables[table_index].tbody.find_all(\"tr\"):\n",
    "    col = row.find_all(\"td\")\n",
    "    if (col != []):\n",
    "        rank = col[0].text\n",
    "        country = col[1].text\n",
    "        population = col[2].text.strip()\n",
    "        area = col[3].text.strip()\n",
    "        density = col[4].text.strip()\n",
    "        population_data = population_data.append({\"Rank\":rank, \"Country\":country, \"Population\":population, \"Area\":area, \"Density\":density}, ignore_index=True)\n",
    "\n",
    "population_data\"\"\""
   ]
  },
  {
   "cell_type": "markdown",
   "metadata": {},
   "source": [
    "## Scrape data from HTML tables into a DataFrame using BeautifulSoup and read_html\n"
   ]
  },
  {
   "cell_type": "markdown",
   "metadata": {},
   "source": [
    "Using the same `url`, `data`, `soup`, and `tables` object as in the last section we can use the `read_html` function to create a DataFrame.\n",
    "\n",
    "Remember the table we need is located in `tables[table_index]`\n",
    "\n",
    "We can now use the `pandas` function `read_html` and give it the string version of the table as well as the `flavor` which is the parsing engine `bs4`.\n"
   ]
  },
  {
   "cell_type": "code",
   "execution_count": 109,
   "metadata": {},
   "outputs": [
    {
     "data": {
      "text/plain": [
       "[   Rank         Country  Population  Area(km2)  Density(pop/km2)  \\\n",
       " 0     1           India  1389637446    3287263               423   \n",
       " 1     2        Pakistan   242923845     796095               305   \n",
       " 2     3      Bangladesh   165650475     148460              1116   \n",
       " 3     4           Japan   124214766     377915               329   \n",
       " 4     5     Philippines   114597229     300000               382   \n",
       " 5     6         Vietnam   103808319     331210               313   \n",
       " 6     7  United Kingdom    67791400     243610               278   \n",
       " 7     8     South Korea    51844834      99720               520   \n",
       " 8     9          Taiwan    23580712      35980               655   \n",
       " 9    10       Sri Lanka    23187516      65610               353   \n",
       " \n",
       "   Population trend[citation needed]  \n",
       " 0                           Growing  \n",
       " 1                   Rapidly growing  \n",
       " 2                   Rapidly growing  \n",
       " 3                    Declining[104]  \n",
       " 4                           Growing  \n",
       " 5                           Growing  \n",
       " 6                           Growing  \n",
       " 7                            Steady  \n",
       " 8                            Steady  \n",
       " 9                           Growing  ]"
      ]
     },
     "execution_count": 109,
     "metadata": {},
     "output_type": "execute_result"
    }
   ],
   "source": [
    "pd.read_html(str(tables[5]), flavor='bs4')"
   ]
  },
  {
   "cell_type": "markdown",
   "metadata": {},
   "source": [
    "The function `read_html` always returns a list of DataFrames so we must pick the one we want out of the list.\n"
   ]
  },
  {
   "cell_type": "code",
   "execution_count": 114,
   "metadata": {},
   "outputs": [
    {
     "data": {
      "text/html": [
       "<div>\n",
       "<style scoped>\n",
       "    .dataframe tbody tr th:only-of-type {\n",
       "        vertical-align: middle;\n",
       "    }\n",
       "\n",
       "    .dataframe tbody tr th {\n",
       "        vertical-align: top;\n",
       "    }\n",
       "\n",
       "    .dataframe thead th {\n",
       "        text-align: right;\n",
       "    }\n",
       "</style>\n",
       "<table border=\"1\" class=\"dataframe\">\n",
       "  <thead>\n",
       "    <tr style=\"text-align: right;\">\n",
       "      <th></th>\n",
       "      <th>Rank</th>\n",
       "      <th>Country</th>\n",
       "      <th>Population</th>\n",
       "      <th>Area(km2)</th>\n",
       "      <th>Density(pop/km2)</th>\n",
       "      <th>Population trend[citation needed]</th>\n",
       "    </tr>\n",
       "  </thead>\n",
       "  <tbody>\n",
       "    <tr>\n",
       "      <th>0</th>\n",
       "      <td>1</td>\n",
       "      <td>India</td>\n",
       "      <td>1389637446</td>\n",
       "      <td>3287263</td>\n",
       "      <td>423</td>\n",
       "      <td>Growing</td>\n",
       "    </tr>\n",
       "    <tr>\n",
       "      <th>1</th>\n",
       "      <td>2</td>\n",
       "      <td>Pakistan</td>\n",
       "      <td>242923845</td>\n",
       "      <td>796095</td>\n",
       "      <td>305</td>\n",
       "      <td>Rapidly growing</td>\n",
       "    </tr>\n",
       "    <tr>\n",
       "      <th>2</th>\n",
       "      <td>3</td>\n",
       "      <td>Bangladesh</td>\n",
       "      <td>165650475</td>\n",
       "      <td>148460</td>\n",
       "      <td>1116</td>\n",
       "      <td>Rapidly growing</td>\n",
       "    </tr>\n",
       "    <tr>\n",
       "      <th>3</th>\n",
       "      <td>4</td>\n",
       "      <td>Japan</td>\n",
       "      <td>124214766</td>\n",
       "      <td>377915</td>\n",
       "      <td>329</td>\n",
       "      <td>Declining[104]</td>\n",
       "    </tr>\n",
       "    <tr>\n",
       "      <th>4</th>\n",
       "      <td>5</td>\n",
       "      <td>Philippines</td>\n",
       "      <td>114597229</td>\n",
       "      <td>300000</td>\n",
       "      <td>382</td>\n",
       "      <td>Growing</td>\n",
       "    </tr>\n",
       "    <tr>\n",
       "      <th>5</th>\n",
       "      <td>6</td>\n",
       "      <td>Vietnam</td>\n",
       "      <td>103808319</td>\n",
       "      <td>331210</td>\n",
       "      <td>313</td>\n",
       "      <td>Growing</td>\n",
       "    </tr>\n",
       "    <tr>\n",
       "      <th>6</th>\n",
       "      <td>7</td>\n",
       "      <td>United Kingdom</td>\n",
       "      <td>67791400</td>\n",
       "      <td>243610</td>\n",
       "      <td>278</td>\n",
       "      <td>Growing</td>\n",
       "    </tr>\n",
       "    <tr>\n",
       "      <th>7</th>\n",
       "      <td>8</td>\n",
       "      <td>South Korea</td>\n",
       "      <td>51844834</td>\n",
       "      <td>99720</td>\n",
       "      <td>520</td>\n",
       "      <td>Steady</td>\n",
       "    </tr>\n",
       "    <tr>\n",
       "      <th>8</th>\n",
       "      <td>9</td>\n",
       "      <td>Taiwan</td>\n",
       "      <td>23580712</td>\n",
       "      <td>35980</td>\n",
       "      <td>655</td>\n",
       "      <td>Steady</td>\n",
       "    </tr>\n",
       "    <tr>\n",
       "      <th>9</th>\n",
       "      <td>10</td>\n",
       "      <td>Sri Lanka</td>\n",
       "      <td>23187516</td>\n",
       "      <td>65610</td>\n",
       "      <td>353</td>\n",
       "      <td>Growing</td>\n",
       "    </tr>\n",
       "  </tbody>\n",
       "</table>\n",
       "</div>"
      ],
      "text/plain": [
       "   Rank         Country  Population  Area(km2)  Density(pop/km2)  \\\n",
       "0     1           India  1389637446    3287263               423   \n",
       "1     2        Pakistan   242923845     796095               305   \n",
       "2     3      Bangladesh   165650475     148460              1116   \n",
       "3     4           Japan   124214766     377915               329   \n",
       "4     5     Philippines   114597229     300000               382   \n",
       "5     6         Vietnam   103808319     331210               313   \n",
       "6     7  United Kingdom    67791400     243610               278   \n",
       "7     8     South Korea    51844834      99720               520   \n",
       "8     9          Taiwan    23580712      35980               655   \n",
       "9    10       Sri Lanka    23187516      65610               353   \n",
       "\n",
       "  Population trend[citation needed]  \n",
       "0                           Growing  \n",
       "1                   Rapidly growing  \n",
       "2                   Rapidly growing  \n",
       "3                    Declining[104]  \n",
       "4                           Growing  \n",
       "5                           Growing  \n",
       "6                           Growing  \n",
       "7                            Steady  \n",
       "8                            Steady  \n",
       "9                           Growing  "
      ]
     },
     "execution_count": 114,
     "metadata": {},
     "output_type": "execute_result"
    }
   ],
   "source": [
    "population_data_read_html = pd.read_html(str(tables[5]), flavor='bs4')[0]#[0] gives the table format\n",
    "\n",
    "population_data_read_html"
   ]
  },
  {
   "cell_type": "markdown",
   "metadata": {},
   "source": [
    "### Scrape data from HTML tables into a DataFrame using read_html\n"
   ]
  },
  {
   "cell_type": "markdown",
   "metadata": {},
   "source": [
    "We can also use the `read_html` function to directly get DataFrames from a `url`.\n"
   ]
  },
  {
   "cell_type": "code",
   "execution_count": 118,
   "metadata": {},
   "outputs": [],
   "source": [
    "dataframe_list = pd.read_html(url, flavor='bs4')"
   ]
  },
  {
   "cell_type": "markdown",
   "metadata": {},
   "source": [
    "We can see there are 25 DataFrames just like when we used `find_all` on the `soup` object.\n"
   ]
  },
  {
   "cell_type": "code",
   "execution_count": 116,
   "metadata": {},
   "outputs": [
    {
     "data": {
      "text/plain": [
       "24"
      ]
     },
     "execution_count": 116,
     "metadata": {},
     "output_type": "execute_result"
    }
   ],
   "source": [
    "len(dataframe_list)"
   ]
  },
  {
   "cell_type": "markdown",
   "metadata": {},
   "source": [
    "Finally we can pick the DataFrame we need out of the list.\n"
   ]
  },
  {
   "cell_type": "code",
   "execution_count": 117,
   "metadata": {},
   "outputs": [
    {
     "data": {
      "text/html": [
       "<div>\n",
       "<style scoped>\n",
       "    .dataframe tbody tr th:only-of-type {\n",
       "        vertical-align: middle;\n",
       "    }\n",
       "\n",
       "    .dataframe tbody tr th {\n",
       "        vertical-align: top;\n",
       "    }\n",
       "\n",
       "    .dataframe thead th {\n",
       "        text-align: right;\n",
       "    }\n",
       "</style>\n",
       "<table border=\"1\" class=\"dataframe\">\n",
       "  <thead>\n",
       "    <tr style=\"text-align: right;\">\n",
       "      <th></th>\n",
       "      <th>Rank</th>\n",
       "      <th>Country</th>\n",
       "      <th>Population</th>\n",
       "      <th>Area(km2)</th>\n",
       "      <th>Density(pop/km2)</th>\n",
       "      <th>Population trend[citation needed]</th>\n",
       "    </tr>\n",
       "  </thead>\n",
       "  <tbody>\n",
       "    <tr>\n",
       "      <th>0</th>\n",
       "      <td>1</td>\n",
       "      <td>India</td>\n",
       "      <td>1389637446</td>\n",
       "      <td>3287263</td>\n",
       "      <td>423</td>\n",
       "      <td>Growing</td>\n",
       "    </tr>\n",
       "    <tr>\n",
       "      <th>1</th>\n",
       "      <td>2</td>\n",
       "      <td>Pakistan</td>\n",
       "      <td>242923845</td>\n",
       "      <td>796095</td>\n",
       "      <td>305</td>\n",
       "      <td>Rapidly growing</td>\n",
       "    </tr>\n",
       "    <tr>\n",
       "      <th>2</th>\n",
       "      <td>3</td>\n",
       "      <td>Bangladesh</td>\n",
       "      <td>165650475</td>\n",
       "      <td>148460</td>\n",
       "      <td>1116</td>\n",
       "      <td>Rapidly growing</td>\n",
       "    </tr>\n",
       "    <tr>\n",
       "      <th>3</th>\n",
       "      <td>4</td>\n",
       "      <td>Japan</td>\n",
       "      <td>124214766</td>\n",
       "      <td>377915</td>\n",
       "      <td>329</td>\n",
       "      <td>Declining[104]</td>\n",
       "    </tr>\n",
       "    <tr>\n",
       "      <th>4</th>\n",
       "      <td>5</td>\n",
       "      <td>Philippines</td>\n",
       "      <td>114597229</td>\n",
       "      <td>300000</td>\n",
       "      <td>382</td>\n",
       "      <td>Growing</td>\n",
       "    </tr>\n",
       "    <tr>\n",
       "      <th>5</th>\n",
       "      <td>6</td>\n",
       "      <td>Vietnam</td>\n",
       "      <td>103808319</td>\n",
       "      <td>331210</td>\n",
       "      <td>313</td>\n",
       "      <td>Growing</td>\n",
       "    </tr>\n",
       "    <tr>\n",
       "      <th>6</th>\n",
       "      <td>7</td>\n",
       "      <td>United Kingdom</td>\n",
       "      <td>67791400</td>\n",
       "      <td>243610</td>\n",
       "      <td>278</td>\n",
       "      <td>Growing</td>\n",
       "    </tr>\n",
       "    <tr>\n",
       "      <th>7</th>\n",
       "      <td>8</td>\n",
       "      <td>South Korea</td>\n",
       "      <td>51844834</td>\n",
       "      <td>99720</td>\n",
       "      <td>520</td>\n",
       "      <td>Steady</td>\n",
       "    </tr>\n",
       "    <tr>\n",
       "      <th>8</th>\n",
       "      <td>9</td>\n",
       "      <td>Taiwan</td>\n",
       "      <td>23580712</td>\n",
       "      <td>35980</td>\n",
       "      <td>655</td>\n",
       "      <td>Steady</td>\n",
       "    </tr>\n",
       "    <tr>\n",
       "      <th>9</th>\n",
       "      <td>10</td>\n",
       "      <td>Sri Lanka</td>\n",
       "      <td>23187516</td>\n",
       "      <td>65610</td>\n",
       "      <td>353</td>\n",
       "      <td>Growing</td>\n",
       "    </tr>\n",
       "  </tbody>\n",
       "</table>\n",
       "</div>"
      ],
      "text/plain": [
       "   Rank         Country  Population  Area(km2)  Density(pop/km2)  \\\n",
       "0     1           India  1389637446    3287263               423   \n",
       "1     2        Pakistan   242923845     796095               305   \n",
       "2     3      Bangladesh   165650475     148460              1116   \n",
       "3     4           Japan   124214766     377915               329   \n",
       "4     5     Philippines   114597229     300000               382   \n",
       "5     6         Vietnam   103808319     331210               313   \n",
       "6     7  United Kingdom    67791400     243610               278   \n",
       "7     8     South Korea    51844834      99720               520   \n",
       "8     9          Taiwan    23580712      35980               655   \n",
       "9    10       Sri Lanka    23187516      65610               353   \n",
       "\n",
       "  Population trend[citation needed]  \n",
       "0                           Growing  \n",
       "1                   Rapidly growing  \n",
       "2                   Rapidly growing  \n",
       "3                    Declining[104]  \n",
       "4                           Growing  \n",
       "5                           Growing  \n",
       "6                           Growing  \n",
       "7                            Steady  \n",
       "8                            Steady  \n",
       "9                           Growing  "
      ]
     },
     "execution_count": 117,
     "metadata": {},
     "output_type": "execute_result"
    }
   ],
   "source": [
    "dataframe_list[5]"
   ]
  },
  {
   "cell_type": "markdown",
   "metadata": {},
   "source": [
    "We can also use the `match` parameter to select the specific table we want. If the table contains a string matching the text it will be read.\n"
   ]
  },
  {
   "cell_type": "code",
   "execution_count": 64,
   "metadata": {},
   "outputs": [
    {
     "data": {
      "text/html": [
       "<div>\n",
       "<style scoped>\n",
       "    .dataframe tbody tr th:only-of-type {\n",
       "        vertical-align: middle;\n",
       "    }\n",
       "\n",
       "    .dataframe tbody tr th {\n",
       "        vertical-align: top;\n",
       "    }\n",
       "\n",
       "    .dataframe thead th {\n",
       "        text-align: right;\n",
       "    }\n",
       "</style>\n",
       "<table border=\"1\" class=\"dataframe\">\n",
       "  <thead>\n",
       "    <tr style=\"text-align: right;\">\n",
       "      <th></th>\n",
       "      <th>Rank</th>\n",
       "      <th>Country</th>\n",
       "      <th>Population</th>\n",
       "      <th>Area(km2)</th>\n",
       "      <th>Density(pop/km2)</th>\n",
       "    </tr>\n",
       "  </thead>\n",
       "  <tbody>\n",
       "    <tr>\n",
       "      <th>0</th>\n",
       "      <td>1</td>\n",
       "      <td>Singapore</td>\n",
       "      <td>5704000</td>\n",
       "      <td>710</td>\n",
       "      <td>8033</td>\n",
       "    </tr>\n",
       "    <tr>\n",
       "      <th>1</th>\n",
       "      <td>2</td>\n",
       "      <td>Bangladesh</td>\n",
       "      <td>171670000</td>\n",
       "      <td>143998</td>\n",
       "      <td>1192</td>\n",
       "    </tr>\n",
       "    <tr>\n",
       "      <th>2</th>\n",
       "      <td>3</td>\n",
       "      <td>Palestine</td>\n",
       "      <td>5266785</td>\n",
       "      <td>6020</td>\n",
       "      <td>847</td>\n",
       "    </tr>\n",
       "    <tr>\n",
       "      <th>3</th>\n",
       "      <td>4</td>\n",
       "      <td>Lebanon</td>\n",
       "      <td>6856000</td>\n",
       "      <td>10452</td>\n",
       "      <td>656</td>\n",
       "    </tr>\n",
       "    <tr>\n",
       "      <th>4</th>\n",
       "      <td>5</td>\n",
       "      <td>Taiwan</td>\n",
       "      <td>23604000</td>\n",
       "      <td>36193</td>\n",
       "      <td>652</td>\n",
       "    </tr>\n",
       "    <tr>\n",
       "      <th>5</th>\n",
       "      <td>6</td>\n",
       "      <td>South Korea</td>\n",
       "      <td>51781000</td>\n",
       "      <td>99538</td>\n",
       "      <td>520</td>\n",
       "    </tr>\n",
       "    <tr>\n",
       "      <th>6</th>\n",
       "      <td>7</td>\n",
       "      <td>Rwanda</td>\n",
       "      <td>12374000</td>\n",
       "      <td>26338</td>\n",
       "      <td>470</td>\n",
       "    </tr>\n",
       "    <tr>\n",
       "      <th>7</th>\n",
       "      <td>8</td>\n",
       "      <td>Haiti</td>\n",
       "      <td>11578000</td>\n",
       "      <td>27065</td>\n",
       "      <td>428</td>\n",
       "    </tr>\n",
       "    <tr>\n",
       "      <th>8</th>\n",
       "      <td>9</td>\n",
       "      <td>Netherlands</td>\n",
       "      <td>17660000</td>\n",
       "      <td>41526</td>\n",
       "      <td>425</td>\n",
       "    </tr>\n",
       "    <tr>\n",
       "      <th>9</th>\n",
       "      <td>10</td>\n",
       "      <td>Israel</td>\n",
       "      <td>9430000</td>\n",
       "      <td>22072</td>\n",
       "      <td>427</td>\n",
       "    </tr>\n",
       "  </tbody>\n",
       "</table>\n",
       "</div>"
      ],
      "text/plain": [
       "   Rank      Country  Population  Area(km2)  Density(pop/km2)\n",
       "0     1    Singapore     5704000        710              8033\n",
       "1     2   Bangladesh   171670000     143998              1192\n",
       "2     3    Palestine     5266785       6020               847\n",
       "3     4      Lebanon     6856000      10452               656\n",
       "4     5       Taiwan    23604000      36193               652\n",
       "5     6  South Korea    51781000      99538               520\n",
       "6     7       Rwanda    12374000      26338               470\n",
       "7     8        Haiti    11578000      27065               428\n",
       "8     9  Netherlands    17660000      41526               425\n",
       "9    10       Israel     9430000      22072               427"
      ]
     },
     "execution_count": 64,
     "metadata": {},
     "output_type": "execute_result"
    }
   ],
   "source": [
    "pd.read_html(url, match=\"10 most densely populated countries\", flavor='bs4')[0]"
   ]
  },
  {
   "cell_type": "markdown",
   "metadata": {},
   "source": [
    "## Authors\n"
   ]
  },
  {
   "cell_type": "markdown",
   "metadata": {},
   "source": [
    "Ramesh Sannareddy\n"
   ]
  },
  {
   "cell_type": "markdown",
   "metadata": {},
   "source": [
    "### Other Contributors\n"
   ]
  },
  {
   "cell_type": "markdown",
   "metadata": {},
   "source": [
    "Rav Ahuja\n"
   ]
  },
  {
   "cell_type": "markdown",
   "metadata": {},
   "source": [
    "## Change Log\n"
   ]
  },
  {
   "cell_type": "markdown",
   "metadata": {},
   "source": [
    "| Date (YYYY-MM-DD) | Version | Changed By                                               | Change Description |\n",
    "| ----------------- | ------- | -------------------------------------------------------- | ------------------ |\n",
    "| 2021-08-04        | 0.2     | Made changes to markdown of nextsibling                  |                    |\n",
    "| 2020-10-17        | 0.1     | Joseph Santarcangelo  Created initial version of the lab |                    |\n"
   ]
  },
  {
   "cell_type": "markdown",
   "metadata": {},
   "source": [
    "Copyright © 2020 IBM Corporation. This notebook and its source code are released under the terms of the [MIT License](https://cognitiveclass.ai/mit-license?utm_medium=Exinfluencer&utm_source=Exinfluencer&utm_content=000026UJ&utm_term=10006555&utm_id=NA-SkillsNetwork-Channel-SkillsNetworkCoursesIBMDeveloperSkillsNetworkPY0220ENSkillsNetwork23455606-2021-01-01&cm_mmc=Email_Newsletter-_-Developer_Ed%2BTech-_-WW_WW-_-SkillsNetwork-Courses-IBMDeveloperSkillsNetwork-PY0101EN-SkillsNetwork-19487395&cm_mmca1=000026UJ&cm_mmca2=10006555&cm_mmca3=M12345678&cvosrc=email.Newsletter.M12345678&cvo_campaign=000026UJ).\n"
   ]
  },
  {
   "cell_type": "code",
   "execution_count": null,
   "metadata": {},
   "outputs": [],
   "source": []
  },
  {
   "cell_type": "code",
   "execution_count": null,
   "metadata": {},
   "outputs": [],
   "source": []
  }
 ],
 "metadata": {
  "kernelspec": {
   "display_name": "Python",
   "language": "python",
   "name": "conda-env-python-py"
  },
  "language_info": {
   "codemirror_mode": {
    "name": "ipython",
    "version": 3
   },
   "file_extension": ".py",
   "mimetype": "text/x-python",
   "name": "python",
   "nbconvert_exporter": "python",
   "pygments_lexer": "ipython3",
   "version": "3.7.12"
  }
 },
 "nbformat": 4,
 "nbformat_minor": 4
}
